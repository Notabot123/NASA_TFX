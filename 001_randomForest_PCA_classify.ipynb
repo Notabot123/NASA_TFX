{
 "cells": [
  {
   "cell_type": "markdown",
   "id": "816bb345",
   "metadata": {},
   "source": [
    "# Random Forest Classifier\n",
    "with PCA dimension reduction and Gridsearch"
   ]
  },
  {
   "cell_type": "code",
   "execution_count": 1,
   "id": "c50a4e4d",
   "metadata": {
    "_cell_guid": "b1076dfc-b9ad-4769-8c92-a6c4dae69d19",
    "_uuid": "8f2839f25d086af736a60e9eeb907d3b93b6e0e5",
    "papermill": {
     "duration": 0.046643,
     "end_time": "2022-08-13T14:02:40.105696",
     "exception": false,
     "start_time": "2022-08-13T14:02:40.059053",
     "status": "completed"
    },
    "tags": []
   },
   "outputs": [],
   "source": [
    "import numpy as np # numbers and algebra in python\n",
    "import pandas as pd # tables and processing tabular data\n"
   ]
  },
  {
   "cell_type": "code",
   "execution_count": 2,
   "id": "aec09c68",
   "metadata": {
    "papermill": {
     "duration": 6.704445,
     "end_time": "2022-08-13T14:02:46.815675",
     "exception": false,
     "start_time": "2022-08-13T14:02:40.111230",
     "status": "completed"
    },
    "tags": []
   },
   "outputs": [],
   "source": [
    "import seaborn as sns\n",
    "import matplotlib.pyplot as plt\n",
    "from sklearn.ensemble import RandomForestClassifier, RandomForestRegressor"
   ]
  },
  {
   "cell_type": "code",
   "execution_count": 3,
   "id": "6024c5ba",
   "metadata": {
    "papermill": {
     "duration": 0.015182,
     "end_time": "2022-08-13T14:02:46.836157",
     "exception": false,
     "start_time": "2022-08-13T14:02:46.820975",
     "status": "completed"
    },
    "tags": []
   },
   "outputs": [],
   "source": [
    "index_names = ['unit_number', 'time_cycles']\n",
    "setting_names = ['setting_1', 'setting_2', 'setting_3']\n",
    "sensor_names = ['s_{}'.format(i+1) for i in range(0,21)]\n",
    "col_names = index_names + setting_names + sensor_names"
   ]
  },
  {
   "cell_type": "code",
   "execution_count": 4,
   "id": "2f7462c5",
   "metadata": {},
   "outputs": [],
   "source": [
    "dirPath = './archive/CMaps/'\n",
    "\n",
    "train = pd.read_csv(dirPath + 'train_FD001.txt',sep='\\s+',names=col_names)\n",
    "test = pd.read_csv(dirPath + 'test_FD001.txt',sep='\\s+',names=col_names)\n",
    "y_test = pd.read_csv(dirPath + 'RUL_FD001.txt',sep='\\s+',header=None)\n"
   ]
  },
  {
   "cell_type": "code",
   "execution_count": 5,
   "id": "98079c02",
   "metadata": {
    "papermill": {
     "duration": 0.055336,
     "end_time": "2022-08-13T14:02:47.150193",
     "exception": false,
     "start_time": "2022-08-13T14:02:47.094857",
     "status": "completed"
    },
    "tags": []
   },
   "outputs": [
    {
     "data": {
      "text/html": [
       "<div>\n",
       "<style scoped>\n",
       "    .dataframe tbody tr th:only-of-type {\n",
       "        vertical-align: middle;\n",
       "    }\n",
       "\n",
       "    .dataframe tbody tr th {\n",
       "        vertical-align: top;\n",
       "    }\n",
       "\n",
       "    .dataframe thead th {\n",
       "        text-align: right;\n",
       "    }\n",
       "</style>\n",
       "<table border=\"1\" class=\"dataframe\">\n",
       "  <thead>\n",
       "    <tr style=\"text-align: right;\">\n",
       "      <th></th>\n",
       "      <th>time_cycles</th>\n",
       "    </tr>\n",
       "  </thead>\n",
       "  <tbody>\n",
       "    <tr>\n",
       "      <th>count</th>\n",
       "      <td>100.000000</td>\n",
       "    </tr>\n",
       "    <tr>\n",
       "      <th>mean</th>\n",
       "      <td>206.310000</td>\n",
       "    </tr>\n",
       "    <tr>\n",
       "      <th>std</th>\n",
       "      <td>46.342749</td>\n",
       "    </tr>\n",
       "    <tr>\n",
       "      <th>min</th>\n",
       "      <td>128.000000</td>\n",
       "    </tr>\n",
       "    <tr>\n",
       "      <th>25%</th>\n",
       "      <td>177.000000</td>\n",
       "    </tr>\n",
       "    <tr>\n",
       "      <th>50%</th>\n",
       "      <td>199.000000</td>\n",
       "    </tr>\n",
       "    <tr>\n",
       "      <th>75%</th>\n",
       "      <td>229.250000</td>\n",
       "    </tr>\n",
       "    <tr>\n",
       "      <th>max</th>\n",
       "      <td>362.000000</td>\n",
       "    </tr>\n",
       "  </tbody>\n",
       "</table>\n",
       "</div>"
      ],
      "text/plain": [
       "       time_cycles\n",
       "count   100.000000\n",
       "mean    206.310000\n",
       "std      46.342749\n",
       "min     128.000000\n",
       "25%     177.000000\n",
       "50%     199.000000\n",
       "75%     229.250000\n",
       "max     362.000000"
      ]
     },
     "execution_count": 5,
     "metadata": {},
     "output_type": "execute_result"
    }
   ],
   "source": [
    "train[index_names].groupby('unit_number').max().describe()"
   ]
  },
  {
   "cell_type": "code",
   "execution_count": 6,
   "id": "48283f95",
   "metadata": {
    "papermill": {
     "duration": 0.186824,
     "end_time": "2022-08-13T14:02:47.342634",
     "exception": false,
     "start_time": "2022-08-13T14:02:47.155810",
     "status": "completed"
    },
    "tags": []
   },
   "outputs": [],
   "source": [
    "def gate_the_RUL(train,cap=150):\n",
    "    # Rectifier\n",
    "    train['RUL'] = np.minimum(train['RUL'],cap)\n",
    "    return train\n",
    "\n",
    "def add_remaining_useful_life(df):\n",
    "    # Get the total number of cycles for each unit\n",
    "    grouped_by_unit = df.groupby(by=\"unit_number\")\n",
    "    max_cycle = grouped_by_unit[\"time_cycles\"].max()\n",
    "    \n",
    "    # Merge the max cycle back into the original frame\n",
    "    result_frame = df.merge(max_cycle.to_frame(name='max_cycle'), left_on='unit_number', right_index=True)\n",
    "    \n",
    "    # Calculate remaining useful life for each row\n",
    "    remaining_useful_life = result_frame[\"max_cycle\"] - result_frame[\"time_cycles\"]\n",
    "    result_frame[\"RUL\"] = remaining_useful_life\n",
    "    \n",
    "    # drop max_cycle as it's no longer needed\n",
    "    result_frame = result_frame.drop(\"max_cycle\", axis=1)\n",
    "    return result_frame"
   ]
  },
  {
   "cell_type": "markdown",
   "id": "b23179c0",
   "metadata": {},
   "source": [
    "As we discussed previously, we can gate the RUL during training if we \"don't care about it above a threshold\".\n",
    "Consider histograms later in this script to understand why"
   ]
  },
  {
   "cell_type": "code",
   "execution_count": 7,
   "id": "02545d8e",
   "metadata": {
    "papermill": {
     "duration": 0.050402,
     "end_time": "2022-08-13T14:02:47.398596",
     "exception": false,
     "start_time": "2022-08-13T14:02:47.348194",
     "status": "completed"
    },
    "tags": []
   },
   "outputs": [
    {
     "data": {
      "text/html": [
       "<div>\n",
       "<style scoped>\n",
       "    .dataframe tbody tr th:only-of-type {\n",
       "        vertical-align: middle;\n",
       "    }\n",
       "\n",
       "    .dataframe tbody tr th {\n",
       "        vertical-align: top;\n",
       "    }\n",
       "\n",
       "    .dataframe thead th {\n",
       "        text-align: right;\n",
       "    }\n",
       "</style>\n",
       "<table border=\"1\" class=\"dataframe\">\n",
       "  <thead>\n",
       "    <tr style=\"text-align: right;\">\n",
       "      <th></th>\n",
       "      <th>unit_number</th>\n",
       "      <th>time_cycles</th>\n",
       "      <th>RUL</th>\n",
       "    </tr>\n",
       "  </thead>\n",
       "  <tbody>\n",
       "    <tr>\n",
       "      <th>0</th>\n",
       "      <td>1</td>\n",
       "      <td>1</td>\n",
       "      <td>150</td>\n",
       "    </tr>\n",
       "    <tr>\n",
       "      <th>1</th>\n",
       "      <td>1</td>\n",
       "      <td>2</td>\n",
       "      <td>150</td>\n",
       "    </tr>\n",
       "    <tr>\n",
       "      <th>2</th>\n",
       "      <td>1</td>\n",
       "      <td>3</td>\n",
       "      <td>150</td>\n",
       "    </tr>\n",
       "    <tr>\n",
       "      <th>3</th>\n",
       "      <td>1</td>\n",
       "      <td>4</td>\n",
       "      <td>150</td>\n",
       "    </tr>\n",
       "    <tr>\n",
       "      <th>4</th>\n",
       "      <td>1</td>\n",
       "      <td>5</td>\n",
       "      <td>150</td>\n",
       "    </tr>\n",
       "    <tr>\n",
       "      <th>...</th>\n",
       "      <td>...</td>\n",
       "      <td>...</td>\n",
       "      <td>...</td>\n",
       "    </tr>\n",
       "    <tr>\n",
       "      <th>20626</th>\n",
       "      <td>100</td>\n",
       "      <td>196</td>\n",
       "      <td>4</td>\n",
       "    </tr>\n",
       "    <tr>\n",
       "      <th>20627</th>\n",
       "      <td>100</td>\n",
       "      <td>197</td>\n",
       "      <td>3</td>\n",
       "    </tr>\n",
       "    <tr>\n",
       "      <th>20628</th>\n",
       "      <td>100</td>\n",
       "      <td>198</td>\n",
       "      <td>2</td>\n",
       "    </tr>\n",
       "    <tr>\n",
       "      <th>20629</th>\n",
       "      <td>100</td>\n",
       "      <td>199</td>\n",
       "      <td>1</td>\n",
       "    </tr>\n",
       "    <tr>\n",
       "      <th>20630</th>\n",
       "      <td>100</td>\n",
       "      <td>200</td>\n",
       "      <td>0</td>\n",
       "    </tr>\n",
       "  </tbody>\n",
       "</table>\n",
       "<p>20631 rows × 3 columns</p>\n",
       "</div>"
      ],
      "text/plain": [
       "       unit_number  time_cycles  RUL\n",
       "0                1            1  150\n",
       "1                1            2  150\n",
       "2                1            3  150\n",
       "3                1            4  150\n",
       "4                1            5  150\n",
       "...            ...          ...  ...\n",
       "20626          100          196    4\n",
       "20627          100          197    3\n",
       "20628          100          198    2\n",
       "20629          100          199    1\n",
       "20630          100          200    0\n",
       "\n",
       "[20631 rows x 3 columns]"
      ]
     },
     "execution_count": 7,
     "metadata": {},
     "output_type": "execute_result"
    }
   ],
   "source": [
    "train = add_remaining_useful_life(train)\n",
    "train = gate_the_RUL(train,cap=150)\n",
    "\n",
    "train[index_names+['RUL']] # last thing in cell prints out"
   ]
  },
  {
   "cell_type": "code",
   "execution_count": 8,
   "id": "becd4570-2910-4d3c-95d1-362c2d938572",
   "metadata": {},
   "outputs": [
    {
     "data": {
      "image/png": "[encoded data removed]",
      "text/plain": [
       "<Figure size 432x288 with 64 Axes>"
      ]
     },
     "metadata": {
      "needs_background": "light"
     },
     "output_type": "display_data"
    }
   ],
   "source": [
    "# Here are a small selection of useful looking signals, along with our taregt (RUL)\n",
    "good_sensors = ['s_2', 's_3', 's_4', 's_7', 's_8','s_14','s_15']\n",
    "pd.plotting.scatter_matrix(train.loc[:,good_sensors + [\"RUL\"]], alpha=0.2)\n",
    "plt.show()"
   ]
  },
  {
   "cell_type": "code",
   "execution_count": 9,
   "id": "5d0d7f31",
   "metadata": {},
   "outputs": [
    {
     "data": {
      "image/png": "[encoded data removed]",
      "text/plain": [
       "<Figure size 432x288 with 49 Axes>"
      ]
     },
     "metadata": {
      "needs_background": "light"
     },
     "output_type": "display_data"
    }
   ],
   "source": [
    "# these seem not worth keeping\n",
    "import warnings\n",
    "warnings.filterwarnings(\"ignore\")\n",
    "# drop_sensors = ['s_1','s_5','s_16','s_18','s_19'] # as per last week..\n",
    "drop_sensors = ['s_1','s_5','s_6','s_10','s_16','s_18','s_19'] # new bad signals noted. \n",
    "\n",
    "pd.plotting.scatter_matrix(train.loc[:,drop_sensors])\n",
    "plt.show()"
   ]
  },
  {
   "cell_type": "code",
   "execution_count": 10,
   "id": "b400d396",
   "metadata": {
    "papermill": {
     "duration": 0.015903,
     "end_time": "2022-08-13T14:02:47.420379",
     "exception": false,
     "start_time": "2022-08-13T14:02:47.404476",
     "status": "completed"
    },
    "tags": []
   },
   "outputs": [],
   "source": [
    "drop_labels = setting_names+drop_sensors\n"
   ]
  },
  {
   "cell_type": "code",
   "execution_count": 11,
   "id": "c68347d7",
   "metadata": {
    "papermill": {
     "duration": 0.016502,
     "end_time": "2022-08-13T14:02:47.442394",
     "exception": false,
     "start_time": "2022-08-13T14:02:47.425892",
     "status": "completed"
    },
    "tags": []
   },
   "outputs": [],
   "source": [
    "X_train = train.drop(drop_labels, axis=1)\n",
    "y_train = X_train.pop('RUL')"
   ]
  },
  {
   "cell_type": "code",
   "execution_count": 12,
   "id": "583c90fc",
   "metadata": {
    "papermill": {
     "duration": 0.022391,
     "end_time": "2022-08-13T14:02:47.470350",
     "exception": false,
     "start_time": "2022-08-13T14:02:47.447959",
     "status": "completed"
    },
    "tags": []
   },
   "outputs": [],
   "source": [
    "X_test = test.groupby('unit_number').last().reset_index().drop(drop_labels, axis=1)"
   ]
  },
  {
   "cell_type": "code",
   "execution_count": 13,
   "id": "8e6591f3",
   "metadata": {
    "papermill": {
     "duration": 0.040707,
     "end_time": "2022-08-13T14:02:47.516620",
     "exception": false,
     "start_time": "2022-08-13T14:02:47.475913",
     "status": "completed"
    },
    "tags": []
   },
   "outputs": [
    {
     "data": {
      "text/html": [
       "<div>\n",
       "<style scoped>\n",
       "    .dataframe tbody tr th:only-of-type {\n",
       "        vertical-align: middle;\n",
       "    }\n",
       "\n",
       "    .dataframe tbody tr th {\n",
       "        vertical-align: top;\n",
       "    }\n",
       "\n",
       "    .dataframe thead th {\n",
       "        text-align: right;\n",
       "    }\n",
       "</style>\n",
       "<table border=\"1\" class=\"dataframe\">\n",
       "  <thead>\n",
       "    <tr style=\"text-align: right;\">\n",
       "      <th></th>\n",
       "      <th>unit_number</th>\n",
       "      <th>time_cycles</th>\n",
       "      <th>s_2</th>\n",
       "      <th>s_3</th>\n",
       "      <th>s_4</th>\n",
       "      <th>s_7</th>\n",
       "      <th>s_8</th>\n",
       "      <th>s_9</th>\n",
       "      <th>s_11</th>\n",
       "      <th>s_12</th>\n",
       "      <th>s_13</th>\n",
       "      <th>s_14</th>\n",
       "      <th>s_15</th>\n",
       "      <th>s_17</th>\n",
       "      <th>s_20</th>\n",
       "      <th>s_21</th>\n",
       "    </tr>\n",
       "  </thead>\n",
       "  <tbody>\n",
       "    <tr>\n",
       "      <th>0</th>\n",
       "      <td>1</td>\n",
       "      <td>31</td>\n",
       "      <td>642.58</td>\n",
       "      <td>1581.22</td>\n",
       "      <td>1398.91</td>\n",
       "      <td>554.42</td>\n",
       "      <td>2388.08</td>\n",
       "      <td>9056.40</td>\n",
       "      <td>47.23</td>\n",
       "      <td>521.79</td>\n",
       "      <td>2388.06</td>\n",
       "      <td>8130.11</td>\n",
       "      <td>8.4024</td>\n",
       "      <td>393</td>\n",
       "      <td>38.81</td>\n",
       "      <td>23.3552</td>\n",
       "    </tr>\n",
       "    <tr>\n",
       "      <th>1</th>\n",
       "      <td>2</td>\n",
       "      <td>49</td>\n",
       "      <td>642.55</td>\n",
       "      <td>1586.59</td>\n",
       "      <td>1410.83</td>\n",
       "      <td>553.52</td>\n",
       "      <td>2388.10</td>\n",
       "      <td>9044.77</td>\n",
       "      <td>47.67</td>\n",
       "      <td>521.74</td>\n",
       "      <td>2388.09</td>\n",
       "      <td>8126.90</td>\n",
       "      <td>8.4505</td>\n",
       "      <td>391</td>\n",
       "      <td>38.81</td>\n",
       "      <td>23.2618</td>\n",
       "    </tr>\n",
       "    <tr>\n",
       "      <th>2</th>\n",
       "      <td>3</td>\n",
       "      <td>126</td>\n",
       "      <td>642.88</td>\n",
       "      <td>1589.75</td>\n",
       "      <td>1418.89</td>\n",
       "      <td>552.59</td>\n",
       "      <td>2388.16</td>\n",
       "      <td>9049.26</td>\n",
       "      <td>47.88</td>\n",
       "      <td>520.83</td>\n",
       "      <td>2388.14</td>\n",
       "      <td>8131.46</td>\n",
       "      <td>8.4119</td>\n",
       "      <td>395</td>\n",
       "      <td>38.93</td>\n",
       "      <td>23.2740</td>\n",
       "    </tr>\n",
       "    <tr>\n",
       "      <th>3</th>\n",
       "      <td>4</td>\n",
       "      <td>106</td>\n",
       "      <td>642.78</td>\n",
       "      <td>1594.53</td>\n",
       "      <td>1406.88</td>\n",
       "      <td>552.64</td>\n",
       "      <td>2388.13</td>\n",
       "      <td>9051.30</td>\n",
       "      <td>47.65</td>\n",
       "      <td>521.88</td>\n",
       "      <td>2388.11</td>\n",
       "      <td>8133.64</td>\n",
       "      <td>8.4634</td>\n",
       "      <td>395</td>\n",
       "      <td>38.58</td>\n",
       "      <td>23.2581</td>\n",
       "    </tr>\n",
       "    <tr>\n",
       "      <th>4</th>\n",
       "      <td>5</td>\n",
       "      <td>98</td>\n",
       "      <td>642.27</td>\n",
       "      <td>1589.94</td>\n",
       "      <td>1419.36</td>\n",
       "      <td>553.29</td>\n",
       "      <td>2388.10</td>\n",
       "      <td>9053.99</td>\n",
       "      <td>47.46</td>\n",
       "      <td>521.00</td>\n",
       "      <td>2388.15</td>\n",
       "      <td>8125.74</td>\n",
       "      <td>8.4362</td>\n",
       "      <td>394</td>\n",
       "      <td>38.75</td>\n",
       "      <td>23.4117</td>\n",
       "    </tr>\n",
       "    <tr>\n",
       "      <th>...</th>\n",
       "      <td>...</td>\n",
       "      <td>...</td>\n",
       "      <td>...</td>\n",
       "      <td>...</td>\n",
       "      <td>...</td>\n",
       "      <td>...</td>\n",
       "      <td>...</td>\n",
       "      <td>...</td>\n",
       "      <td>...</td>\n",
       "      <td>...</td>\n",
       "      <td>...</td>\n",
       "      <td>...</td>\n",
       "      <td>...</td>\n",
       "      <td>...</td>\n",
       "      <td>...</td>\n",
       "      <td>...</td>\n",
       "    </tr>\n",
       "    <tr>\n",
       "      <th>95</th>\n",
       "      <td>96</td>\n",
       "      <td>97</td>\n",
       "      <td>642.30</td>\n",
       "      <td>1590.88</td>\n",
       "      <td>1397.94</td>\n",
       "      <td>553.99</td>\n",
       "      <td>2388.03</td>\n",
       "      <td>9062.41</td>\n",
       "      <td>47.14</td>\n",
       "      <td>522.30</td>\n",
       "      <td>2388.01</td>\n",
       "      <td>8148.24</td>\n",
       "      <td>8.4110</td>\n",
       "      <td>391</td>\n",
       "      <td>38.96</td>\n",
       "      <td>23.4606</td>\n",
       "    </tr>\n",
       "    <tr>\n",
       "      <th>96</th>\n",
       "      <td>97</td>\n",
       "      <td>134</td>\n",
       "      <td>642.59</td>\n",
       "      <td>1582.96</td>\n",
       "      <td>1410.92</td>\n",
       "      <td>554.05</td>\n",
       "      <td>2388.06</td>\n",
       "      <td>9076.36</td>\n",
       "      <td>47.38</td>\n",
       "      <td>521.58</td>\n",
       "      <td>2388.06</td>\n",
       "      <td>8155.48</td>\n",
       "      <td>8.4500</td>\n",
       "      <td>395</td>\n",
       "      <td>38.61</td>\n",
       "      <td>23.2953</td>\n",
       "    </tr>\n",
       "    <tr>\n",
       "      <th>97</th>\n",
       "      <td>98</td>\n",
       "      <td>121</td>\n",
       "      <td>642.68</td>\n",
       "      <td>1599.51</td>\n",
       "      <td>1415.47</td>\n",
       "      <td>553.44</td>\n",
       "      <td>2388.13</td>\n",
       "      <td>9062.34</td>\n",
       "      <td>47.66</td>\n",
       "      <td>521.53</td>\n",
       "      <td>2388.09</td>\n",
       "      <td>8146.39</td>\n",
       "      <td>8.4235</td>\n",
       "      <td>394</td>\n",
       "      <td>38.76</td>\n",
       "      <td>23.3608</td>\n",
       "    </tr>\n",
       "    <tr>\n",
       "      <th>98</th>\n",
       "      <td>99</td>\n",
       "      <td>97</td>\n",
       "      <td>642.00</td>\n",
       "      <td>1585.03</td>\n",
       "      <td>1397.98</td>\n",
       "      <td>554.75</td>\n",
       "      <td>2388.01</td>\n",
       "      <td>9067.16</td>\n",
       "      <td>47.26</td>\n",
       "      <td>521.82</td>\n",
       "      <td>2388.02</td>\n",
       "      <td>8150.38</td>\n",
       "      <td>8.4003</td>\n",
       "      <td>391</td>\n",
       "      <td>38.95</td>\n",
       "      <td>23.3595</td>\n",
       "    </tr>\n",
       "    <tr>\n",
       "      <th>99</th>\n",
       "      <td>100</td>\n",
       "      <td>198</td>\n",
       "      <td>642.95</td>\n",
       "      <td>1601.62</td>\n",
       "      <td>1424.99</td>\n",
       "      <td>552.48</td>\n",
       "      <td>2388.06</td>\n",
       "      <td>9155.03</td>\n",
       "      <td>47.80</td>\n",
       "      <td>521.07</td>\n",
       "      <td>2388.05</td>\n",
       "      <td>8214.64</td>\n",
       "      <td>8.4903</td>\n",
       "      <td>396</td>\n",
       "      <td>38.70</td>\n",
       "      <td>23.1855</td>\n",
       "    </tr>\n",
       "  </tbody>\n",
       "</table>\n",
       "<p>100 rows × 16 columns</p>\n",
       "</div>"
      ],
      "text/plain": [
       "    unit_number  time_cycles     s_2      s_3      s_4     s_7      s_8  \\\n",
       "0             1           31  642.58  1581.22  1398.91  554.42  2388.08   \n",
       "1             2           49  642.55  1586.59  1410.83  553.52  2388.10   \n",
       "2             3          126  642.88  1589.75  1418.89  552.59  2388.16   \n",
       "3             4          106  642.78  1594.53  1406.88  552.64  2388.13   \n",
       "4             5           98  642.27  1589.94  1419.36  553.29  2388.10   \n",
       "..          ...          ...     ...      ...      ...     ...      ...   \n",
       "95           96           97  642.30  1590.88  1397.94  553.99  2388.03   \n",
       "96           97          134  642.59  1582.96  1410.92  554.05  2388.06   \n",
       "97           98          121  642.68  1599.51  1415.47  553.44  2388.13   \n",
       "98           99           97  642.00  1585.03  1397.98  554.75  2388.01   \n",
       "99          100          198  642.95  1601.62  1424.99  552.48  2388.06   \n",
       "\n",
       "        s_9   s_11    s_12     s_13     s_14    s_15  s_17   s_20     s_21  \n",
       "0   9056.40  47.23  521.79  2388.06  8130.11  8.4024   393  38.81  23.3552  \n",
       "1   9044.77  47.67  521.74  2388.09  8126.90  8.4505   391  38.81  23.2618  \n",
       "2   9049.26  47.88  520.83  2388.14  8131.46  8.4119   395  38.93  23.2740  \n",
       "3   9051.30  47.65  521.88  2388.11  8133.64  8.4634   395  38.58  23.2581  \n",
       "4   9053.99  47.46  521.00  2388.15  8125.74  8.4362   394  38.75  23.4117  \n",
       "..      ...    ...     ...      ...      ...     ...   ...    ...      ...  \n",
       "95  9062.41  47.14  522.30  2388.01  8148.24  8.4110   391  38.96  23.4606  \n",
       "96  9076.36  47.38  521.58  2388.06  8155.48  8.4500   395  38.61  23.2953  \n",
       "97  9062.34  47.66  521.53  2388.09  8146.39  8.4235   394  38.76  23.3608  \n",
       "98  9067.16  47.26  521.82  2388.02  8150.38  8.4003   391  38.95  23.3595  \n",
       "99  9155.03  47.80  521.07  2388.05  8214.64  8.4903   396  38.70  23.1855  \n",
       "\n",
       "[100 rows x 16 columns]"
      ]
     },
     "execution_count": 13,
     "metadata": {},
     "output_type": "execute_result"
    }
   ],
   "source": [
    "X_test"
   ]
  },
  {
   "cell_type": "markdown",
   "id": "53c13154",
   "metadata": {},
   "source": [
    "If we wished to investigate whether moving averages would help on the training data, remove \"\"\" in the cell below.\n"
   ]
  },
  {
   "cell_type": "code",
   "execution_count": 14,
   "id": "c84b7be5",
   "metadata": {},
   "outputs": [
    {
     "data": {
      "text/html": [
       "<div>\n",
       "<style scoped>\n",
       "    .dataframe tbody tr th:only-of-type {\n",
       "        vertical-align: middle;\n",
       "    }\n",
       "\n",
       "    .dataframe tbody tr th {\n",
       "        vertical-align: top;\n",
       "    }\n",
       "\n",
       "    .dataframe thead th {\n",
       "        text-align: right;\n",
       "    }\n",
       "</style>\n",
       "<table border=\"1\" class=\"dataframe\">\n",
       "  <thead>\n",
       "    <tr style=\"text-align: right;\">\n",
       "      <th></th>\n",
       "      <th>unit_number</th>\n",
       "      <th>time_cycles</th>\n",
       "      <th>s_2</th>\n",
       "      <th>s_3</th>\n",
       "      <th>s_4</th>\n",
       "      <th>s_7</th>\n",
       "      <th>s_8</th>\n",
       "      <th>s_9</th>\n",
       "      <th>s_11</th>\n",
       "      <th>s_12</th>\n",
       "      <th>s_13</th>\n",
       "      <th>s_14</th>\n",
       "      <th>s_15</th>\n",
       "      <th>s_17</th>\n",
       "      <th>s_20</th>\n",
       "      <th>s_21</th>\n",
       "    </tr>\n",
       "  </thead>\n",
       "  <tbody>\n",
       "    <tr>\n",
       "      <th>0</th>\n",
       "      <td>1.0</td>\n",
       "      <td>1.0</td>\n",
       "      <td>641.820000</td>\n",
       "      <td>1589.700000</td>\n",
       "      <td>1400.600000</td>\n",
       "      <td>554.360000</td>\n",
       "      <td>2388.0600</td>\n",
       "      <td>9046.190000</td>\n",
       "      <td>47.470</td>\n",
       "      <td>521.660</td>\n",
       "      <td>2388.020</td>\n",
       "      <td>8138.620000</td>\n",
       "      <td>8.419500</td>\n",
       "      <td>392.000000</td>\n",
       "      <td>39.060000</td>\n",
       "      <td>23.419000</td>\n",
       "    </tr>\n",
       "    <tr>\n",
       "      <th>1</th>\n",
       "      <td>1.0</td>\n",
       "      <td>1.5</td>\n",
       "      <td>641.985000</td>\n",
       "      <td>1590.760000</td>\n",
       "      <td>1401.870000</td>\n",
       "      <td>554.055000</td>\n",
       "      <td>2388.0500</td>\n",
       "      <td>9045.130000</td>\n",
       "      <td>47.480</td>\n",
       "      <td>521.970</td>\n",
       "      <td>2388.045</td>\n",
       "      <td>8135.055000</td>\n",
       "      <td>8.425650</td>\n",
       "      <td>392.000000</td>\n",
       "      <td>39.030000</td>\n",
       "      <td>23.421300</td>\n",
       "    </tr>\n",
       "    <tr>\n",
       "      <th>2</th>\n",
       "      <td>1.0</td>\n",
       "      <td>2.0</td>\n",
       "      <td>642.106667</td>\n",
       "      <td>1589.836667</td>\n",
       "      <td>1402.646667</td>\n",
       "      <td>554.123333</td>\n",
       "      <td>2388.0600</td>\n",
       "      <td>9047.733333</td>\n",
       "      <td>47.410</td>\n",
       "      <td>522.120</td>\n",
       "      <td>2388.040</td>\n",
       "      <td>8134.446667</td>\n",
       "      <td>8.423033</td>\n",
       "      <td>391.333333</td>\n",
       "      <td>39.003333</td>\n",
       "      <td>23.395600</td>\n",
       "    </tr>\n",
       "    <tr>\n",
       "      <th>3</th>\n",
       "      <td>1.0</td>\n",
       "      <td>2.5</td>\n",
       "      <td>642.167500</td>\n",
       "      <td>1588.075000</td>\n",
       "      <td>1402.452500</td>\n",
       "      <td>554.205000</td>\n",
       "      <td>2388.0725</td>\n",
       "      <td>9048.170000</td>\n",
       "      <td>47.340</td>\n",
       "      <td>522.305</td>\n",
       "      <td>2388.050</td>\n",
       "      <td>8134.292500</td>\n",
       "      <td>8.409325</td>\n",
       "      <td>391.500000</td>\n",
       "      <td>38.972500</td>\n",
       "      <td>23.390175</td>\n",
       "    </tr>\n",
       "    <tr>\n",
       "      <th>4</th>\n",
       "      <td>1.0</td>\n",
       "      <td>3.0</td>\n",
       "      <td>642.208000</td>\n",
       "      <td>1587.030000</td>\n",
       "      <td>1403.206000</td>\n",
       "      <td>554.164000</td>\n",
       "      <td>2388.0700</td>\n",
       "      <td>9049.566000</td>\n",
       "      <td>47.328</td>\n",
       "      <td>522.282</td>\n",
       "      <td>2388.048</td>\n",
       "      <td>8134.194000</td>\n",
       "      <td>8.413340</td>\n",
       "      <td>391.800000</td>\n",
       "      <td>38.958000</td>\n",
       "      <td>23.393020</td>\n",
       "    </tr>\n",
       "    <tr>\n",
       "      <th>...</th>\n",
       "      <td>...</td>\n",
       "      <td>...</td>\n",
       "      <td>...</td>\n",
       "      <td>...</td>\n",
       "      <td>...</td>\n",
       "      <td>...</td>\n",
       "      <td>...</td>\n",
       "      <td>...</td>\n",
       "      <td>...</td>\n",
       "      <td>...</td>\n",
       "      <td>...</td>\n",
       "      <td>...</td>\n",
       "      <td>...</td>\n",
       "      <td>...</td>\n",
       "      <td>...</td>\n",
       "      <td>...</td>\n",
       "    </tr>\n",
       "    <tr>\n",
       "      <th>20626</th>\n",
       "      <td>100.0</td>\n",
       "      <td>194.0</td>\n",
       "      <td>643.448000</td>\n",
       "      <td>1599.270000</td>\n",
       "      <td>1427.270000</td>\n",
       "      <td>551.604000</td>\n",
       "      <td>2388.2220</td>\n",
       "      <td>9066.416000</td>\n",
       "      <td>48.156</td>\n",
       "      <td>519.890</td>\n",
       "      <td>2388.232</td>\n",
       "      <td>8141.130000</td>\n",
       "      <td>8.520120</td>\n",
       "      <td>395.800000</td>\n",
       "      <td>38.408000</td>\n",
       "      <td>23.079640</td>\n",
       "    </tr>\n",
       "    <tr>\n",
       "      <th>20627</th>\n",
       "      <td>100.0</td>\n",
       "      <td>195.0</td>\n",
       "      <td>643.450000</td>\n",
       "      <td>1599.924000</td>\n",
       "      <td>1430.090000</td>\n",
       "      <td>551.548000</td>\n",
       "      <td>2388.2340</td>\n",
       "      <td>9067.348000</td>\n",
       "      <td>48.128</td>\n",
       "      <td>519.708</td>\n",
       "      <td>2388.234</td>\n",
       "      <td>8139.738000</td>\n",
       "      <td>8.525060</td>\n",
       "      <td>395.400000</td>\n",
       "      <td>38.356000</td>\n",
       "      <td>23.096120</td>\n",
       "    </tr>\n",
       "    <tr>\n",
       "      <th>20628</th>\n",
       "      <td>100.0</td>\n",
       "      <td>196.0</td>\n",
       "      <td>643.516000</td>\n",
       "      <td>1600.454000</td>\n",
       "      <td>1429.940000</td>\n",
       "      <td>551.328000</td>\n",
       "      <td>2388.2240</td>\n",
       "      <td>9067.014000</td>\n",
       "      <td>48.108</td>\n",
       "      <td>519.688</td>\n",
       "      <td>2388.244</td>\n",
       "      <td>8139.544000</td>\n",
       "      <td>8.529500</td>\n",
       "      <td>395.600000</td>\n",
       "      <td>38.350000</td>\n",
       "      <td>23.078180</td>\n",
       "    </tr>\n",
       "    <tr>\n",
       "      <th>20629</th>\n",
       "      <td>100.0</td>\n",
       "      <td>197.0</td>\n",
       "      <td>643.418000</td>\n",
       "      <td>1602.048000</td>\n",
       "      <td>1429.764000</td>\n",
       "      <td>551.066000</td>\n",
       "      <td>2388.2280</td>\n",
       "      <td>9067.988000</td>\n",
       "      <td>48.162</td>\n",
       "      <td>519.712</td>\n",
       "      <td>2388.246</td>\n",
       "      <td>8139.468000</td>\n",
       "      <td>8.532980</td>\n",
       "      <td>395.800000</td>\n",
       "      <td>38.332000</td>\n",
       "      <td>23.064500</td>\n",
       "    </tr>\n",
       "    <tr>\n",
       "      <th>20630</th>\n",
       "      <td>100.0</td>\n",
       "      <td>198.0</td>\n",
       "      <td>643.506000</td>\n",
       "      <td>1602.116000</td>\n",
       "      <td>1429.812000</td>\n",
       "      <td>550.940000</td>\n",
       "      <td>2388.2340</td>\n",
       "      <td>9066.346000</td>\n",
       "      <td>48.158</td>\n",
       "      <td>519.630</td>\n",
       "      <td>2388.242</td>\n",
       "      <td>8138.354000</td>\n",
       "      <td>8.523320</td>\n",
       "      <td>396.200000</td>\n",
       "      <td>38.378000</td>\n",
       "      <td>23.036480</td>\n",
       "    </tr>\n",
       "  </tbody>\n",
       "</table>\n",
       "<p>20631 rows × 16 columns</p>\n",
       "</div>"
      ],
      "text/plain": [
       "       unit_number  time_cycles         s_2          s_3          s_4  \\\n",
       "0              1.0          1.0  641.820000  1589.700000  1400.600000   \n",
       "1              1.0          1.5  641.985000  1590.760000  1401.870000   \n",
       "2              1.0          2.0  642.106667  1589.836667  1402.646667   \n",
       "3              1.0          2.5  642.167500  1588.075000  1402.452500   \n",
       "4              1.0          3.0  642.208000  1587.030000  1403.206000   \n",
       "...            ...          ...         ...          ...          ...   \n",
       "20626        100.0        194.0  643.448000  1599.270000  1427.270000   \n",
       "20627        100.0        195.0  643.450000  1599.924000  1430.090000   \n",
       "20628        100.0        196.0  643.516000  1600.454000  1429.940000   \n",
       "20629        100.0        197.0  643.418000  1602.048000  1429.764000   \n",
       "20630        100.0        198.0  643.506000  1602.116000  1429.812000   \n",
       "\n",
       "              s_7        s_8          s_9    s_11     s_12      s_13  \\\n",
       "0      554.360000  2388.0600  9046.190000  47.470  521.660  2388.020   \n",
       "1      554.055000  2388.0500  9045.130000  47.480  521.970  2388.045   \n",
       "2      554.123333  2388.0600  9047.733333  47.410  522.120  2388.040   \n",
       "3      554.205000  2388.0725  9048.170000  47.340  522.305  2388.050   \n",
       "4      554.164000  2388.0700  9049.566000  47.328  522.282  2388.048   \n",
       "...           ...        ...          ...     ...      ...       ...   \n",
       "20626  551.604000  2388.2220  9066.416000  48.156  519.890  2388.232   \n",
       "20627  551.548000  2388.2340  9067.348000  48.128  519.708  2388.234   \n",
       "20628  551.328000  2388.2240  9067.014000  48.108  519.688  2388.244   \n",
       "20629  551.066000  2388.2280  9067.988000  48.162  519.712  2388.246   \n",
       "20630  550.940000  2388.2340  9066.346000  48.158  519.630  2388.242   \n",
       "\n",
       "              s_14      s_15        s_17       s_20       s_21  \n",
       "0      8138.620000  8.419500  392.000000  39.060000  23.419000  \n",
       "1      8135.055000  8.425650  392.000000  39.030000  23.421300  \n",
       "2      8134.446667  8.423033  391.333333  39.003333  23.395600  \n",
       "3      8134.292500  8.409325  391.500000  38.972500  23.390175  \n",
       "4      8134.194000  8.413340  391.800000  38.958000  23.393020  \n",
       "...            ...       ...         ...        ...        ...  \n",
       "20626  8141.130000  8.520120  395.800000  38.408000  23.079640  \n",
       "20627  8139.738000  8.525060  395.400000  38.356000  23.096120  \n",
       "20628  8139.544000  8.529500  395.600000  38.350000  23.078180  \n",
       "20629  8139.468000  8.532980  395.800000  38.332000  23.064500  \n",
       "20630  8138.354000  8.523320  396.200000  38.378000  23.036480  \n",
       "\n",
       "[20631 rows x 16 columns]"
      ]
     },
     "execution_count": 14,
     "metadata": {},
     "output_type": "execute_result"
    }
   ],
   "source": [
    "f = lambda x: x.rolling(5,min_periods=0).mean() #.shift()\n",
    "X_train = X_train.groupby('unit_number').apply(f)\n",
    "X_train"
   ]
  },
  {
   "cell_type": "code",
   "execution_count": 15,
   "id": "6b88c957",
   "metadata": {},
   "outputs": [],
   "source": [
    "# zero-centered normalise (standardise or zscore)\n",
    "# use pipeline instead\n",
    "# X_train = (X_train - np.mean(X_train)) / np.std(X_train)\n",
    "# X_test = (X_test - np.mean(X_test)) / np.std(X_test)"
   ]
  },
  {
   "cell_type": "code",
   "execution_count": 16,
   "id": "7eb1855d",
   "metadata": {},
   "outputs": [
    {
     "name": "stdout",
     "output_type": "stream",
     "text": [
      "[7.66505777e-01 1.34801608e-01 9.03844419e-02 7.33820176e-03\n",
      " 5.09739121e-04 4.05044453e-04 3.78335836e-05 9.57543781e-06]\n"
     ]
    },
    {
     "data": {
      "text/plain": [
       "['pca_1', 'pca_2', 'pca_3', 'pca_4', 'pca_5', 'pca_6', 'pca_7', 'pca_8']"
      ]
     },
     "execution_count": 16,
     "metadata": {},
     "output_type": "execute_result"
    }
   ],
   "source": [
    "from sklearn.decomposition import PCA\n",
    "reduce_dim = 8\n",
    "\n",
    "pca = PCA(n_components=reduce_dim)\n",
    "pca.fit(X_train)\n",
    "\n",
    "print(pca.explained_variance_ratio_)\n",
    "X_train = pca.transform(X_train)\n",
    "X_test = pca.transform(X_test)\n",
    "\n",
    "feature_names = ['pca_{}'.format(i+1) for i in range(0,reduce_dim)]\n",
    "feature_names"
   ]
  },
  {
   "cell_type": "code",
   "execution_count": 17,
   "id": "54b55513",
   "metadata": {},
   "outputs": [],
   "source": [
    "img_rows, img_cols = 1, reduce_dim\n",
    "input_shape = (img_rows, img_cols, 1)"
   ]
  },
  {
   "cell_type": "code",
   "execution_count": 18,
   "id": "5cb6ab5a",
   "metadata": {},
   "outputs": [
    {
     "data": {
      "text/plain": [
       "(20631, 8)"
      ]
     },
     "execution_count": 18,
     "metadata": {},
     "output_type": "execute_result"
    }
   ],
   "source": [
    "X_train.shape"
   ]
  },
  {
   "cell_type": "code",
   "execution_count": 19,
   "id": "79e4197c-7b30-4575-8e5a-286abc9c59de",
   "metadata": {},
   "outputs": [],
   "source": [
    "f = lambda y: y<=30\n",
    "\n",
    "y_train = y_train.apply(f)\n",
    "y_test = y_test.apply(f)\n",
    "y_test = np.squeeze(y_test)\n"
   ]
  },
  {
   "cell_type": "code",
   "execution_count": 20,
   "id": "b4e16dc4-9c15-4150-941a-93a9b0a8cdf1",
   "metadata": {},
   "outputs": [
    {
     "data": {
      "text/plain": [
       "0.15025931850128446"
      ]
     },
     "execution_count": 20,
     "metadata": {},
     "output_type": "execute_result"
    }
   ],
   "source": [
    "np.mean(y_train)"
   ]
  },
  {
   "cell_type": "code",
   "execution_count": 21,
   "id": "b9fab133-60b4-4bbd-a79b-46a40711cbda",
   "metadata": {},
   "outputs": [
    {
     "data": {
      "text/plain": [
       "0.25"
      ]
     },
     "execution_count": 21,
     "metadata": {},
     "output_type": "execute_result"
    }
   ],
   "source": [
    "np.mean(y_test)"
   ]
  },
  {
   "cell_type": "code",
   "execution_count": 22,
   "id": "eddb1372",
   "metadata": {
    "papermill": {
     "duration": 0.02585,
     "end_time": "2022-08-13T14:02:48.835536",
     "exception": false,
     "start_time": "2022-08-13T14:02:48.809686",
     "status": "completed"
    },
    "tags": []
   },
   "outputs": [
    {
     "data": {
      "text/plain": [
       "Pipeline(steps=[('standardscaler', StandardScaler()),\n",
       "                ('randomforestclassifier',\n",
       "                 RandomForestClassifier(max_depth=5, random_state=123))])"
      ]
     },
     "execution_count": 22,
     "metadata": {},
     "output_type": "execute_result"
    }
   ],
   "source": [
    "from sklearn.pipeline import make_pipeline\n",
    "from sklearn.preprocessing import StandardScaler\n",
    "\n",
    "\n",
    "classModel = make_pipeline(StandardScaler(),RandomForestClassifier(max_depth=5, random_state=123))\n",
    "classModel.fit(X_train, y_train)"
   ]
  },
  {
   "cell_type": "code",
   "execution_count": 23,
   "id": "cca73bd3",
   "metadata": {},
   "outputs": [
    {
     "data": {
      "text/plain": [
       "0.9"
      ]
     },
     "execution_count": 23,
     "metadata": {},
     "output_type": "execute_result"
    }
   ],
   "source": [
    "model_pred = classModel.predict(X_test) # inferencing\n",
    "\n",
    "accu = np.mean( y_test == model_pred)\n",
    "accu"
   ]
  },
  {
   "cell_type": "markdown",
   "id": "1bd18114",
   "metadata": {},
   "source": [
    "In the next section we define a custom metric, we manually split and shuffle data"
   ]
  },
  {
   "cell_type": "code",
   "execution_count": 24,
   "id": "dd4b7fe8",
   "metadata": {
    "papermill": {
     "duration": 0.015938,
     "end_time": "2022-08-13T14:03:06.281908",
     "exception": false,
     "start_time": "2022-08-13T14:03:06.265970",
     "status": "completed"
    },
    "tags": []
   },
   "outputs": [
    {
     "data": {
      "text/plain": [
       "array([[75,  0],\n",
       "       [10, 15]], dtype=int64)"
      ]
     },
     "execution_count": 24,
     "metadata": {},
     "output_type": "execute_result"
    },
    {
     "data": {
      "image/png": "[encoded data removed]",
      "text/plain": [
       "<Figure size 432x288 with 2 Axes>"
      ]
     },
     "metadata": {
      "needs_background": "light"
     },
     "output_type": "display_data"
    }
   ],
   "source": [
    "from sklearn.metrics import confusion_matrix, cohen_kappa_score\n",
    "\n",
    "cm = confusion_matrix(np.squeeze(y_test), model_pred)\n",
    "cmplot = sns.heatmap(cm,annot=True,xticklabels=[\"Healthy\",\"Unhealthy\"],yticklabels=[\"Healthy\",\"Unhealthy\"] )\n",
    "cmplot.set_title(\"Confusion Matrix - Random Forest\" )\n",
    "\n",
    "cm"
   ]
  },
  {
   "cell_type": "code",
   "execution_count": 25,
   "id": "7079acb4",
   "metadata": {
    "papermill": {
     "duration": 0.019767,
     "end_time": "2022-08-13T14:03:06.309286",
     "exception": false,
     "start_time": "2022-08-13T14:03:06.289519",
     "status": "completed"
    },
    "tags": []
   },
   "outputs": [
    {
     "data": {
      "text/plain": [
       "0.6923076923076923"
      ]
     },
     "execution_count": 25,
     "metadata": {},
     "output_type": "execute_result"
    }
   ],
   "source": [
    "cohen_kappa_score(y_test, model_pred)"
   ]
  },
  {
   "cell_type": "code",
   "execution_count": 26,
   "id": "1281d5d3",
   "metadata": {},
   "outputs": [
    {
     "data": {
      "image/png": "[encoded data removed]",
      "text/plain": [
       "<Figure size 432x288 with 1 Axes>"
      ]
     },
     "metadata": {
      "needs_background": "light"
     },
     "output_type": "display_data"
    }
   ],
   "source": [
    "from sklearn.metrics import PrecisionRecallDisplay\n",
    "\n",
    "display = PrecisionRecallDisplay.from_estimator(\n",
    "    classModel, X_test, y_test, name=\"rand_forest\"\n",
    ")\n",
    "_ = display.ax_.set_title(\"2-class Precision-Recall curve\")"
   ]
  },
  {
   "cell_type": "code",
   "execution_count": 29,
   "id": "6913c5b6-eb62-4970-a183-0dbf1feb6b26",
   "metadata": {},
   "outputs": [
    {
     "data": {
      "text/html": [
       "<div>\n",
       "<style scoped>\n",
       "    .dataframe tbody tr th:only-of-type {\n",
       "        vertical-align: middle;\n",
       "    }\n",
       "\n",
       "    .dataframe tbody tr th {\n",
       "        vertical-align: top;\n",
       "    }\n",
       "\n",
       "    .dataframe thead th {\n",
       "        text-align: right;\n",
       "    }\n",
       "</style>\n",
       "<table border=\"1\" class=\"dataframe\">\n",
       "  <thead>\n",
       "    <tr style=\"text-align: right;\">\n",
       "      <th></th>\n",
       "      <th>Accuracy</th>\n",
       "      <th>Precision (or PPV)</th>\n",
       "      <th>Recall (senitivity or TPR)</th>\n",
       "      <th>f1 score</th>\n",
       "      <th>AUC_ROC</th>\n",
       "      <th>Specificty (or TNR)</th>\n",
       "      <th>NPV</th>\n",
       "      <th>True Positive</th>\n",
       "      <th>True Negative</th>\n",
       "      <th>False Positive</th>\n",
       "      <th>False Negative</th>\n",
       "    </tr>\n",
       "  </thead>\n",
       "  <tbody>\n",
       "    <tr>\n",
       "      <th>0</th>\n",
       "      <td>0.9</td>\n",
       "      <td>1.0</td>\n",
       "      <td>0.6</td>\n",
       "      <td>0.75</td>\n",
       "      <td>0.8</td>\n",
       "      <td>1.0</td>\n",
       "      <td>0.6</td>\n",
       "      <td>75</td>\n",
       "      <td>15</td>\n",
       "      <td>0</td>\n",
       "      <td>10</td>\n",
       "    </tr>\n",
       "  </tbody>\n",
       "</table>\n",
       "</div>"
      ],
      "text/plain": [
       "   Accuracy  Precision (or PPV)  Recall (senitivity or TPR)  f1 score  \\\n",
       "0       0.9                 1.0                         0.6      0.75   \n",
       "\n",
       "   AUC_ROC  Specificty (or TNR)  NPV  True Positive  True Negative  \\\n",
       "0      0.8                  1.0  0.6             75             15   \n",
       "\n",
       "   False Positive  False Negative  \n",
       "0               0              10  "
      ]
     },
     "execution_count": 29,
     "metadata": {},
     "output_type": "execute_result"
    }
   ],
   "source": [
    "from sklearn.metrics import recall_score, precision_score, accuracy_score, f1_score,roc_auc_score\n",
    "# we could have a nice function for summarising a range of common classification stats\n",
    "def binary_classification_performance(y_test, y_pred):\n",
    "    tp, fp, fn, tn = confusion_matrix(y_test, y_pred).ravel()\n",
    "    accuracy = round(accuracy_score(y_pred = y_pred, y_true = y_test),2)\n",
    "    precision = round(precision_score(y_pred = y_pred, y_true = y_test),2)\n",
    "    recall = round(recall_score(y_pred = y_pred, y_true = y_test),2)\n",
    "    f1_score = round(2*precision*recall/(precision + recall),2)\n",
    "    specificity = round(tn/(tn+fp),2)\n",
    "    npv = round(tn/(tn+fn),2)\n",
    "    auc_roc = round(roc_auc_score(y_score = y_pred, y_true = y_test),2)\n",
    "\n",
    "\n",
    "    result = pd.DataFrame({'Accuracy' : [accuracy],\n",
    "                         'Precision (or PPV)' : [precision],\n",
    "                         'Recall (senitivity or TPR)' : [recall],\n",
    "                         'f1 score' : [f1_score],\n",
    "                         'AUC_ROC' : [auc_roc],\n",
    "                         'Specificty (or TNR)': [specificity],\n",
    "                         'NPV' : [npv],\n",
    "                         'True Positive' : [tp],\n",
    "                         'True Negative' : [tn],\n",
    "                         'False Positive':[fp],\n",
    "                         'False Negative':[fn]})\n",
    "    return result\n",
    "\n",
    "\n",
    "binary_classification_performance(y_test, model_pred)"
   ]
  },
  {
   "cell_type": "code",
   "execution_count": 31,
   "id": "6934727e",
   "metadata": {},
   "outputs": [
    {
     "data": {
      "text/plain": [
       "GridSearchCV(cv=5,\n",
       "             estimator=RandomForestClassifier(max_depth=5, random_state=123),\n",
       "             param_grid={'max_depth': [3, 4, 5], 'n_estimators': [25, 50, 100],\n",
       "                         'random_state': [18]})"
      ]
     },
     "execution_count": 31,
     "metadata": {},
     "output_type": "execute_result"
    }
   ],
   "source": [
    "# outer loop auto-ML\n",
    "# set random state for repeatability\n",
    "from sklearn.model_selection import GridSearchCV\n",
    "## Define Grid \n",
    "grid = { \n",
    "    'n_estimators': [25,50,100],\n",
    "    'max_depth' : [3,4,5],\n",
    "    'random_state' : [18]\n",
    "}\n",
    "\n",
    "## Grid Search function\n",
    "CV_rforest = GridSearchCV(estimator=RandomForestClassifier(max_depth=5, random_state=123), param_grid=grid, cv= 5)\n",
    "CV_rforest.fit(X_train, y_train)\n",
    "## show end time\n"
   ]
  },
  {
   "cell_type": "code",
   "execution_count": 32,
   "id": "bacd3573",
   "metadata": {},
   "outputs": [],
   "source": [
    "model_gs = CV_rforest.best_estimator_\n",
    "model_pred = model_gs.predict(X_test)\n"
   ]
  },
  {
   "cell_type": "code",
   "execution_count": 33,
   "id": "f5e88ffa-c400-4afa-a90e-07611bd70423",
   "metadata": {},
   "outputs": [
    {
     "data": {
      "text/plain": [
       "0.93"
      ]
     },
     "execution_count": 33,
     "metadata": {},
     "output_type": "execute_result"
    }
   ],
   "source": [
    "accu = np.mean( y_test == model_pred)\n",
    "accu"
   ]
  },
  {
   "cell_type": "code",
   "execution_count": 34,
   "id": "aa931c08",
   "metadata": {},
   "outputs": [
    {
     "data": {
      "text/plain": [
       "array([[75,  0],\n",
       "       [ 7, 18]], dtype=int64)"
      ]
     },
     "execution_count": 34,
     "metadata": {},
     "output_type": "execute_result"
    },
    {
     "data": {
      "image/png": "[encoded data removed]",
      "text/plain": [
       "<Figure size 432x288 with 2 Axes>"
      ]
     },
     "metadata": {
      "needs_background": "light"
     },
     "output_type": "display_data"
    }
   ],
   "source": [
    "cm = confusion_matrix(np.squeeze(y_test), model_pred)\n",
    "sns.heatmap(cm,annot=True,xticklabels=[\"Healthy\",\"Unhealthy\"],yticklabels=[\"Healthy\",\"Unhealthy\"] )\n",
    "cm"
   ]
  },
  {
   "cell_type": "code",
   "execution_count": 35,
   "id": "a2b04ed2",
   "metadata": {},
   "outputs": [
    {
     "data": {
      "text/plain": [
       "0.7941176470588236"
      ]
     },
     "execution_count": 35,
     "metadata": {},
     "output_type": "execute_result"
    }
   ],
   "source": [
    "cohen_kappa_score(y_test, model_pred)"
   ]
  },
  {
   "cell_type": "code",
   "execution_count": 36,
   "id": "e6b85fd1-15ba-46de-9213-8c22eb2a6c4d",
   "metadata": {},
   "outputs": [
    {
     "data": {
      "text/html": [
       "<div>\n",
       "<style scoped>\n",
       "    .dataframe tbody tr th:only-of-type {\n",
       "        vertical-align: middle;\n",
       "    }\n",
       "\n",
       "    .dataframe tbody tr th {\n",
       "        vertical-align: top;\n",
       "    }\n",
       "\n",
       "    .dataframe thead th {\n",
       "        text-align: right;\n",
       "    }\n",
       "</style>\n",
       "<table border=\"1\" class=\"dataframe\">\n",
       "  <thead>\n",
       "    <tr style=\"text-align: right;\">\n",
       "      <th></th>\n",
       "      <th>Accuracy</th>\n",
       "      <th>Precision (or PPV)</th>\n",
       "      <th>Recall (senitivity or TPR)</th>\n",
       "      <th>f1 score</th>\n",
       "      <th>AUC_ROC</th>\n",
       "      <th>Specificty (or TNR)</th>\n",
       "      <th>NPV</th>\n",
       "      <th>True Positive</th>\n",
       "      <th>True Negative</th>\n",
       "      <th>False Positive</th>\n",
       "      <th>False Negative</th>\n",
       "    </tr>\n",
       "  </thead>\n",
       "  <tbody>\n",
       "    <tr>\n",
       "      <th>0</th>\n",
       "      <td>0.93</td>\n",
       "      <td>1.0</td>\n",
       "      <td>0.72</td>\n",
       "      <td>0.84</td>\n",
       "      <td>0.86</td>\n",
       "      <td>1.0</td>\n",
       "      <td>0.72</td>\n",
       "      <td>75</td>\n",
       "      <td>18</td>\n",
       "      <td>0</td>\n",
       "      <td>7</td>\n",
       "    </tr>\n",
       "  </tbody>\n",
       "</table>\n",
       "</div>"
      ],
      "text/plain": [
       "   Accuracy  Precision (or PPV)  Recall (senitivity or TPR)  f1 score  \\\n",
       "0      0.93                 1.0                        0.72      0.84   \n",
       "\n",
       "   AUC_ROC  Specificty (or TNR)   NPV  True Positive  True Negative  \\\n",
       "0     0.86                  1.0  0.72             75             18   \n",
       "\n",
       "   False Positive  False Negative  \n",
       "0               0               7  "
      ]
     },
     "execution_count": 36,
     "metadata": {},
     "output_type": "execute_result"
    }
   ],
   "source": [
    "binary_classification_performance(y_test, model_pred)"
   ]
  },
  {
   "cell_type": "markdown",
   "id": "284eceaa",
   "metadata": {},
   "source": [
    "Let's now plot the first tree in our ensemble. Remember there are many weak learners (trees) within the RandomForest model. We can access them by index 0,1,2..\n",
    "Here, I've commented the long printout, leaving just an image of the start of it."
   ]
  },
  {
   "cell_type": "code",
   "execution_count": 37,
   "id": "5ed8adb9",
   "metadata": {},
   "outputs": [],
   "source": [
    "from sklearn import tree\n",
    "# print(tree.export_text(model_gs.estimators_[0]))"
   ]
  },
  {
   "attachments": {
    "5cedaa5a-ceb6-469a-aba1-40c670fbcfd8.png": {
     "image/png": "[encoded data removed]"
    },
    "image.png": {
     "image/png": "[encoded data removed]"
    }
   },
   "cell_type": "markdown",
   "id": "8b5272d0",
   "metadata": {},
   "source": [
    "![image.png](attachment:5cedaa5a-ceb6-469a-aba1-40c670fbcfd8.png)"
   ]
  },
  {
   "cell_type": "code",
   "execution_count": 38,
   "id": "1a574a28",
   "metadata": {},
   "outputs": [
    {
     "data": {
      "image/png": "[encoded data removed]",
      "text/plain": [
       "<Figure size 720x720 with 1 Axes>"
      ]
     },
     "metadata": {
      "needs_background": "light"
     },
     "output_type": "display_data"
    }
   ],
   "source": [
    "fig, ax = plt.subplots(figsize=(10,10))\n",
    "tree.plot_tree(model_gs.estimators_[0], feature_names = feature_names, class_names = str(y_train), filled=True)\n",
    "plt.show()"
   ]
  },
  {
   "cell_type": "markdown",
   "id": "48b7aa2c",
   "metadata": {},
   "source": [
    "How many trees are in our total ensemble?\n",
    "What are the model's (estimator's) parameters, that we could vary/tune?"
   ]
  },
  {
   "cell_type": "code",
   "execution_count": 39,
   "id": "7e7913c8",
   "metadata": {},
   "outputs": [
    {
     "data": {
      "text/plain": [
       "25"
      ]
     },
     "execution_count": 39,
     "metadata": {},
     "output_type": "execute_result"
    }
   ],
   "source": [
    "len(model_gs.estimators_)"
   ]
  },
  {
   "cell_type": "code",
   "execution_count": 40,
   "id": "6745cb0a",
   "metadata": {},
   "outputs": [
    {
     "name": "stdout",
     "output_type": "stream",
     "text": [
      "('criterion', 'max_depth', 'min_samples_split', 'min_samples_leaf', 'min_weight_fraction_leaf', 'max_features', 'max_leaf_nodes', 'min_impurity_decrease', 'random_state', 'ccp_alpha')\n"
     ]
    }
   ],
   "source": [
    "print(model_gs.estimator_params)"
   ]
  },
  {
   "cell_type": "markdown",
   "id": "d61cc80d-7d21-4117-8707-524a5159e1ea",
   "metadata": {},
   "source": [
    "Here, we use evolutionary algorithms to deduce our most useful inputs.\n",
    "Which should we keep, which should we throw away?"
   ]
  },
  {
   "cell_type": "code",
   "execution_count": 41,
   "id": "603d5082",
   "metadata": {},
   "outputs": [
    {
     "name": "stdout",
     "output_type": "stream",
     "text": [
      "Selecting features with genetic algorithm.\n",
      "gen\tnevals\tavg                            \tstd                            \tmin                            \tmax                            \n",
      "0  \t50    \t[ 0.877931  3.56      0.035546]\t[ 0.074696  1.283121  0.073286]\t[ 0.610653  1.        0.000015]\t[ 0.95182   5.        0.294615]\n",
      "1  \t26    \t[-799.151359    4.2       800.014453]\t[ 2713.182244     1.183216  2712.927731]\t[-10000.            1.            0.000015]\t[     0.952353      7.        10000.      ]\n",
      "2  \t36    \t[-799.134276    4.52      800.008538]\t[ 2713.187281     0.854166  2712.929476]\t[-10000.            2.            0.003895]\t[     0.952353      6.        10000.      ]\n",
      "3  \t27    \t[-599.107309    4.38      600.006067]\t[ 2375.093952     0.935735  2374.866885]\t[-10000.            2.            0.004227]\t[     0.952353      6.        10000.      ]\n",
      "4  \t27    \t[-599.105407    4.9       600.005436]\t[ 2375.094432     0.5       2374.867044]\t[-10000.            3.            0.004227]\t[     0.952353      6.        10000.      ]\n",
      "5  \t29    \t[-599.105021    4.98      600.005915]\t[ 2375.09453      0.373631  2374.866923]\t[-10000.            4.            0.004227]\t[     0.952353      6.        10000.      ]\n",
      "6  \t29    \t[-199.06764     4.98      200.006774]\t[ 1400.133194     0.244131  1399.999032]\t[-10000.            4.            0.004957]\t[     0.952353      6.        10000.      ]\n",
      "7  \t30    \t[ 0.947028  4.84      0.007263]      \t[ 0.015968  0.417612  0.001902]         \t[ 0.893558  3.        0.005944]            \t[ 0.952353  5.        0.013868]            \n",
      "8  \t26    \t[ 0.9499   4.9      0.00748]         \t[ 0.011965  0.360555  0.004623]         \t[ 0.878532  3.        0.005722]            \t[ 0.952353  5.        0.034121]            \n",
      "9  \t23    \t[-199.066694    5.02      200.006459]\t[ 1400.133329     0.14      1399.999077]\t[-10000.            5.            0.006591]\t[     0.952353      6.        10000.      ]\n",
      "10 \t30    \t[-399.086105    4.96      400.006375]\t[ 1959.778342     0.344093  1959.590493]\t[-10000.            4.            0.004957]\t[     0.952353      6.        10000.      ]\n",
      "11 \t33    \t[ 0.95203   4.94      0.006686]      \t[ 0.001725  0.237487  0.001058]         \t[ 0.940285  4.        0.004957]            \t[ 0.952353  5.        0.013868]            \n"
     ]
    }
   ],
   "source": [
    "from genetic_selection import GeneticSelectionCV\n",
    "\n",
    "\n",
    "selector = GeneticSelectionCV(\n",
    "        estimator=RandomForestClassifier(max_depth=5, random_state=123),\n",
    "        cv=5,\n",
    "        verbose=1,\n",
    "        scoring=\"accuracy\",\n",
    "        max_features=5,\n",
    "        n_population=50,\n",
    "        crossover_proba=0.5,\n",
    "        mutation_proba=0.2,\n",
    "        n_generations=40,\n",
    "        crossover_independent_proba=0.5,\n",
    "        mutation_independent_proba=0.05,\n",
    "        tournament_size=3,\n",
    "        n_gen_no_change=10,\n",
    "        caching=True,\n",
    "        n_jobs=-1,\n",
    "    )\n",
    "selector = selector.fit(X_train, y_train)"
   ]
  },
  {
   "cell_type": "code",
   "execution_count": 42,
   "id": "6ca4d539-42f8-44dc-ba8f-60c53e57671b",
   "metadata": {},
   "outputs": [
    {
     "name": "stdout",
     "output_type": "stream",
     "text": [
      "[ True  True  True  True False  True False False]\n"
     ]
    }
   ],
   "source": [
    "print(selector.support_)"
   ]
  },
  {
   "cell_type": "code",
   "execution_count": 44,
   "id": "abe784ce-87d2-488f-9e90-019aa644051d",
   "metadata": {},
   "outputs": [],
   "source": [
    "ga_model = selector.estimator_"
   ]
  },
  {
   "attachments": {
    "1778b000-e361-48e2-907a-87a7fc89c0c6.png": {
     "image/png": "[encoded data removed]"
    }
   },
   "cell_type": "markdown",
   "id": "727a50fd-6552-4ba7-bf22-2eebc43a560a",
   "metadata": {},
   "source": [
    "![image.png](attachment:1778b000-e361-48e2-907a-87a7fc89c0c6.png)"
   ]
  },
  {
   "cell_type": "code",
   "execution_count": 46,
   "id": "56a411e9-c8f9-470f-ab89-3427a1545240",
   "metadata": {},
   "outputs": [
    {
     "data": {
      "text/plain": [
       "0.92"
      ]
     },
     "execution_count": 46,
     "metadata": {},
     "output_type": "execute_result"
    }
   ],
   "source": [
    "model_pred = ga_model.predict(X_test[:,selector.support_])\n",
    "accu = np.mean( y_test == model_pred)\n",
    "accu"
   ]
  },
  {
   "cell_type": "code",
   "execution_count": 47,
   "id": "324e5bb2-0314-4867-a33c-6a3698f19593",
   "metadata": {},
   "outputs": [
    {
     "data": {
      "text/plain": [
       "array([[73,  2],\n",
       "       [ 6, 19]], dtype=int64)"
      ]
     },
     "execution_count": 47,
     "metadata": {},
     "output_type": "execute_result"
    },
    {
     "data": {
      "image/png": "[encoded data removed]",
      "text/plain": [
       "<Figure size 432x288 with 2 Axes>"
      ]
     },
     "metadata": {
      "needs_background": "light"
     },
     "output_type": "display_data"
    }
   ],
   "source": [
    "cm = confusion_matrix(np.squeeze(y_test), model_pred)\n",
    "sns.heatmap(cm,annot=True,xticklabels=[\"Healthy\",\"Unhealthy\"],yticklabels=[\"Healthy\",\"Unhealthy\"] )\n",
    "cm"
   ]
  },
  {
   "cell_type": "code",
   "execution_count": 48,
   "id": "b4fc2d11-90f5-42fd-a0e8-ddbef6edead1",
   "metadata": {},
   "outputs": [
    {
     "data": {
      "text/html": [
       "<div>\n",
       "<style scoped>\n",
       "    .dataframe tbody tr th:only-of-type {\n",
       "        vertical-align: middle;\n",
       "    }\n",
       "\n",
       "    .dataframe tbody tr th {\n",
       "        vertical-align: top;\n",
       "    }\n",
       "\n",
       "    .dataframe thead th {\n",
       "        text-align: right;\n",
       "    }\n",
       "</style>\n",
       "<table border=\"1\" class=\"dataframe\">\n",
       "  <thead>\n",
       "    <tr style=\"text-align: right;\">\n",
       "      <th></th>\n",
       "      <th>Accuracy</th>\n",
       "      <th>Precision (or PPV)</th>\n",
       "      <th>Recall (senitivity or TPR)</th>\n",
       "      <th>f1 score</th>\n",
       "      <th>AUC_ROC</th>\n",
       "      <th>Specificty (or TNR)</th>\n",
       "      <th>NPV</th>\n",
       "      <th>True Positive</th>\n",
       "      <th>True Negative</th>\n",
       "      <th>False Positive</th>\n",
       "      <th>False Negative</th>\n",
       "    </tr>\n",
       "  </thead>\n",
       "  <tbody>\n",
       "    <tr>\n",
       "      <th>0</th>\n",
       "      <td>0.92</td>\n",
       "      <td>0.9</td>\n",
       "      <td>0.76</td>\n",
       "      <td>0.82</td>\n",
       "      <td>0.87</td>\n",
       "      <td>0.9</td>\n",
       "      <td>0.76</td>\n",
       "      <td>73</td>\n",
       "      <td>19</td>\n",
       "      <td>2</td>\n",
       "      <td>6</td>\n",
       "    </tr>\n",
       "  </tbody>\n",
       "</table>\n",
       "</div>"
      ],
      "text/plain": [
       "   Accuracy  Precision (or PPV)  Recall (senitivity or TPR)  f1 score  \\\n",
       "0      0.92                 0.9                        0.76      0.82   \n",
       "\n",
       "   AUC_ROC  Specificty (or TNR)   NPV  True Positive  True Negative  \\\n",
       "0     0.87                  0.9  0.76             73             19   \n",
       "\n",
       "   False Positive  False Negative  \n",
       "0               2               6  "
      ]
     },
     "execution_count": 48,
     "metadata": {},
     "output_type": "execute_result"
    }
   ],
   "source": [
    "binary_classification_performance(y_test, model_pred)"
   ]
  },
  {
   "cell_type": "code",
   "execution_count": null,
   "id": "de58e8c5-0aee-4ab5-9454-e06a3a13f43b",
   "metadata": {},
   "outputs": [],
   "source": []
  }
 ],
 "metadata": {
  "kernelspec": {
   "display_name": "Python 3 (ipykernel)",
   "language": "python",
   "name": "python3"
  },
  "language_info": {
   "codemirror_mode": {
    "name": "ipython",
    "version": 3
   },
   "file_extension": ".py",
   "mimetype": "text/x-python",
   "name": "python",
   "nbconvert_exporter": "python",
   "pygments_lexer": "ipython3",
   "version": "3.9.12"
  },
  "papermill": {
   "default_parameters": {},
   "duration": 38.252424,
   "end_time": "2022-08-13T14:03:09.011663",
   "environment_variables": {},
   "exception": null,
   "input_path": "__notebook__.ipynb",
   "output_path": "__notebook__.ipynb",
   "parameters": {},
   "start_time": "2022-08-13T14:02:30.759239",
   "version": "2.3.4"
  }
 },
 "nbformat": 4,
 "nbformat_minor": 5
}
