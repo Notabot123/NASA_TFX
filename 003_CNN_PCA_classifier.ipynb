{
 "cells": [
  {
   "cell_type": "code",
   "execution_count": 1,
   "id": "63685304",
   "metadata": {
    "_cell_guid": "b1076dfc-b9ad-4769-8c92-a6c4dae69d19",
    "_uuid": "8f2839f25d086af736a60e9eeb907d3b93b6e0e5",
    "papermill": {
     "duration": 0.046643,
     "end_time": "2022-08-13T14:02:40.105696",
     "exception": false,
     "start_time": "2022-08-13T14:02:40.059053",
     "status": "completed"
    },
    "tags": []
   },
   "outputs": [],
   "source": [
    "import numpy as np # numbers and algebra in python\n",
    "import pandas as pd # tables and processing tabular data\n"
   ]
  },
  {
   "cell_type": "code",
   "execution_count": 2,
   "id": "dec7b130",
   "metadata": {
    "papermill": {
     "duration": 6.704445,
     "end_time": "2022-08-13T14:02:46.815675",
     "exception": false,
     "start_time": "2022-08-13T14:02:40.111230",
     "status": "completed"
    },
    "tags": []
   },
   "outputs": [],
   "source": [
    "import tensorflow as tf\n",
    "import seaborn as sns\n",
    "import matplotlib.pyplot as plt\n",
    "from sklearn.preprocessing import StandardScaler, MinMaxScaler\n",
    "from sklearn.metrics import mean_squared_error\n",
    "\n",
    "from sklearn.model_selection import GridSearchCV\n",
    "from scikeras.wrappers import KerasRegressor, KerasClassifier\n"
   ]
  },
  {
   "cell_type": "code",
   "execution_count": 3,
   "id": "068ae15c",
   "metadata": {
    "papermill": {
     "duration": 0.015182,
     "end_time": "2022-08-13T14:02:46.836157",
     "exception": false,
     "start_time": "2022-08-13T14:02:46.820975",
     "status": "completed"
    },
    "tags": []
   },
   "outputs": [],
   "source": [
    "index_names = ['unit_number', 'time_cycles']\n",
    "setting_names = ['setting_1', 'setting_2', 'setting_3']\n",
    "sensor_names = ['s_{}'.format(i+1) for i in range(0,21)]\n",
    "col_names = index_names + setting_names + sensor_names"
   ]
  },
  {
   "cell_type": "code",
   "execution_count": 4,
   "id": "bc96781c",
   "metadata": {},
   "outputs": [],
   "source": [
    "dirPath = './archive/CMaps/'\n",
    "\n",
    "train = pd.read_csv(dirPath + 'train_FD001.txt',sep='\\s+',names=col_names)\n",
    "test = pd.read_csv(dirPath + 'test_FD001.txt',sep='\\s+',names=col_names)\n",
    "y_test = pd.read_csv(dirPath + 'RUL_FD001.txt',sep='\\s+',header=None)"
   ]
  },
  {
   "cell_type": "code",
   "execution_count": 5,
   "id": "d688c9d5",
   "metadata": {
    "papermill": {
     "duration": 0.055336,
     "end_time": "2022-08-13T14:02:47.150193",
     "exception": false,
     "start_time": "2022-08-13T14:02:47.094857",
     "status": "completed"
    },
    "tags": []
   },
   "outputs": [
    {
     "data": {
      "text/html": [
       "<div>\n",
       "<style scoped>\n",
       "    .dataframe tbody tr th:only-of-type {\n",
       "        vertical-align: middle;\n",
       "    }\n",
       "\n",
       "    .dataframe tbody tr th {\n",
       "        vertical-align: top;\n",
       "    }\n",
       "\n",
       "    .dataframe thead th {\n",
       "        text-align: right;\n",
       "    }\n",
       "</style>\n",
       "<table border=\"1\" class=\"dataframe\">\n",
       "  <thead>\n",
       "    <tr style=\"text-align: right;\">\n",
       "      <th></th>\n",
       "      <th>time_cycles</th>\n",
       "    </tr>\n",
       "  </thead>\n",
       "  <tbody>\n",
       "    <tr>\n",
       "      <th>count</th>\n",
       "      <td>100.000000</td>\n",
       "    </tr>\n",
       "    <tr>\n",
       "      <th>mean</th>\n",
       "      <td>206.310000</td>\n",
       "    </tr>\n",
       "    <tr>\n",
       "      <th>std</th>\n",
       "      <td>46.342749</td>\n",
       "    </tr>\n",
       "    <tr>\n",
       "      <th>min</th>\n",
       "      <td>128.000000</td>\n",
       "    </tr>\n",
       "    <tr>\n",
       "      <th>25%</th>\n",
       "      <td>177.000000</td>\n",
       "    </tr>\n",
       "    <tr>\n",
       "      <th>50%</th>\n",
       "      <td>199.000000</td>\n",
       "    </tr>\n",
       "    <tr>\n",
       "      <th>75%</th>\n",
       "      <td>229.250000</td>\n",
       "    </tr>\n",
       "    <tr>\n",
       "      <th>max</th>\n",
       "      <td>362.000000</td>\n",
       "    </tr>\n",
       "  </tbody>\n",
       "</table>\n",
       "</div>"
      ],
      "text/plain": [
       "       time_cycles\n",
       "count   100.000000\n",
       "mean    206.310000\n",
       "std      46.342749\n",
       "min     128.000000\n",
       "25%     177.000000\n",
       "50%     199.000000\n",
       "75%     229.250000\n",
       "max     362.000000"
      ]
     },
     "execution_count": 5,
     "metadata": {},
     "output_type": "execute_result"
    }
   ],
   "source": [
    "train[index_names].groupby('unit_number').max().describe()"
   ]
  },
  {
   "cell_type": "code",
   "execution_count": 6,
   "id": "23722431",
   "metadata": {
    "papermill": {
     "duration": 0.186824,
     "end_time": "2022-08-13T14:02:47.342634",
     "exception": false,
     "start_time": "2022-08-13T14:02:47.155810",
     "status": "completed"
    },
    "tags": []
   },
   "outputs": [],
   "source": [
    "def gate_the_RUL(train,cap=150):\n",
    "    # Rectifier\n",
    "    train['RUL'] = np.minimum(train['RUL'],cap)\n",
    "    return train\n",
    "\n",
    "def add_remaining_useful_life(df):\n",
    "    # Get the total number of cycles for each unit\n",
    "    grouped_by_unit = df.groupby(by=\"unit_number\")\n",
    "    max_cycle = grouped_by_unit[\"time_cycles\"].max()\n",
    "    \n",
    "    # Merge the max cycle back into the original frame\n",
    "    result_frame = df.merge(max_cycle.to_frame(name='max_cycle'), left_on='unit_number', right_index=True)\n",
    "    \n",
    "    # Calculate remaining useful life for each row\n",
    "    remaining_useful_life = result_frame[\"max_cycle\"] - result_frame[\"time_cycles\"]\n",
    "    result_frame[\"RUL\"] = remaining_useful_life\n",
    "    \n",
    "    # drop max_cycle as it's no longer needed\n",
    "    result_frame = result_frame.drop(\"max_cycle\", axis=1)\n",
    "    return result_frame\n",
    "\n",
    "from sklearn.metrics import recall_score, precision_score, accuracy_score, f1_score,roc_auc_score\n",
    "# we could have a nice function for summarising a range of common classification stats\n",
    "def binary_classification_performance(y_test, y_pred):\n",
    "    tp, fp, fn, tn = confusion_matrix(y_test, y_pred).ravel()\n",
    "    accuracy = round(accuracy_score(y_pred = y_pred, y_true = y_test),2)\n",
    "    precision = round(precision_score(y_pred = y_pred, y_true = y_test),2)\n",
    "    recall = round(recall_score(y_pred = y_pred, y_true = y_test),2)\n",
    "    f1_score = round(2*precision*recall/(precision + recall),2)\n",
    "    specificity = round(tn/(tn+fp),2)\n",
    "    npv = round(tn/(tn+fn),2)\n",
    "    auc_roc = round(roc_auc_score(y_score = y_pred, y_true = y_test),2)\n",
    "\n",
    "\n",
    "    result = pd.DataFrame({'Accuracy' : [accuracy],\n",
    "                         'Precision (or PPV)' : [precision],\n",
    "                         'Recall (senitivity or TPR)' : [recall],\n",
    "                         'f1 score' : [f1_score],\n",
    "                         'AUC_ROC' : [auc_roc],\n",
    "                         'Specificty (or TNR)': [specificity],\n",
    "                         'NPV' : [npv],\n",
    "                         'True Positive' : [tp],\n",
    "                         'True Negative' : [tn],\n",
    "                         'False Positive':[fp],\n",
    "                         'False Negative':[fn]})\n",
    "    return result"
   ]
  },
  {
   "cell_type": "code",
   "execution_count": 7,
   "id": "4b2e82df",
   "metadata": {},
   "outputs": [
    {
     "data": {
      "image/png": "[encoded data removed]",
      "text/plain": [
       "<Figure size 432x288 with 25 Axes>"
      ]
     },
     "metadata": {
      "needs_background": "light"
     },
     "output_type": "display_data"
    }
   ],
   "source": [
    "# Here are a small selection of useful looking signals, along with our taregt (RUL)\n",
    "good_sensors = ['s_2', 's_3', 's_4', 's_7', 's_8']\n",
    "pd.plotting.scatter_matrix(train.loc[:,good_sensors], alpha=0.2)\n",
    "plt.show()"
   ]
  },
  {
   "cell_type": "markdown",
   "id": "b99e2a49",
   "metadata": {},
   "source": [
    "As we discussed last week, we can gate the RUL during training if we \"don't care about it above a threshold\".\n",
    "Consider histograms later in this script to understand why"
   ]
  },
  {
   "cell_type": "code",
   "execution_count": 8,
   "id": "f1cf1acd",
   "metadata": {
    "papermill": {
     "duration": 0.050402,
     "end_time": "2022-08-13T14:02:47.398596",
     "exception": false,
     "start_time": "2022-08-13T14:02:47.348194",
     "status": "completed"
    },
    "tags": []
   },
   "outputs": [
    {
     "data": {
      "text/html": [
       "<div>\n",
       "<style scoped>\n",
       "    .dataframe tbody tr th:only-of-type {\n",
       "        vertical-align: middle;\n",
       "    }\n",
       "\n",
       "    .dataframe tbody tr th {\n",
       "        vertical-align: top;\n",
       "    }\n",
       "\n",
       "    .dataframe thead th {\n",
       "        text-align: right;\n",
       "    }\n",
       "</style>\n",
       "<table border=\"1\" class=\"dataframe\">\n",
       "  <thead>\n",
       "    <tr style=\"text-align: right;\">\n",
       "      <th></th>\n",
       "      <th>unit_number</th>\n",
       "      <th>time_cycles</th>\n",
       "      <th>RUL</th>\n",
       "    </tr>\n",
       "  </thead>\n",
       "  <tbody>\n",
       "    <tr>\n",
       "      <th>0</th>\n",
       "      <td>1</td>\n",
       "      <td>1</td>\n",
       "      <td>150</td>\n",
       "    </tr>\n",
       "    <tr>\n",
       "      <th>1</th>\n",
       "      <td>1</td>\n",
       "      <td>2</td>\n",
       "      <td>150</td>\n",
       "    </tr>\n",
       "    <tr>\n",
       "      <th>2</th>\n",
       "      <td>1</td>\n",
       "      <td>3</td>\n",
       "      <td>150</td>\n",
       "    </tr>\n",
       "    <tr>\n",
       "      <th>3</th>\n",
       "      <td>1</td>\n",
       "      <td>4</td>\n",
       "      <td>150</td>\n",
       "    </tr>\n",
       "    <tr>\n",
       "      <th>4</th>\n",
       "      <td>1</td>\n",
       "      <td>5</td>\n",
       "      <td>150</td>\n",
       "    </tr>\n",
       "    <tr>\n",
       "      <th>...</th>\n",
       "      <td>...</td>\n",
       "      <td>...</td>\n",
       "      <td>...</td>\n",
       "    </tr>\n",
       "    <tr>\n",
       "      <th>20626</th>\n",
       "      <td>100</td>\n",
       "      <td>196</td>\n",
       "      <td>4</td>\n",
       "    </tr>\n",
       "    <tr>\n",
       "      <th>20627</th>\n",
       "      <td>100</td>\n",
       "      <td>197</td>\n",
       "      <td>3</td>\n",
       "    </tr>\n",
       "    <tr>\n",
       "      <th>20628</th>\n",
       "      <td>100</td>\n",
       "      <td>198</td>\n",
       "      <td>2</td>\n",
       "    </tr>\n",
       "    <tr>\n",
       "      <th>20629</th>\n",
       "      <td>100</td>\n",
       "      <td>199</td>\n",
       "      <td>1</td>\n",
       "    </tr>\n",
       "    <tr>\n",
       "      <th>20630</th>\n",
       "      <td>100</td>\n",
       "      <td>200</td>\n",
       "      <td>0</td>\n",
       "    </tr>\n",
       "  </tbody>\n",
       "</table>\n",
       "<p>20631 rows × 3 columns</p>\n",
       "</div>"
      ],
      "text/plain": [
       "       unit_number  time_cycles  RUL\n",
       "0                1            1  150\n",
       "1                1            2  150\n",
       "2                1            3  150\n",
       "3                1            4  150\n",
       "4                1            5  150\n",
       "...            ...          ...  ...\n",
       "20626          100          196    4\n",
       "20627          100          197    3\n",
       "20628          100          198    2\n",
       "20629          100          199    1\n",
       "20630          100          200    0\n",
       "\n",
       "[20631 rows x 3 columns]"
      ]
     },
     "execution_count": 8,
     "metadata": {},
     "output_type": "execute_result"
    }
   ],
   "source": [
    "train = add_remaining_useful_life(train)\n",
    "train = gate_the_RUL(train,cap=150)\n",
    "\n",
    "train[index_names+['RUL']] # last thing in cell prints out"
   ]
  },
  {
   "cell_type": "code",
   "execution_count": 9,
   "id": "84d936b3",
   "metadata": {},
   "outputs": [
    {
     "data": {
      "image/png": "[encoded data removed]",
      "text/plain": [
       "<Figure size 432x288 with 49 Axes>"
      ]
     },
     "metadata": {
      "needs_background": "light"
     },
     "output_type": "display_data"
    }
   ],
   "source": [
    "# these seem not worth keeping\n",
    "import warnings\n",
    "warnings.filterwarnings(\"ignore\")\n",
    "\n",
    "drop_sensors = ['s_1','s_5','s_6','s_10','s_16','s_18','s_19'] # new bad signals noted. \n",
    "\n",
    "pd.plotting.scatter_matrix(train.loc[:,drop_sensors])\n",
    "plt.show()"
   ]
  },
  {
   "cell_type": "code",
   "execution_count": 10,
   "id": "002d2fde",
   "metadata": {
    "papermill": {
     "duration": 0.015903,
     "end_time": "2022-08-13T14:02:47.420379",
     "exception": false,
     "start_time": "2022-08-13T14:02:47.404476",
     "status": "completed"
    },
    "tags": []
   },
   "outputs": [],
   "source": [
    "# this time let's keep the cycles (normalised) showing current engine life\n",
    "drop_labels = setting_names+drop_sensors # ['unit_number'] was index_names\n",
    " # last time we dropped ['unit_number'] here"
   ]
  },
  {
   "cell_type": "code",
   "execution_count": 11,
   "id": "046f17ba",
   "metadata": {
    "papermill": {
     "duration": 0.016502,
     "end_time": "2022-08-13T14:02:47.442394",
     "exception": false,
     "start_time": "2022-08-13T14:02:47.425892",
     "status": "completed"
    },
    "tags": []
   },
   "outputs": [],
   "source": [
    "X_train = train.drop(drop_labels, axis=1)\n",
    "y_train = X_train.pop('RUL')"
   ]
  },
  {
   "cell_type": "code",
   "execution_count": 12,
   "id": "b07c009f",
   "metadata": {
    "papermill": {
     "duration": 0.022391,
     "end_time": "2022-08-13T14:02:47.470350",
     "exception": false,
     "start_time": "2022-08-13T14:02:47.447959",
     "status": "completed"
    },
    "tags": []
   },
   "outputs": [],
   "source": [
    "X_test = test.groupby('unit_number').last().reset_index().drop(drop_labels, axis=1)"
   ]
  },
  {
   "cell_type": "code",
   "execution_count": 13,
   "id": "79eafe61",
   "metadata": {
    "papermill": {
     "duration": 0.040707,
     "end_time": "2022-08-13T14:02:47.516620",
     "exception": false,
     "start_time": "2022-08-13T14:02:47.475913",
     "status": "completed"
    },
    "tags": []
   },
   "outputs": [
    {
     "data": {
      "text/html": [
       "<div>\n",
       "<style scoped>\n",
       "    .dataframe tbody tr th:only-of-type {\n",
       "        vertical-align: middle;\n",
       "    }\n",
       "\n",
       "    .dataframe tbody tr th {\n",
       "        vertical-align: top;\n",
       "    }\n",
       "\n",
       "    .dataframe thead th {\n",
       "        text-align: right;\n",
       "    }\n",
       "</style>\n",
       "<table border=\"1\" class=\"dataframe\">\n",
       "  <thead>\n",
       "    <tr style=\"text-align: right;\">\n",
       "      <th></th>\n",
       "      <th>unit_number</th>\n",
       "      <th>time_cycles</th>\n",
       "      <th>s_2</th>\n",
       "      <th>s_3</th>\n",
       "      <th>s_4</th>\n",
       "      <th>s_7</th>\n",
       "      <th>s_8</th>\n",
       "      <th>s_9</th>\n",
       "      <th>s_11</th>\n",
       "      <th>s_12</th>\n",
       "      <th>s_13</th>\n",
       "      <th>s_14</th>\n",
       "      <th>s_15</th>\n",
       "      <th>s_17</th>\n",
       "      <th>s_20</th>\n",
       "      <th>s_21</th>\n",
       "    </tr>\n",
       "  </thead>\n",
       "  <tbody>\n",
       "    <tr>\n",
       "      <th>0</th>\n",
       "      <td>1</td>\n",
       "      <td>31</td>\n",
       "      <td>642.58</td>\n",
       "      <td>1581.22</td>\n",
       "      <td>1398.91</td>\n",
       "      <td>554.42</td>\n",
       "      <td>2388.08</td>\n",
       "      <td>9056.40</td>\n",
       "      <td>47.23</td>\n",
       "      <td>521.79</td>\n",
       "      <td>2388.06</td>\n",
       "      <td>8130.11</td>\n",
       "      <td>8.4024</td>\n",
       "      <td>393</td>\n",
       "      <td>38.81</td>\n",
       "      <td>23.3552</td>\n",
       "    </tr>\n",
       "    <tr>\n",
       "      <th>1</th>\n",
       "      <td>2</td>\n",
       "      <td>49</td>\n",
       "      <td>642.55</td>\n",
       "      <td>1586.59</td>\n",
       "      <td>1410.83</td>\n",
       "      <td>553.52</td>\n",
       "      <td>2388.10</td>\n",
       "      <td>9044.77</td>\n",
       "      <td>47.67</td>\n",
       "      <td>521.74</td>\n",
       "      <td>2388.09</td>\n",
       "      <td>8126.90</td>\n",
       "      <td>8.4505</td>\n",
       "      <td>391</td>\n",
       "      <td>38.81</td>\n",
       "      <td>23.2618</td>\n",
       "    </tr>\n",
       "    <tr>\n",
       "      <th>2</th>\n",
       "      <td>3</td>\n",
       "      <td>126</td>\n",
       "      <td>642.88</td>\n",
       "      <td>1589.75</td>\n",
       "      <td>1418.89</td>\n",
       "      <td>552.59</td>\n",
       "      <td>2388.16</td>\n",
       "      <td>9049.26</td>\n",
       "      <td>47.88</td>\n",
       "      <td>520.83</td>\n",
       "      <td>2388.14</td>\n",
       "      <td>8131.46</td>\n",
       "      <td>8.4119</td>\n",
       "      <td>395</td>\n",
       "      <td>38.93</td>\n",
       "      <td>23.2740</td>\n",
       "    </tr>\n",
       "    <tr>\n",
       "      <th>3</th>\n",
       "      <td>4</td>\n",
       "      <td>106</td>\n",
       "      <td>642.78</td>\n",
       "      <td>1594.53</td>\n",
       "      <td>1406.88</td>\n",
       "      <td>552.64</td>\n",
       "      <td>2388.13</td>\n",
       "      <td>9051.30</td>\n",
       "      <td>47.65</td>\n",
       "      <td>521.88</td>\n",
       "      <td>2388.11</td>\n",
       "      <td>8133.64</td>\n",
       "      <td>8.4634</td>\n",
       "      <td>395</td>\n",
       "      <td>38.58</td>\n",
       "      <td>23.2581</td>\n",
       "    </tr>\n",
       "    <tr>\n",
       "      <th>4</th>\n",
       "      <td>5</td>\n",
       "      <td>98</td>\n",
       "      <td>642.27</td>\n",
       "      <td>1589.94</td>\n",
       "      <td>1419.36</td>\n",
       "      <td>553.29</td>\n",
       "      <td>2388.10</td>\n",
       "      <td>9053.99</td>\n",
       "      <td>47.46</td>\n",
       "      <td>521.00</td>\n",
       "      <td>2388.15</td>\n",
       "      <td>8125.74</td>\n",
       "      <td>8.4362</td>\n",
       "      <td>394</td>\n",
       "      <td>38.75</td>\n",
       "      <td>23.4117</td>\n",
       "    </tr>\n",
       "    <tr>\n",
       "      <th>...</th>\n",
       "      <td>...</td>\n",
       "      <td>...</td>\n",
       "      <td>...</td>\n",
       "      <td>...</td>\n",
       "      <td>...</td>\n",
       "      <td>...</td>\n",
       "      <td>...</td>\n",
       "      <td>...</td>\n",
       "      <td>...</td>\n",
       "      <td>...</td>\n",
       "      <td>...</td>\n",
       "      <td>...</td>\n",
       "      <td>...</td>\n",
       "      <td>...</td>\n",
       "      <td>...</td>\n",
       "      <td>...</td>\n",
       "    </tr>\n",
       "    <tr>\n",
       "      <th>95</th>\n",
       "      <td>96</td>\n",
       "      <td>97</td>\n",
       "      <td>642.30</td>\n",
       "      <td>1590.88</td>\n",
       "      <td>1397.94</td>\n",
       "      <td>553.99</td>\n",
       "      <td>2388.03</td>\n",
       "      <td>9062.41</td>\n",
       "      <td>47.14</td>\n",
       "      <td>522.30</td>\n",
       "      <td>2388.01</td>\n",
       "      <td>8148.24</td>\n",
       "      <td>8.4110</td>\n",
       "      <td>391</td>\n",
       "      <td>38.96</td>\n",
       "      <td>23.4606</td>\n",
       "    </tr>\n",
       "    <tr>\n",
       "      <th>96</th>\n",
       "      <td>97</td>\n",
       "      <td>134</td>\n",
       "      <td>642.59</td>\n",
       "      <td>1582.96</td>\n",
       "      <td>1410.92</td>\n",
       "      <td>554.05</td>\n",
       "      <td>2388.06</td>\n",
       "      <td>9076.36</td>\n",
       "      <td>47.38</td>\n",
       "      <td>521.58</td>\n",
       "      <td>2388.06</td>\n",
       "      <td>8155.48</td>\n",
       "      <td>8.4500</td>\n",
       "      <td>395</td>\n",
       "      <td>38.61</td>\n",
       "      <td>23.2953</td>\n",
       "    </tr>\n",
       "    <tr>\n",
       "      <th>97</th>\n",
       "      <td>98</td>\n",
       "      <td>121</td>\n",
       "      <td>642.68</td>\n",
       "      <td>1599.51</td>\n",
       "      <td>1415.47</td>\n",
       "      <td>553.44</td>\n",
       "      <td>2388.13</td>\n",
       "      <td>9062.34</td>\n",
       "      <td>47.66</td>\n",
       "      <td>521.53</td>\n",
       "      <td>2388.09</td>\n",
       "      <td>8146.39</td>\n",
       "      <td>8.4235</td>\n",
       "      <td>394</td>\n",
       "      <td>38.76</td>\n",
       "      <td>23.3608</td>\n",
       "    </tr>\n",
       "    <tr>\n",
       "      <th>98</th>\n",
       "      <td>99</td>\n",
       "      <td>97</td>\n",
       "      <td>642.00</td>\n",
       "      <td>1585.03</td>\n",
       "      <td>1397.98</td>\n",
       "      <td>554.75</td>\n",
       "      <td>2388.01</td>\n",
       "      <td>9067.16</td>\n",
       "      <td>47.26</td>\n",
       "      <td>521.82</td>\n",
       "      <td>2388.02</td>\n",
       "      <td>8150.38</td>\n",
       "      <td>8.4003</td>\n",
       "      <td>391</td>\n",
       "      <td>38.95</td>\n",
       "      <td>23.3595</td>\n",
       "    </tr>\n",
       "    <tr>\n",
       "      <th>99</th>\n",
       "      <td>100</td>\n",
       "      <td>198</td>\n",
       "      <td>642.95</td>\n",
       "      <td>1601.62</td>\n",
       "      <td>1424.99</td>\n",
       "      <td>552.48</td>\n",
       "      <td>2388.06</td>\n",
       "      <td>9155.03</td>\n",
       "      <td>47.80</td>\n",
       "      <td>521.07</td>\n",
       "      <td>2388.05</td>\n",
       "      <td>8214.64</td>\n",
       "      <td>8.4903</td>\n",
       "      <td>396</td>\n",
       "      <td>38.70</td>\n",
       "      <td>23.1855</td>\n",
       "    </tr>\n",
       "  </tbody>\n",
       "</table>\n",
       "<p>100 rows × 16 columns</p>\n",
       "</div>"
      ],
      "text/plain": [
       "    unit_number  time_cycles     s_2      s_3      s_4     s_7      s_8  \\\n",
       "0             1           31  642.58  1581.22  1398.91  554.42  2388.08   \n",
       "1             2           49  642.55  1586.59  1410.83  553.52  2388.10   \n",
       "2             3          126  642.88  1589.75  1418.89  552.59  2388.16   \n",
       "3             4          106  642.78  1594.53  1406.88  552.64  2388.13   \n",
       "4             5           98  642.27  1589.94  1419.36  553.29  2388.10   \n",
       "..          ...          ...     ...      ...      ...     ...      ...   \n",
       "95           96           97  642.30  1590.88  1397.94  553.99  2388.03   \n",
       "96           97          134  642.59  1582.96  1410.92  554.05  2388.06   \n",
       "97           98          121  642.68  1599.51  1415.47  553.44  2388.13   \n",
       "98           99           97  642.00  1585.03  1397.98  554.75  2388.01   \n",
       "99          100          198  642.95  1601.62  1424.99  552.48  2388.06   \n",
       "\n",
       "        s_9   s_11    s_12     s_13     s_14    s_15  s_17   s_20     s_21  \n",
       "0   9056.40  47.23  521.79  2388.06  8130.11  8.4024   393  38.81  23.3552  \n",
       "1   9044.77  47.67  521.74  2388.09  8126.90  8.4505   391  38.81  23.2618  \n",
       "2   9049.26  47.88  520.83  2388.14  8131.46  8.4119   395  38.93  23.2740  \n",
       "3   9051.30  47.65  521.88  2388.11  8133.64  8.4634   395  38.58  23.2581  \n",
       "4   9053.99  47.46  521.00  2388.15  8125.74  8.4362   394  38.75  23.4117  \n",
       "..      ...    ...     ...      ...      ...     ...   ...    ...      ...  \n",
       "95  9062.41  47.14  522.30  2388.01  8148.24  8.4110   391  38.96  23.4606  \n",
       "96  9076.36  47.38  521.58  2388.06  8155.48  8.4500   395  38.61  23.2953  \n",
       "97  9062.34  47.66  521.53  2388.09  8146.39  8.4235   394  38.76  23.3608  \n",
       "98  9067.16  47.26  521.82  2388.02  8150.38  8.4003   391  38.95  23.3595  \n",
       "99  9155.03  47.80  521.07  2388.05  8214.64  8.4903   396  38.70  23.1855  \n",
       "\n",
       "[100 rows x 16 columns]"
      ]
     },
     "execution_count": 13,
     "metadata": {},
     "output_type": "execute_result"
    }
   ],
   "source": [
    "X_test"
   ]
  },
  {
   "cell_type": "code",
   "execution_count": 14,
   "id": "3271fc00",
   "metadata": {},
   "outputs": [
    {
     "data": {
      "text/html": [
       "<div>\n",
       "<style scoped>\n",
       "    .dataframe tbody tr th:only-of-type {\n",
       "        vertical-align: middle;\n",
       "    }\n",
       "\n",
       "    .dataframe tbody tr th {\n",
       "        vertical-align: top;\n",
       "    }\n",
       "\n",
       "    .dataframe thead th {\n",
       "        text-align: right;\n",
       "    }\n",
       "</style>\n",
       "<table border=\"1\" class=\"dataframe\">\n",
       "  <thead>\n",
       "    <tr style=\"text-align: right;\">\n",
       "      <th></th>\n",
       "      <th>unit_number</th>\n",
       "      <th>time_cycles</th>\n",
       "      <th>s_2</th>\n",
       "      <th>s_3</th>\n",
       "      <th>s_4</th>\n",
       "      <th>s_7</th>\n",
       "      <th>s_8</th>\n",
       "      <th>s_9</th>\n",
       "      <th>s_11</th>\n",
       "      <th>s_12</th>\n",
       "      <th>s_13</th>\n",
       "      <th>s_14</th>\n",
       "      <th>s_15</th>\n",
       "      <th>s_17</th>\n",
       "      <th>s_20</th>\n",
       "      <th>s_21</th>\n",
       "    </tr>\n",
       "  </thead>\n",
       "  <tbody>\n",
       "    <tr>\n",
       "      <th>0</th>\n",
       "      <td>1.0</td>\n",
       "      <td>1.0</td>\n",
       "      <td>641.820000</td>\n",
       "      <td>1589.700000</td>\n",
       "      <td>1400.600000</td>\n",
       "      <td>554.360000</td>\n",
       "      <td>2388.0600</td>\n",
       "      <td>9046.190000</td>\n",
       "      <td>47.470</td>\n",
       "      <td>521.660</td>\n",
       "      <td>2388.020</td>\n",
       "      <td>8138.620000</td>\n",
       "      <td>8.419500</td>\n",
       "      <td>392.000000</td>\n",
       "      <td>39.060000</td>\n",
       "      <td>23.419000</td>\n",
       "    </tr>\n",
       "    <tr>\n",
       "      <th>1</th>\n",
       "      <td>1.0</td>\n",
       "      <td>1.5</td>\n",
       "      <td>641.985000</td>\n",
       "      <td>1590.760000</td>\n",
       "      <td>1401.870000</td>\n",
       "      <td>554.055000</td>\n",
       "      <td>2388.0500</td>\n",
       "      <td>9045.130000</td>\n",
       "      <td>47.480</td>\n",
       "      <td>521.970</td>\n",
       "      <td>2388.045</td>\n",
       "      <td>8135.055000</td>\n",
       "      <td>8.425650</td>\n",
       "      <td>392.000000</td>\n",
       "      <td>39.030000</td>\n",
       "      <td>23.421300</td>\n",
       "    </tr>\n",
       "    <tr>\n",
       "      <th>2</th>\n",
       "      <td>1.0</td>\n",
       "      <td>2.0</td>\n",
       "      <td>642.106667</td>\n",
       "      <td>1589.836667</td>\n",
       "      <td>1402.646667</td>\n",
       "      <td>554.123333</td>\n",
       "      <td>2388.0600</td>\n",
       "      <td>9047.733333</td>\n",
       "      <td>47.410</td>\n",
       "      <td>522.120</td>\n",
       "      <td>2388.040</td>\n",
       "      <td>8134.446667</td>\n",
       "      <td>8.423033</td>\n",
       "      <td>391.333333</td>\n",
       "      <td>39.003333</td>\n",
       "      <td>23.395600</td>\n",
       "    </tr>\n",
       "    <tr>\n",
       "      <th>3</th>\n",
       "      <td>1.0</td>\n",
       "      <td>2.5</td>\n",
       "      <td>642.167500</td>\n",
       "      <td>1588.075000</td>\n",
       "      <td>1402.452500</td>\n",
       "      <td>554.205000</td>\n",
       "      <td>2388.0725</td>\n",
       "      <td>9048.170000</td>\n",
       "      <td>47.340</td>\n",
       "      <td>522.305</td>\n",
       "      <td>2388.050</td>\n",
       "      <td>8134.292500</td>\n",
       "      <td>8.409325</td>\n",
       "      <td>391.500000</td>\n",
       "      <td>38.972500</td>\n",
       "      <td>23.390175</td>\n",
       "    </tr>\n",
       "    <tr>\n",
       "      <th>4</th>\n",
       "      <td>1.0</td>\n",
       "      <td>3.0</td>\n",
       "      <td>642.208000</td>\n",
       "      <td>1587.030000</td>\n",
       "      <td>1403.206000</td>\n",
       "      <td>554.164000</td>\n",
       "      <td>2388.0700</td>\n",
       "      <td>9049.566000</td>\n",
       "      <td>47.328</td>\n",
       "      <td>522.282</td>\n",
       "      <td>2388.048</td>\n",
       "      <td>8134.194000</td>\n",
       "      <td>8.413340</td>\n",
       "      <td>391.800000</td>\n",
       "      <td>38.958000</td>\n",
       "      <td>23.393020</td>\n",
       "    </tr>\n",
       "    <tr>\n",
       "      <th>...</th>\n",
       "      <td>...</td>\n",
       "      <td>...</td>\n",
       "      <td>...</td>\n",
       "      <td>...</td>\n",
       "      <td>...</td>\n",
       "      <td>...</td>\n",
       "      <td>...</td>\n",
       "      <td>...</td>\n",
       "      <td>...</td>\n",
       "      <td>...</td>\n",
       "      <td>...</td>\n",
       "      <td>...</td>\n",
       "      <td>...</td>\n",
       "      <td>...</td>\n",
       "      <td>...</td>\n",
       "      <td>...</td>\n",
       "    </tr>\n",
       "    <tr>\n",
       "      <th>20626</th>\n",
       "      <td>100.0</td>\n",
       "      <td>194.0</td>\n",
       "      <td>643.448000</td>\n",
       "      <td>1599.270000</td>\n",
       "      <td>1427.270000</td>\n",
       "      <td>551.604000</td>\n",
       "      <td>2388.2220</td>\n",
       "      <td>9066.416000</td>\n",
       "      <td>48.156</td>\n",
       "      <td>519.890</td>\n",
       "      <td>2388.232</td>\n",
       "      <td>8141.130000</td>\n",
       "      <td>8.520120</td>\n",
       "      <td>395.800000</td>\n",
       "      <td>38.408000</td>\n",
       "      <td>23.079640</td>\n",
       "    </tr>\n",
       "    <tr>\n",
       "      <th>20627</th>\n",
       "      <td>100.0</td>\n",
       "      <td>195.0</td>\n",
       "      <td>643.450000</td>\n",
       "      <td>1599.924000</td>\n",
       "      <td>1430.090000</td>\n",
       "      <td>551.548000</td>\n",
       "      <td>2388.2340</td>\n",
       "      <td>9067.348000</td>\n",
       "      <td>48.128</td>\n",
       "      <td>519.708</td>\n",
       "      <td>2388.234</td>\n",
       "      <td>8139.738000</td>\n",
       "      <td>8.525060</td>\n",
       "      <td>395.400000</td>\n",
       "      <td>38.356000</td>\n",
       "      <td>23.096120</td>\n",
       "    </tr>\n",
       "    <tr>\n",
       "      <th>20628</th>\n",
       "      <td>100.0</td>\n",
       "      <td>196.0</td>\n",
       "      <td>643.516000</td>\n",
       "      <td>1600.454000</td>\n",
       "      <td>1429.940000</td>\n",
       "      <td>551.328000</td>\n",
       "      <td>2388.2240</td>\n",
       "      <td>9067.014000</td>\n",
       "      <td>48.108</td>\n",
       "      <td>519.688</td>\n",
       "      <td>2388.244</td>\n",
       "      <td>8139.544000</td>\n",
       "      <td>8.529500</td>\n",
       "      <td>395.600000</td>\n",
       "      <td>38.350000</td>\n",
       "      <td>23.078180</td>\n",
       "    </tr>\n",
       "    <tr>\n",
       "      <th>20629</th>\n",
       "      <td>100.0</td>\n",
       "      <td>197.0</td>\n",
       "      <td>643.418000</td>\n",
       "      <td>1602.048000</td>\n",
       "      <td>1429.764000</td>\n",
       "      <td>551.066000</td>\n",
       "      <td>2388.2280</td>\n",
       "      <td>9067.988000</td>\n",
       "      <td>48.162</td>\n",
       "      <td>519.712</td>\n",
       "      <td>2388.246</td>\n",
       "      <td>8139.468000</td>\n",
       "      <td>8.532980</td>\n",
       "      <td>395.800000</td>\n",
       "      <td>38.332000</td>\n",
       "      <td>23.064500</td>\n",
       "    </tr>\n",
       "    <tr>\n",
       "      <th>20630</th>\n",
       "      <td>100.0</td>\n",
       "      <td>198.0</td>\n",
       "      <td>643.506000</td>\n",
       "      <td>1602.116000</td>\n",
       "      <td>1429.812000</td>\n",
       "      <td>550.940000</td>\n",
       "      <td>2388.2340</td>\n",
       "      <td>9066.346000</td>\n",
       "      <td>48.158</td>\n",
       "      <td>519.630</td>\n",
       "      <td>2388.242</td>\n",
       "      <td>8138.354000</td>\n",
       "      <td>8.523320</td>\n",
       "      <td>396.200000</td>\n",
       "      <td>38.378000</td>\n",
       "      <td>23.036480</td>\n",
       "    </tr>\n",
       "  </tbody>\n",
       "</table>\n",
       "<p>20631 rows × 16 columns</p>\n",
       "</div>"
      ],
      "text/plain": [
       "       unit_number  time_cycles         s_2          s_3          s_4  \\\n",
       "0              1.0          1.0  641.820000  1589.700000  1400.600000   \n",
       "1              1.0          1.5  641.985000  1590.760000  1401.870000   \n",
       "2              1.0          2.0  642.106667  1589.836667  1402.646667   \n",
       "3              1.0          2.5  642.167500  1588.075000  1402.452500   \n",
       "4              1.0          3.0  642.208000  1587.030000  1403.206000   \n",
       "...            ...          ...         ...          ...          ...   \n",
       "20626        100.0        194.0  643.448000  1599.270000  1427.270000   \n",
       "20627        100.0        195.0  643.450000  1599.924000  1430.090000   \n",
       "20628        100.0        196.0  643.516000  1600.454000  1429.940000   \n",
       "20629        100.0        197.0  643.418000  1602.048000  1429.764000   \n",
       "20630        100.0        198.0  643.506000  1602.116000  1429.812000   \n",
       "\n",
       "              s_7        s_8          s_9    s_11     s_12      s_13  \\\n",
       "0      554.360000  2388.0600  9046.190000  47.470  521.660  2388.020   \n",
       "1      554.055000  2388.0500  9045.130000  47.480  521.970  2388.045   \n",
       "2      554.123333  2388.0600  9047.733333  47.410  522.120  2388.040   \n",
       "3      554.205000  2388.0725  9048.170000  47.340  522.305  2388.050   \n",
       "4      554.164000  2388.0700  9049.566000  47.328  522.282  2388.048   \n",
       "...           ...        ...          ...     ...      ...       ...   \n",
       "20626  551.604000  2388.2220  9066.416000  48.156  519.890  2388.232   \n",
       "20627  551.548000  2388.2340  9067.348000  48.128  519.708  2388.234   \n",
       "20628  551.328000  2388.2240  9067.014000  48.108  519.688  2388.244   \n",
       "20629  551.066000  2388.2280  9067.988000  48.162  519.712  2388.246   \n",
       "20630  550.940000  2388.2340  9066.346000  48.158  519.630  2388.242   \n",
       "\n",
       "              s_14      s_15        s_17       s_20       s_21  \n",
       "0      8138.620000  8.419500  392.000000  39.060000  23.419000  \n",
       "1      8135.055000  8.425650  392.000000  39.030000  23.421300  \n",
       "2      8134.446667  8.423033  391.333333  39.003333  23.395600  \n",
       "3      8134.292500  8.409325  391.500000  38.972500  23.390175  \n",
       "4      8134.194000  8.413340  391.800000  38.958000  23.393020  \n",
       "...            ...       ...         ...        ...        ...  \n",
       "20626  8141.130000  8.520120  395.800000  38.408000  23.079640  \n",
       "20627  8139.738000  8.525060  395.400000  38.356000  23.096120  \n",
       "20628  8139.544000  8.529500  395.600000  38.350000  23.078180  \n",
       "20629  8139.468000  8.532980  395.800000  38.332000  23.064500  \n",
       "20630  8138.354000  8.523320  396.200000  38.378000  23.036480  \n",
       "\n",
       "[20631 rows x 16 columns]"
      ]
     },
     "execution_count": 14,
     "metadata": {},
     "output_type": "execute_result"
    }
   ],
   "source": [
    "f = lambda x: x.rolling(5,min_periods=0).mean() \n",
    "X_train = X_train.groupby('unit_number').apply(f)\n",
    "X_train"
   ]
  },
  {
   "cell_type": "code",
   "execution_count": 15,
   "id": "5276c5b2",
   "metadata": {},
   "outputs": [],
   "source": [
    "# zero-centered normalise (standardise or zscore)\n",
    "mu = np.mean(X_train,axis=0)\n",
    "sig = np.std(X_train,axis=0)\n",
    "X_train = (X_train - mu) / sig\n",
    "X_test = (X_test - mu) / sig"
   ]
  },
  {
   "cell_type": "code",
   "execution_count": 16,
   "id": "3400c877-ec71-4e48-95e3-9e28709c2823",
   "metadata": {},
   "outputs": [
    {
     "data": {
      "text/plain": [
       "unit_number    1.0\n",
       "time_cycles    1.0\n",
       "s_2            1.0\n",
       "s_3            1.0\n",
       "s_4            1.0\n",
       "s_7            1.0\n",
       "s_8            1.0\n",
       "s_9            1.0\n",
       "s_11           1.0\n",
       "s_12           1.0\n",
       "s_13           1.0\n",
       "s_14           1.0\n",
       "s_15           1.0\n",
       "s_17           1.0\n",
       "s_20           1.0\n",
       "s_21           1.0\n",
       "dtype: float64"
      ]
     },
     "execution_count": 16,
     "metadata": {},
     "output_type": "execute_result"
    }
   ],
   "source": [
    "np.std(X_train,axis=0)"
   ]
  },
  {
   "cell_type": "code",
   "execution_count": 17,
   "id": "297b00a8",
   "metadata": {},
   "outputs": [
    {
     "name": "stdout",
     "output_type": "stream",
     "text": [
      "[0.71769606 0.14115369 0.06274844 0.0264292  0.00828486 0.00713111\n",
      " 0.00656403 0.0053098 ]\n"
     ]
    }
   ],
   "source": [
    "from sklearn.decomposition import PCA\n",
    "reduce_dim = 8\n",
    "\n",
    "pca = PCA(n_components=reduce_dim)\n",
    "pca.fit(X_train)\n",
    "\n",
    "print(pca.explained_variance_ratio_)\n",
    "X_train = pca.transform(X_train)\n",
    "X_test = pca.transform(X_test)"
   ]
  },
  {
   "cell_type": "code",
   "execution_count": 18,
   "id": "001dc413",
   "metadata": {},
   "outputs": [],
   "source": [
    "img_rows, img_cols = 1, reduce_dim\n",
    "input_shape = (img_rows, img_cols, 1)"
   ]
  },
  {
   "cell_type": "code",
   "execution_count": null,
   "id": "6c25200b",
   "metadata": {},
   "outputs": [],
   "source": []
  },
  {
   "cell_type": "code",
   "execution_count": 19,
   "id": "3ebe0ba2",
   "metadata": {},
   "outputs": [],
   "source": [
    "X_train = X_train.reshape(X_train.shape[0], img_rows, img_cols, 1)\n",
    "X_test = X_test.reshape(X_test.shape[0], img_rows, img_cols, 1)\n",
    "# X_val = X_val.reshape(X_val.shape[0], img_rows, img_cols, 1)\n",
    "\n",
    "X_train = X_train.astype('float32')\n",
    "X_test = X_test.astype('float32')\n",
    "# X_val = X_val.astype('float32')"
   ]
  },
  {
   "cell_type": "code",
   "execution_count": 20,
   "id": "cb85e502",
   "metadata": {
    "papermill": {
     "duration": 1.281005,
     "end_time": "2022-08-13T14:02:48.803776",
     "exception": false,
     "start_time": "2022-08-13T14:02:47.522771",
     "status": "completed"
    },
    "tags": []
   },
   "outputs": [],
   "source": [
    "model = tf.keras.models.Sequential()"
   ]
  },
  {
   "cell_type": "code",
   "execution_count": 21,
   "id": "469029c6",
   "metadata": {},
   "outputs": [
    {
     "data": {
      "text/plain": [
       "(20631, 1, 8, 1)"
      ]
     },
     "execution_count": 21,
     "metadata": {},
     "output_type": "execute_result"
    }
   ],
   "source": [
    "X_train.shape"
   ]
  },
  {
   "cell_type": "code",
   "execution_count": 22,
   "id": "01c0d026-0ca8-462a-bbd0-fff34af0ee97",
   "metadata": {},
   "outputs": [],
   "source": [
    "f = lambda y: y<=30\n",
    "\n",
    "y_train = y_train.apply(f)\n",
    "y_test = y_test.apply(f)\n",
    "y_test = np.squeeze(y_test)"
   ]
  },
  {
   "cell_type": "code",
   "execution_count": 23,
   "id": "5a9875d4-d158-4d8e-9045-67215e6419c0",
   "metadata": {},
   "outputs": [
    {
     "data": {
      "text/plain": [
       "2"
      ]
     },
     "execution_count": 23,
     "metadata": {},
     "output_type": "execute_result"
    }
   ],
   "source": [
    "num_classes = len(np.unique(y_train))\n",
    "num_classes"
   ]
  },
  {
   "cell_type": "code",
   "execution_count": 24,
   "id": "34f8495f-9d83-47ad-ba66-62ba05844074",
   "metadata": {},
   "outputs": [],
   "source": [
    "# convert class vectors to binary class matrices\n",
    "y_train = tf.keras.utils.to_categorical(y_train, num_classes)\n",
    "y_test = tf.keras.utils.to_categorical(y_test, num_classes)"
   ]
  },
  {
   "cell_type": "code",
   "execution_count": 25,
   "id": "58915081",
   "metadata": {
    "papermill": {
     "duration": 0.02585,
     "end_time": "2022-08-13T14:02:48.835536",
     "exception": false,
     "start_time": "2022-08-13T14:02:48.809686",
     "status": "completed"
    },
    "tags": []
   },
   "outputs": [],
   "source": [
    "model.add(tf.keras.layers.Conv2D(32, kernel_size=(1, 5),padding='same',               \n",
    "                 input_shape=input_shape))\n",
    "model.add(tf.keras.layers.BatchNormalization()) # bnorm\n",
    "model.add(tf.keras.layers.Activation(\"relu\"))\n",
    "model.add(\n",
    "        tf.keras.layers.Conv2D(\n",
    "            filters=64, kernel_size=(1,3), strides=(1),name=\"c2\",padding='same',\n",
    "        ),)\n",
    "model.add(tf.keras.layers.BatchNormalization()) # bnorm\n",
    "model.add(tf.keras.layers.Activation(\"relu\"))\n",
    "model.add(\n",
    "        tf.keras.layers.Conv2D(\n",
    "            filters=128, kernel_size=(1,3), strides=(1),name=\"c3\",padding='same',\n",
    "        ),)\n",
    "\n",
    "model.add(tf.keras.layers.BatchNormalization()) # bnorm\n",
    "model.add(tf.keras.layers.Activation(\"relu\"))\n",
    "\n",
    "model.add(\n",
    "        tf.keras.layers.Conv2D(\n",
    "            filters=256, kernel_size=(1,3), strides=(1),name=\"c4\",padding='same',\n",
    "        ),)\n",
    "model.add(tf.keras.layers.BatchNormalization()) # bnorm\n",
    "model.add(tf.keras.layers.Activation(\"relu\"))\n",
    "\n",
    "model.add(tf.keras.layers.Flatten())\n",
    "model.add(tf.keras.layers.Dense(32))\n",
    "model.add(tf.keras.layers.Dropout(0.4))\n",
    "model.add(tf.keras.layers.Dense(num_classes, activation=\"softmax\")) "
   ]
  },
  {
   "cell_type": "code",
   "execution_count": 26,
   "id": "1e2c1537",
   "metadata": {
    "papermill": {
     "duration": 0.036318,
     "end_time": "2022-08-13T14:02:48.878033",
     "exception": false,
     "start_time": "2022-08-13T14:02:48.841715",
     "status": "completed"
    },
    "tags": []
   },
   "outputs": [],
   "source": [
    "opt = tf.keras.optimizers.Adam(learning_rate=0.0005) # default is 0.001\n",
    "model.compile(loss=\"categorical_crossentropy\", optimizer=opt, metrics=[\"accuracy\"])\n"
   ]
  },
  {
   "cell_type": "code",
   "execution_count": 27,
   "id": "c572d611",
   "metadata": {
    "papermill": {
     "duration": 17.189147,
     "end_time": "2022-08-13T14:03:06.073349",
     "exception": false,
     "start_time": "2022-08-13T14:02:48.884202",
     "status": "completed"
    },
    "tags": []
   },
   "outputs": [
    {
     "name": "stdout",
     "output_type": "stream",
     "text": [
      "Epoch 1/30\n",
      "129/129 [==============================] - 2s 12ms/step - loss: 0.1316 - accuracy: 0.9538 - val_loss: 0.3206 - val_accuracy: 0.8662\n",
      "Epoch 2/30\n",
      "129/129 [==============================] - 1s 9ms/step - loss: 0.0811 - accuracy: 0.9660 - val_loss: 0.1681 - val_accuracy: 0.9326\n",
      "Epoch 3/30\n",
      "129/129 [==============================] - 1s 9ms/step - loss: 0.0703 - accuracy: 0.9713 - val_loss: 0.1060 - val_accuracy: 0.9557\n",
      "Epoch 4/30\n",
      "129/129 [==============================] - 1s 9ms/step - loss: 0.0658 - accuracy: 0.9730 - val_loss: 0.1443 - val_accuracy: 0.9513\n"
     ]
    }
   ],
   "source": [
    "# note we could have said validation_split,0.2. We can set shuffle here too... shuffle=True,\n",
    "history = model.fit(X_train, y_train, batch_size = 128, epochs = 30, verbose=1, \n",
    "                   callbacks = [tf.keras.callbacks.EarlyStopping(monitor='val_loss', min_delta=0, patience=1,\n",
    "                                                     verbose=0, mode='min')],\n",
    "                  validation_split=0.2)\n"
   ]
  },
  {
   "cell_type": "code",
   "execution_count": 28,
   "id": "df428558",
   "metadata": {},
   "outputs": [
    {
     "data": {
      "image/png": "[encoded data removed]",
      "text/plain": [
       "<Figure size 720x720 with 1 Axes>"
      ]
     },
     "metadata": {
      "needs_background": "light"
     },
     "output_type": "display_data"
    },
    {
     "data": {
      "image/png": "[encoded data removed]",
      "text/plain": [
       "<Figure size 720x720 with 1 Axes>"
      ]
     },
     "metadata": {
      "needs_background": "light"
     },
     "output_type": "display_data"
    }
   ],
   "source": [
    "# summarize history for Accuracy\n",
    "fig_acc = plt.figure(figsize=(10, 10))\n",
    "plt.plot(history.history['accuracy'])\n",
    "plt.plot(history.history['val_accuracy'])\n",
    "plt.title('Model Accuracy')\n",
    "plt.ylabel('Accuracy')\n",
    "plt.xlabel('epoch')\n",
    "plt.legend(['train', 'validation'], loc='upper left')\n",
    "plt.show()\n",
    "fig_acc.savefig(\"model_accuracyCNN.png\")\n",
    "\n",
    "# summarize history for Loss\n",
    "fig_acc = plt.figure(figsize=(10, 10))\n",
    "plt.plot(history.history['loss'])\n",
    "plt.plot(history.history['val_loss'])\n",
    "plt.title('Model Loss')\n",
    "plt.ylabel('Loss')\n",
    "plt.xlabel('epoch')\n",
    "plt.legend(['train', 'validation'], loc='upper left') \n",
    "plt.show()\n",
    "fig_acc.savefig(\"model_classification_loss.png\")"
   ]
  },
  {
   "cell_type": "code",
   "execution_count": 29,
   "id": "a94bb871",
   "metadata": {
    "papermill": {
     "duration": 0.176764,
     "end_time": "2022-08-13T14:03:06.258314",
     "exception": false,
     "start_time": "2022-08-13T14:03:06.081550",
     "status": "completed"
    },
    "tags": []
   },
   "outputs": [
    {
     "name": "stdout",
     "output_type": "stream",
     "text": [
      "4/4 [==============================] - 0s 2ms/step\n"
     ]
    }
   ],
   "source": [
    "model_pred = model.predict(X_test)"
   ]
  },
  {
   "cell_type": "code",
   "execution_count": null,
   "id": "c4dfa4c6",
   "metadata": {
    "papermill": {
     "duration": 0.015938,
     "end_time": "2022-08-13T14:03:06.281908",
     "exception": false,
     "start_time": "2022-08-13T14:03:06.265970",
     "status": "completed"
    },
    "tags": []
   },
   "outputs": [],
   "source": []
  },
  {
   "cell_type": "code",
   "execution_count": 30,
   "id": "f2947e97-b4f4-4335-8893-74078d43f9f0",
   "metadata": {},
   "outputs": [
    {
     "data": {
      "text/plain": [
       "(100, 2)"
      ]
     },
     "execution_count": 30,
     "metadata": {},
     "output_type": "execute_result"
    }
   ],
   "source": [
    "y_test.shape"
   ]
  },
  {
   "cell_type": "code",
   "execution_count": 31,
   "id": "4d0b1413-240c-47bd-a121-61aa50bbe81d",
   "metadata": {},
   "outputs": [
    {
     "data": {
      "text/plain": [
       "(100, 2)"
      ]
     },
     "execution_count": 31,
     "metadata": {},
     "output_type": "execute_result"
    }
   ],
   "source": [
    "model_pred.shape"
   ]
  },
  {
   "cell_type": "code",
   "execution_count": 32,
   "id": "6f80b30e",
   "metadata": {
    "papermill": {
     "duration": 0.019767,
     "end_time": "2022-08-13T14:03:06.309286",
     "exception": false,
     "start_time": "2022-08-13T14:03:06.289519",
     "status": "completed"
    },
    "tags": []
   },
   "outputs": [
    {
     "data": {
      "text/plain": [
       "array([[75,  0],\n",
       "       [ 6, 19]], dtype=int64)"
      ]
     },
     "execution_count": 32,
     "metadata": {},
     "output_type": "execute_result"
    },
    {
     "data": {
      "image/png": "[encoded data removed]",
      "text/plain": [
       "<Figure size 432x288 with 2 Axes>"
      ]
     },
     "metadata": {
      "needs_background": "light"
     },
     "output_type": "display_data"
    }
   ],
   "source": [
    "from sklearn.metrics import confusion_matrix, cohen_kappa_score\n",
    "\n",
    "y_classT = np.argmax(y_test,axis=1)\n",
    "y_classP = np.argmax(model_pred,axis=1)\n",
    "cm = confusion_matrix(y_classT, y_classP)\n",
    "cmplot = sns.heatmap(cm,annot=True,xticklabels=[\"Healthy\",\"Unhealthy\"],yticklabels=[\"Healthy\",\"Unhealthy\"] )\n",
    "cmplot.set_title(\"Confusion Matrix - CNN\" )\n",
    "\n",
    "cm"
   ]
  },
  {
   "cell_type": "code",
   "execution_count": 33,
   "id": "b7a97fdd-e12c-4023-a498-6bcf51331899",
   "metadata": {},
   "outputs": [
    {
     "data": {
      "text/plain": [
       "0.94"
      ]
     },
     "execution_count": 33,
     "metadata": {},
     "output_type": "execute_result"
    }
   ],
   "source": [
    "accu = np.mean( y_classT == y_classP)\n",
    "accu"
   ]
  },
  {
   "cell_type": "code",
   "execution_count": 34,
   "id": "d429fb51",
   "metadata": {
    "papermill": {
     "duration": 0.007172,
     "end_time": "2022-08-13T14:03:06.324052",
     "exception": false,
     "start_time": "2022-08-13T14:03:06.316880",
     "status": "completed"
    },
    "tags": []
   },
   "outputs": [
    {
     "data": {
      "text/plain": [
       "0.8260869565217391"
      ]
     },
     "execution_count": 34,
     "metadata": {},
     "output_type": "execute_result"
    }
   ],
   "source": [
    "cohen_kappa_score(y_classT, y_classP)"
   ]
  },
  {
   "cell_type": "code",
   "execution_count": 35,
   "id": "30a76583-4dd6-49c9-9aec-a028cd1828ba",
   "metadata": {},
   "outputs": [
    {
     "data": {
      "text/html": [
       "<div>\n",
       "<style scoped>\n",
       "    .dataframe tbody tr th:only-of-type {\n",
       "        vertical-align: middle;\n",
       "    }\n",
       "\n",
       "    .dataframe tbody tr th {\n",
       "        vertical-align: top;\n",
       "    }\n",
       "\n",
       "    .dataframe thead th {\n",
       "        text-align: right;\n",
       "    }\n",
       "</style>\n",
       "<table border=\"1\" class=\"dataframe\">\n",
       "  <thead>\n",
       "    <tr style=\"text-align: right;\">\n",
       "      <th></th>\n",
       "      <th>Accuracy</th>\n",
       "      <th>Precision (or PPV)</th>\n",
       "      <th>Recall (senitivity or TPR)</th>\n",
       "      <th>f1 score</th>\n",
       "      <th>AUC_ROC</th>\n",
       "      <th>Specificty (or TNR)</th>\n",
       "      <th>NPV</th>\n",
       "      <th>True Positive</th>\n",
       "      <th>True Negative</th>\n",
       "      <th>False Positive</th>\n",
       "      <th>False Negative</th>\n",
       "    </tr>\n",
       "  </thead>\n",
       "  <tbody>\n",
       "    <tr>\n",
       "      <th>0</th>\n",
       "      <td>0.94</td>\n",
       "      <td>1.0</td>\n",
       "      <td>0.76</td>\n",
       "      <td>0.86</td>\n",
       "      <td>0.88</td>\n",
       "      <td>1.0</td>\n",
       "      <td>0.76</td>\n",
       "      <td>75</td>\n",
       "      <td>19</td>\n",
       "      <td>0</td>\n",
       "      <td>6</td>\n",
       "    </tr>\n",
       "  </tbody>\n",
       "</table>\n",
       "</div>"
      ],
      "text/plain": [
       "   Accuracy  Precision (or PPV)  Recall (senitivity or TPR)  f1 score  \\\n",
       "0      0.94                 1.0                        0.76      0.86   \n",
       "\n",
       "   AUC_ROC  Specificty (or TNR)   NPV  True Positive  True Negative  \\\n",
       "0     0.88                  1.0  0.76             75             19   \n",
       "\n",
       "   False Positive  False Negative  \n",
       "0               0               6  "
      ]
     },
     "execution_count": 35,
     "metadata": {},
     "output_type": "execute_result"
    }
   ],
   "source": [
    "binary_classification_performance(y_classT, y_classP)"
   ]
  },
  {
   "cell_type": "code",
   "execution_count": 36,
   "id": "1e0555ea",
   "metadata": {},
   "outputs": [
    {
     "name": "stdout",
     "output_type": "stream",
     "text": [
      "Model: \"sequential\"\n",
      "_________________________________________________________________\n",
      " Layer (type)                Output Shape              Param #   \n",
      "=================================================================\n",
      " conv2d (Conv2D)             (None, 1, 8, 32)          192       \n",
      "                                                                 \n",
      " batch_normalization (BatchN  (None, 1, 8, 32)         128       \n",
      " ormalization)                                                   \n",
      "                                                                 \n",
      " activation (Activation)     (None, 1, 8, 32)          0         \n",
      "                                                                 \n",
      " c2 (Conv2D)                 (None, 1, 8, 64)          6208      \n",
      "                                                                 \n",
      " batch_normalization_1 (Batc  (None, 1, 8, 64)         256       \n",
      " hNormalization)                                                 \n",
      "                                                                 \n",
      " activation_1 (Activation)   (None, 1, 8, 64)          0         \n",
      "                                                                 \n",
      " c3 (Conv2D)                 (None, 1, 8, 128)         24704     \n",
      "                                                                 \n",
      " batch_normalization_2 (Batc  (None, 1, 8, 128)        512       \n",
      " hNormalization)                                                 \n",
      "                                                                 \n",
      " activation_2 (Activation)   (None, 1, 8, 128)         0         \n",
      "                                                                 \n",
      " c4 (Conv2D)                 (None, 1, 8, 256)         98560     \n",
      "                                                                 \n",
      " batch_normalization_3 (Batc  (None, 1, 8, 256)        1024      \n",
      " hNormalization)                                                 \n",
      "                                                                 \n",
      " activation_3 (Activation)   (None, 1, 8, 256)         0         \n",
      "                                                                 \n",
      " flatten (Flatten)           (None, 2048)              0         \n",
      "                                                                 \n",
      " dense (Dense)               (None, 32)                65568     \n",
      "                                                                 \n",
      " dropout (Dropout)           (None, 32)                0         \n",
      "                                                                 \n",
      " dense_1 (Dense)             (None, 2)                 66        \n",
      "                                                                 \n",
      "=================================================================\n",
      "Total params: 197,218\n",
      "Trainable params: 196,258\n",
      "Non-trainable params: 960\n",
      "_________________________________________________________________\n"
     ]
    }
   ],
   "source": [
    "model.summary()"
   ]
  },
  {
   "cell_type": "code",
   "execution_count": 37,
   "id": "46b8f80f",
   "metadata": {},
   "outputs": [],
   "source": [
    "# define the grid search parameters\n",
    "batch_size = [16, 32, 64]\n",
    "epochs = [10, 15, 20]\n",
    "learn_rate = [0.001, 0.005, 0.01]\n",
    "momentum = [0.1, 0.2, 0.4, 0.6, 0.8, 0.9]\n",
    "# param_grid = dict(optimizer__learning_rate=learn_rate, optimizer__momentum=momentum, batch_size=batch_size, epochs=epochs)\n",
    "param_grid = dict(optimizer__learning_rate=learn_rate)\n"
   ]
  },
  {
   "cell_type": "code",
   "execution_count": 38,
   "id": "a9e33dba",
   "metadata": {},
   "outputs": [
    {
     "name": "stdout",
     "output_type": "stream",
     "text": [
      "INFO:tensorflow:Assets written to: C:\\Users\\stuar\\AppData\\Local\\Temp\\tmpab8mv806\\assets\n"
     ]
    },
    {
     "name": "stderr",
     "output_type": "stream",
     "text": [
      "INFO:tensorflow:Assets written to: C:\\Users\\stuar\\AppData\\Local\\Temp\\tmpab8mv806\\assets\n"
     ]
    },
    {
     "name": "stdout",
     "output_type": "stream",
     "text": [
      "INFO:tensorflow:Assets written to: C:\\Users\\stuar\\AppData\\Local\\Temp\\tmpc31_xhc3\\assets\n"
     ]
    },
    {
     "name": "stderr",
     "output_type": "stream",
     "text": [
      "INFO:tensorflow:Assets written to: C:\\Users\\stuar\\AppData\\Local\\Temp\\tmpc31_xhc3\\assets\n"
     ]
    },
    {
     "name": "stdout",
     "output_type": "stream",
     "text": [
      "INFO:tensorflow:Assets written to: C:\\Users\\stuar\\AppData\\Local\\Temp\\tmphy37io2o\\assets\n"
     ]
    },
    {
     "name": "stderr",
     "output_type": "stream",
     "text": [
      "INFO:tensorflow:Assets written to: C:\\Users\\stuar\\AppData\\Local\\Temp\\tmphy37io2o\\assets\n"
     ]
    },
    {
     "name": "stdout",
     "output_type": "stream",
     "text": [
      "INFO:tensorflow:Assets written to: C:\\Users\\stuar\\AppData\\Local\\Temp\\tmp_pdt05x0\\assets\n"
     ]
    },
    {
     "name": "stderr",
     "output_type": "stream",
     "text": [
      "INFO:tensorflow:Assets written to: C:\\Users\\stuar\\AppData\\Local\\Temp\\tmp_pdt05x0\\assets\n"
     ]
    },
    {
     "name": "stdout",
     "output_type": "stream",
     "text": [
      "INFO:tensorflow:Assets written to: C:\\Users\\stuar\\AppData\\Local\\Temp\\tmpp34hw0qc\\assets\n"
     ]
    },
    {
     "name": "stderr",
     "output_type": "stream",
     "text": [
      "INFO:tensorflow:Assets written to: C:\\Users\\stuar\\AppData\\Local\\Temp\\tmpp34hw0qc\\assets\n"
     ]
    },
    {
     "name": "stdout",
     "output_type": "stream",
     "text": [
      "INFO:tensorflow:Assets written to: C:\\Users\\stuar\\AppData\\Local\\Temp\\tmpvc8hqmg7\\assets\n"
     ]
    },
    {
     "name": "stderr",
     "output_type": "stream",
     "text": [
      "INFO:tensorflow:Assets written to: C:\\Users\\stuar\\AppData\\Local\\Temp\\tmpvc8hqmg7\\assets\n"
     ]
    },
    {
     "name": "stdout",
     "output_type": "stream",
     "text": [
      "INFO:tensorflow:Assets written to: C:\\Users\\stuar\\AppData\\Local\\Temp\\tmpktqlu0br\\assets\n"
     ]
    },
    {
     "name": "stderr",
     "output_type": "stream",
     "text": [
      "INFO:tensorflow:Assets written to: C:\\Users\\stuar\\AppData\\Local\\Temp\\tmpktqlu0br\\assets\n"
     ]
    },
    {
     "name": "stdout",
     "output_type": "stream",
     "text": [
      "INFO:tensorflow:Assets written to: C:\\Users\\stuar\\AppData\\Local\\Temp\\tmp6r592gi9\\assets\n"
     ]
    },
    {
     "name": "stderr",
     "output_type": "stream",
     "text": [
      "INFO:tensorflow:Assets written to: C:\\Users\\stuar\\AppData\\Local\\Temp\\tmp6r592gi9\\assets\n"
     ]
    },
    {
     "name": "stdout",
     "output_type": "stream",
     "text": [
      "INFO:tensorflow:Assets written to: C:\\Users\\stuar\\AppData\\Local\\Temp\\tmp587sxroc\\assets\n"
     ]
    },
    {
     "name": "stderr",
     "output_type": "stream",
     "text": [
      "INFO:tensorflow:Assets written to: C:\\Users\\stuar\\AppData\\Local\\Temp\\tmp587sxroc\\assets\n"
     ]
    },
    {
     "name": "stdout",
     "output_type": "stream",
     "text": [
      "INFO:tensorflow:Assets written to: C:\\Users\\stuar\\AppData\\Local\\Temp\\tmpu54r6w2o\\assets\n"
     ]
    },
    {
     "name": "stderr",
     "output_type": "stream",
     "text": [
      "INFO:tensorflow:Assets written to: C:\\Users\\stuar\\AppData\\Local\\Temp\\tmpu54r6w2o\\assets\n"
     ]
    },
    {
     "name": "stdout",
     "output_type": "stream",
     "text": [
      "INFO:tensorflow:Assets written to: C:\\Users\\stuar\\AppData\\Local\\Temp\\tmpma_ugr5r\\assets\n"
     ]
    },
    {
     "name": "stderr",
     "output_type": "stream",
     "text": [
      "INFO:tensorflow:Assets written to: C:\\Users\\stuar\\AppData\\Local\\Temp\\tmpma_ugr5r\\assets\n"
     ]
    },
    {
     "name": "stdout",
     "output_type": "stream",
     "text": [
      "INFO:tensorflow:Assets written to: C:\\Users\\stuar\\AppData\\Local\\Temp\\tmpwij_ok3g\\assets\n"
     ]
    },
    {
     "name": "stderr",
     "output_type": "stream",
     "text": [
      "INFO:tensorflow:Assets written to: C:\\Users\\stuar\\AppData\\Local\\Temp\\tmpwij_ok3g\\assets\n"
     ]
    },
    {
     "name": "stdout",
     "output_type": "stream",
     "text": [
      "INFO:tensorflow:Assets written to: C:\\Users\\stuar\\AppData\\Local\\Temp\\tmp4wkrxv7j\\assets\n"
     ]
    },
    {
     "name": "stderr",
     "output_type": "stream",
     "text": [
      "INFO:tensorflow:Assets written to: C:\\Users\\stuar\\AppData\\Local\\Temp\\tmp4wkrxv7j\\assets\n"
     ]
    },
    {
     "name": "stdout",
     "output_type": "stream",
     "text": [
      "INFO:tensorflow:Assets written to: C:\\Users\\stuar\\AppData\\Local\\Temp\\tmp2af6rl45\\assets\n"
     ]
    },
    {
     "name": "stderr",
     "output_type": "stream",
     "text": [
      "INFO:tensorflow:Assets written to: C:\\Users\\stuar\\AppData\\Local\\Temp\\tmp2af6rl45\\assets\n"
     ]
    },
    {
     "name": "stdout",
     "output_type": "stream",
     "text": [
      "INFO:tensorflow:Assets written to: C:\\Users\\stuar\\AppData\\Local\\Temp\\tmpm_4aqubg\\assets\n"
     ]
    },
    {
     "name": "stderr",
     "output_type": "stream",
     "text": [
      "INFO:tensorflow:Assets written to: C:\\Users\\stuar\\AppData\\Local\\Temp\\tmpm_4aqubg\\assets\n"
     ]
    },
    {
     "name": "stdout",
     "output_type": "stream",
     "text": [
      "INFO:tensorflow:Assets written to: C:\\Users\\stuar\\AppData\\Local\\Temp\\tmp_f8r8tvg\\assets\n"
     ]
    },
    {
     "name": "stderr",
     "output_type": "stream",
     "text": [
      "INFO:tensorflow:Assets written to: C:\\Users\\stuar\\AppData\\Local\\Temp\\tmp_f8r8tvg\\assets\n"
     ]
    },
    {
     "name": "stdout",
     "output_type": "stream",
     "text": [
      "INFO:tensorflow:Assets written to: C:\\Users\\stuar\\AppData\\Local\\Temp\\tmpfqkk1etc\\assets\n"
     ]
    },
    {
     "name": "stderr",
     "output_type": "stream",
     "text": [
      "INFO:tensorflow:Assets written to: C:\\Users\\stuar\\AppData\\Local\\Temp\\tmpfqkk1etc\\assets\n"
     ]
    },
    {
     "name": "stdout",
     "output_type": "stream",
     "text": [
      "INFO:tensorflow:Assets written to: C:\\Users\\stuar\\AppData\\Local\\Temp\\tmpwx4ixl3l\\assets\n"
     ]
    },
    {
     "name": "stderr",
     "output_type": "stream",
     "text": [
      "INFO:tensorflow:Assets written to: C:\\Users\\stuar\\AppData\\Local\\Temp\\tmpwx4ixl3l\\assets\n"
     ]
    },
    {
     "name": "stdout",
     "output_type": "stream",
     "text": [
      "INFO:tensorflow:Assets written to: C:\\Users\\stuar\\AppData\\Local\\Temp\\tmpwua2nd55\\assets\n"
     ]
    },
    {
     "name": "stderr",
     "output_type": "stream",
     "text": [
      "INFO:tensorflow:Assets written to: C:\\Users\\stuar\\AppData\\Local\\Temp\\tmpwua2nd55\\assets\n"
     ]
    },
    {
     "name": "stdout",
     "output_type": "stream",
     "text": [
      "INFO:tensorflow:Assets written to: C:\\Users\\stuar\\AppData\\Local\\Temp\\tmpbalbr2oa\\assets\n"
     ]
    },
    {
     "name": "stderr",
     "output_type": "stream",
     "text": [
      "INFO:tensorflow:Assets written to: C:\\Users\\stuar\\AppData\\Local\\Temp\\tmpbalbr2oa\\assets\n"
     ]
    },
    {
     "name": "stdout",
     "output_type": "stream",
     "text": [
      "INFO:tensorflow:Assets written to: C:\\Users\\stuar\\AppData\\Local\\Temp\\tmpd_7cl9ar\\assets\n"
     ]
    },
    {
     "name": "stderr",
     "output_type": "stream",
     "text": [
      "INFO:tensorflow:Assets written to: C:\\Users\\stuar\\AppData\\Local\\Temp\\tmpd_7cl9ar\\assets\n"
     ]
    },
    {
     "name": "stdout",
     "output_type": "stream",
     "text": [
      "Best: -0.048568 using {'optimizer__learning_rate': 0.005}\n",
      "-0.051234 (0.011779) with: {'optimizer__learning_rate': 0.001}\n",
      "-0.048568 (0.017091) with: {'optimizer__learning_rate': 0.005}\n",
      "-0.049052 (0.010567) with: {'optimizer__learning_rate': 0.01}\n"
     ]
    }
   ],
   "source": [
    "import absl.logging\n",
    "absl.logging.set_verbosity(absl.logging.ERROR)\n",
    "\n",
    "model2 = KerasClassifier(build_fn=model, epochs=10, batch_size=128, verbose=0)\n",
    "grid = GridSearchCV(estimator=model2, param_grid=param_grid, n_jobs=-1, cv=3, scoring='neg_mean_squared_error')\n",
    "\n",
    "grid_result = grid.fit(X_train, y_train)\n",
    "# summarize results\n",
    "print(\"Best: %f using %s\" % (grid_result.best_score_, grid_result.best_params_))\n",
    "means = grid_result.cv_results_['mean_test_score']\n",
    "stds = grid_result.cv_results_['std_test_score']\n",
    "params = grid_result.cv_results_['params']\n",
    "for mean, stdev, param in zip(means, stds, params):\n",
    "    print(\"%f (%f) with: %r\" % (mean, stdev, param))"
   ]
  },
  {
   "cell_type": "code",
   "execution_count": 39,
   "id": "d7f0e6e3",
   "metadata": {},
   "outputs": [],
   "source": [
    "model_gs = grid.best_estimator_\n",
    "model_pred = model_gs.predict(X_test)"
   ]
  },
  {
   "cell_type": "code",
   "execution_count": 40,
   "id": "a4950fbe-f7af-4538-8b96-f73b607f35d0",
   "metadata": {},
   "outputs": [
    {
     "data": {
      "text/plain": [
       "Text(0.5, 1.0, 'Confusion Matrix - CNN')"
      ]
     },
     "execution_count": 40,
     "metadata": {},
     "output_type": "execute_result"
    },
    {
     "data": {
      "image/png": "[encoded data removed]",
      "text/plain": [
       "<Figure size 432x288 with 2 Axes>"
      ]
     },
     "metadata": {
      "needs_background": "light"
     },
     "output_type": "display_data"
    }
   ],
   "source": [
    "y_classT = np.argmax(y_test,axis=1)\n",
    "y_classP = np.argmax(model_pred,axis=1)\n",
    "cm = confusion_matrix(y_classT, y_classP)\n",
    "cmplot = sns.heatmap(cm,annot=True,xticklabels=[\"Healthy\",\"Unhealthy\"],yticklabels=[\"Healthy\",\"Unhealthy\"] )\n",
    "cmplot.set_title(\"Confusion Matrix - CNN\" )"
   ]
  },
  {
   "cell_type": "code",
   "execution_count": 41,
   "id": "eda527f1-5590-4620-9c34-5b9a8ae72b9b",
   "metadata": {},
   "outputs": [
    {
     "data": {
      "text/plain": [
       "0.9"
      ]
     },
     "execution_count": 41,
     "metadata": {},
     "output_type": "execute_result"
    }
   ],
   "source": [
    "accu = np.mean( y_classT == y_classP)\n",
    "accu"
   ]
  },
  {
   "cell_type": "code",
   "execution_count": 42,
   "id": "661c6046",
   "metadata": {},
   "outputs": [
    {
     "data": {
      "text/plain": [
       "0.7402597402597403"
      ]
     },
     "execution_count": 42,
     "metadata": {},
     "output_type": "execute_result"
    }
   ],
   "source": [
    "cohen_kappa_score(y_classT, y_classP)"
   ]
  },
  {
   "cell_type": "code",
   "execution_count": 43,
   "id": "1a54f55f",
   "metadata": {},
   "outputs": [
    {
     "data": {
      "text/html": [
       "<div>\n",
       "<style scoped>\n",
       "    .dataframe tbody tr th:only-of-type {\n",
       "        vertical-align: middle;\n",
       "    }\n",
       "\n",
       "    .dataframe tbody tr th {\n",
       "        vertical-align: top;\n",
       "    }\n",
       "\n",
       "    .dataframe thead th {\n",
       "        text-align: right;\n",
       "    }\n",
       "</style>\n",
       "<table border=\"1\" class=\"dataframe\">\n",
       "  <thead>\n",
       "    <tr style=\"text-align: right;\">\n",
       "      <th></th>\n",
       "      <th>Accuracy</th>\n",
       "      <th>Precision (or PPV)</th>\n",
       "      <th>Recall (senitivity or TPR)</th>\n",
       "      <th>f1 score</th>\n",
       "      <th>AUC_ROC</th>\n",
       "      <th>Specificty (or TNR)</th>\n",
       "      <th>NPV</th>\n",
       "      <th>True Positive</th>\n",
       "      <th>True Negative</th>\n",
       "      <th>False Positive</th>\n",
       "      <th>False Negative</th>\n",
       "    </tr>\n",
       "  </thead>\n",
       "  <tbody>\n",
       "    <tr>\n",
       "      <th>0</th>\n",
       "      <td>0.9</td>\n",
       "      <td>0.78</td>\n",
       "      <td>0.84</td>\n",
       "      <td>0.81</td>\n",
       "      <td>0.88</td>\n",
       "      <td>0.78</td>\n",
       "      <td>0.84</td>\n",
       "      <td>69</td>\n",
       "      <td>21</td>\n",
       "      <td>6</td>\n",
       "      <td>4</td>\n",
       "    </tr>\n",
       "  </tbody>\n",
       "</table>\n",
       "</div>"
      ],
      "text/plain": [
       "   Accuracy  Precision (or PPV)  Recall (senitivity or TPR)  f1 score  \\\n",
       "0       0.9                0.78                        0.84      0.81   \n",
       "\n",
       "   AUC_ROC  Specificty (or TNR)   NPV  True Positive  True Negative  \\\n",
       "0     0.88                 0.78  0.84             69             21   \n",
       "\n",
       "   False Positive  False Negative  \n",
       "0               6               4  "
      ]
     },
     "execution_count": 43,
     "metadata": {},
     "output_type": "execute_result"
    }
   ],
   "source": [
    "binary_classification_performance(y_classT, y_classP)"
   ]
  },
  {
   "cell_type": "code",
   "execution_count": 44,
   "id": "9a65e882-df86-4441-83ec-0a2a98b68942",
   "metadata": {},
   "outputs": [
    {
     "name": "stdout",
     "output_type": "stream",
     "text": [
      "INFO:tensorflow:Assets written to: cnn_classifier_nasa.tf\\assets\n"
     ]
    },
    {
     "name": "stderr",
     "output_type": "stream",
     "text": [
      "INFO:tensorflow:Assets written to: cnn_classifier_nasa.tf\\assets\n"
     ]
    }
   ],
   "source": [
    "model.save('cnn_classifier_nasa.tf')"
   ]
  },
  {
   "cell_type": "code",
   "execution_count": 45,
   "id": "4bb9aaed-daba-47dd-824a-d5af291b0321",
   "metadata": {},
   "outputs": [
    {
     "data": {
      "image/png": "[encoded data removed]",
      "text/plain": [
       "<Figure size 432x288 with 1 Axes>"
      ]
     },
     "metadata": {
      "needs_background": "light"
     },
     "output_type": "display_data"
    }
   ],
   "source": [
    "plt.scatter(learn_rate,means)\n",
    "  \n",
    "plt.title(\"Mean Loss, Learn Rate\", fontweight =\"bold\")\n",
    "plt.xlabel(\"Learning Rate\")\n",
    "plt.show()"
   ]
  },
  {
   "cell_type": "code",
   "execution_count": 46,
   "id": "a009e9c8-8b5e-44ac-b75e-83407f5f9096",
   "metadata": {},
   "outputs": [
    {
     "data": {
      "text/plain": [
       "[{'optimizer__learning_rate': 0.001},\n",
       " {'optimizer__learning_rate': 0.005},\n",
       " {'optimizer__learning_rate': 0.01}]"
      ]
     },
     "execution_count": 46,
     "metadata": {},
     "output_type": "execute_result"
    }
   ],
   "source": [
    "params"
   ]
  },
  {
   "cell_type": "code",
   "execution_count": 47,
   "id": "55f8af96-668e-41a3-b782-08dd9251b826",
   "metadata": {},
   "outputs": [
    {
     "data": {
      "text/plain": [
       "array([-0.05123358, -0.04856769, -0.0490524 ])"
      ]
     },
     "execution_count": 47,
     "metadata": {},
     "output_type": "execute_result"
    }
   ],
   "source": [
    "means"
   ]
  },
  {
   "cell_type": "code",
   "execution_count": null,
   "id": "f1398ce4-22f4-4678-8f9c-5e606427d31e",
   "metadata": {},
   "outputs": [],
   "source": []
  }
 ],
 "metadata": {
  "kernelspec": {
   "display_name": "Python 3 (ipykernel)",
   "language": "python",
   "name": "python3"
  },
  "language_info": {
   "codemirror_mode": {
    "name": "ipython",
    "version": 3
   },
   "file_extension": ".py",
   "mimetype": "text/x-python",
   "name": "python",
   "nbconvert_exporter": "python",
   "pygments_lexer": "ipython3",
   "version": "3.9.12"
  },
  "papermill": {
   "default_parameters": {},
   "duration": 38.252424,
   "end_time": "2022-08-13T14:03:09.011663",
   "environment_variables": {},
   "exception": null,
   "input_path": "__notebook__.ipynb",
   "output_path": "__notebook__.ipynb",
   "parameters": {},
   "start_time": "2022-08-13T14:02:30.759239",
   "version": "2.3.4"
  }
 },
 "nbformat": 4,
 "nbformat_minor": 5
}
