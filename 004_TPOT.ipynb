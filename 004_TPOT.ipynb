{
 "cells": [
  {
   "cell_type": "code",
   "execution_count": null,
   "id": "f65bdc1b-84f2-47bb-88b1-914cdd333b64",
   "metadata": {},
   "outputs": [],
   "source": [
    "!pip install tpot"
   ]
  },
  {
   "cell_type": "code",
   "execution_count": null,
   "id": "f1f44328-9015-432a-b4da-06d415717018",
   "metadata": {},
   "outputs": [],
   "source": [
    "# check tpot version\n",
    "import tpot\n",
    "print('tpot: %s' % tpot.__version__)"
   ]
  },
  {
   "cell_type": "code",
   "execution_count": 23,
   "id": "65b41ea2-afbc-4adb-98e8-df68dd1bb7f1",
   "metadata": {},
   "outputs": [],
   "source": [
    "import TFX_NASA_handler as TFX"
   ]
  },
  {
   "cell_type": "code",
   "execution_count": 24,
   "id": "bce1baee-05af-471a-92ae-308ac097a2a0",
   "metadata": {},
   "outputs": [
    {
     "name": "stdout",
     "output_type": "stream",
     "text": [
      "Data Prep Complete, columns dropped and smoothing applied\n"
     ]
    }
   ],
   "source": [
    "dirPath = './archive/CMaps/'\n",
    "handler = TFX.TFX_NASA_Handler('tpot_test',dirPath)\n",
    "train, test, y_test = handler.load_data()\n",
    "handler.data_prep( train, test )"
   ]
  },
  {
   "cell_type": "code",
   "execution_count": 3,
   "id": "7e35cc10-3ecb-4a77-b0c0-3d25feae3f47",
   "metadata": {},
   "outputs": [
    {
     "name": "stderr",
     "output_type": "stream",
     "text": [
      "C:\\Users\\stuar\\anaconda3\\lib\\site-packages\\tpot\\builtins\\__init__.py:36: UserWarning: Warning: optional dependency `torch` is not available. - skipping import of NN models.\n",
      "  warnings.warn(\"Warning: optional dependency `torch` is not available. - skipping import of NN models.\")\n"
     ]
    },
    {
     "data": {
      "application/vnd.jupyter.widget-view+json": {
       "model_id": "",
       "version_major": 2,
       "version_minor": 0
      },
      "text/plain": [
       "Optimization Progress:   0%|          | 0/600 [00:00<?, ?pipeline/s]"
      ]
     },
     "metadata": {},
     "output_type": "display_data"
    },
    {
     "name": "stdout",
     "output_type": "stream",
     "text": [
      "\n",
      "Generation 1 - Current best internal CV score: -438.8749624813072\n",
      "\n",
      "Generation 2 - Current best internal CV score: -437.5826256581918\n",
      "\n",
      "Generation 3 - Current best internal CV score: -437.5826256581918\n",
      "\n",
      "Generation 4 - Current best internal CV score: -435.87635141214577\n",
      "\n",
      "Generation 5 - Current best internal CV score: -435.462818294697\n",
      "\n",
      "Best pipeline: ExtraTreesRegressor(MaxAbsScaler(SGDRegressor(input_matrix, alpha=0.001, eta0=1.0, fit_intercept=False, l1_ratio=0.25, learning_rate=invscaling, loss=huber, penalty=elasticnet, power_t=0.5)), bootstrap=True, max_features=0.3, min_samples_leaf=16, min_samples_split=14, n_estimators=100)\n"
     ]
    },
    {
     "data": {
      "text/plain": [
       "TPOTRegressor(generations=5, verbosity=2)"
      ]
     },
     "execution_count": 3,
     "metadata": {},
     "output_type": "execute_result"
    }
   ],
   "source": [
    "from tpot import TPOTClassifier\n",
    "from tpot import TPOTRegressor\n",
    "\n",
    "\n"
   ]
  },
  {
   "cell_type": "code",
   "execution_count": 12,
   "id": "9dec0e86-0fce-43e6-ade3-26dffe28fa3f",
   "metadata": {},
   "outputs": [
    {
     "name": "stdout",
     "output_type": "stream",
     "text": [
      "RMSE:  19.837973332083354\n",
      "r-squared:  0.7721048619279357\n"
     ]
    },
    {
     "name": "stderr",
     "output_type": "stream",
     "text": [
      "C:\\Users\\stuar\\anaconda3\\lib\\site-packages\\sklearn\\base.py:450: UserWarning: X does not have valid feature names, but SGDRegressor was fitted with feature names\n",
      "  warnings.warn(\n"
     ]
    }
   ],
   "source": [
    "import numpy as np\n",
    "from sklearn.metrics import mean_squared_error, r2_score\n",
    "model_pred = tpot.predict(handler.X_test)\n",
    "r2 = r2_score(y_test,model_pred)\n",
    "RMSE = np.sqrt(mean_squared_error(y_test,model_pred))\n",
    "print(\"RMSE: \", RMSE)\n",
    "print(\"r-squared: \", r2)"
   ]
  },
  {
   "cell_type": "code",
   "execution_count": 13,
   "id": "4e066c73-1793-4501-b635-99884296f5d3",
   "metadata": {},
   "outputs": [],
   "source": [
    "y_trainC, y_testC = handler.rephrase_BinaryClassification(handler.y_train, y_test, limit = 30)"
   ]
  },
  {
   "cell_type": "code",
   "execution_count": 14,
   "id": "cad446c3-1519-4377-8d4e-f0d117653746",
   "metadata": {},
   "outputs": [
    {
     "data": {
      "application/vnd.jupyter.widget-view+json": {
       "model_id": "",
       "version_major": 2,
       "version_minor": 0
      },
      "text/plain": [
       "Optimization Progress:   0%|          | 0/600 [00:00<?, ?pipeline/s]"
      ]
     },
     "metadata": {},
     "output_type": "display_data"
    },
    {
     "name": "stdout",
     "output_type": "stream",
     "text": [
      "\n",
      "Generation 1 - Current best internal CV score: 0.9634040799384449\n",
      "\n",
      "Generation 2 - Current best internal CV score: 0.9649553247644673\n",
      "\n",
      "Generation 3 - Current best internal CV score: 0.9649553247644673\n",
      "\n",
      "Generation 4 - Current best internal CV score: 0.9649553247644673\n",
      "\n",
      "Generation 5 - Current best internal CV score: 0.9649553247644673\n",
      "\n",
      "Best pipeline: MLPClassifier(RobustScaler(input_matrix), alpha=0.1, learning_rate_init=0.1)\n"
     ]
    },
    {
     "data": {
      "text/plain": [
       "TPOTClassifier(generations=5, verbosity=2)"
      ]
     },
     "execution_count": 14,
     "metadata": {},
     "output_type": "execute_result"
    }
   ],
   "source": [
    "tpotC = TPOTClassifier(generations=5,verbosity=2)\n",
    "\n",
    "tpotC.fit(handler.X_train,y_trainC)"
   ]
  },
  {
   "cell_type": "code",
   "execution_count": 17,
   "id": "c34446eb-9df2-478b-b832-6350d817c787",
   "metadata": {},
   "outputs": [
    {
     "data": {
      "text/plain": [
       "Text(0.5, 1.0, 'Confusion Matrix - Tpot lib')"
      ]
     },
     "execution_count": 17,
     "metadata": {},
     "output_type": "execute_result"
    },
    {
     "data": {
      "image/png": "[encoded data removed]",
      "text/plain": [
       "<Figure size 432x288 with 2 Axes>"
      ]
     },
     "metadata": {
      "needs_background": "light"
     },
     "output_type": "display_data"
    }
   ],
   "source": [
    "import seaborn as sns\n",
    "from sklearn.metrics import confusion_matrix, cohen_kappa_score\n",
    "model_predC = tpotC.predict(handler.X_test)\n",
    "cm = confusion_matrix(np.squeeze(y_testC), model_predC)\n",
    "cmplot = sns.heatmap(cm,annot=True,xticklabels=[\"Healthy\",\"Unhealthy\"],yticklabels=[\"Healthy\",\"Unhealthy\"] )\n",
    "cmplot.set_title(\"Confusion Matrix - Tpot lib\")\n"
   ]
  },
  {
   "cell_type": "code",
   "execution_count": 35,
   "id": "33cd7acc-57c2-4e6a-9c19-0b87a61c8eb2",
   "metadata": {
    "jupyter": {
     "source_hidden": true
    },
    "tags": []
   },
   "outputs": [],
   "source": [
    "import pandas as pd\n",
    "from sklearn.metrics import recall_score, precision_score, accuracy_score, f1_score,roc_auc_score\n",
    "\n",
    "def binary_classification_performance(y_test, y_pred):\n",
    "        tp, fp, fn, tn = confusion_matrix(y_test, y_pred).ravel()\n",
    "        accuracy = round(accuracy_score(y_pred = y_pred, y_true = y_test),2)\n",
    "        precision = round(precision_score(y_pred = y_pred, y_true = y_test),2)\n",
    "        recall = round(recall_score(y_pred = y_pred, y_true = y_test),2)\n",
    "        f1_score = round(2*precision*recall/(precision + recall),2)\n",
    "        specificity = round(tn/(tn+fp),2)\n",
    "        npv = round(tn/(tn+fn),2)\n",
    "        auc_roc = round(roc_auc_score(y_score = y_pred, y_true = y_test),2)\n",
    "\n",
    "\n",
    "        result = pd.DataFrame({'Accuracy' : [accuracy],\n",
    "                             'Precision (or PPV)' : [precision],\n",
    "                             'Recall (senitivity or TPR)' : [recall],\n",
    "                             'f1 score' : [f1_score],\n",
    "                             'AUC_ROC' : [auc_roc],\n",
    "                             'Specificty (or TNR)': [specificity],\n",
    "                             'NPV' : [npv],\n",
    "                             'True Positive' : [tp],\n",
    "                             'True Negative' : [tn],\n",
    "                             'False Positive':[fp],\n",
    "                             'False Negative':[fn]})\n",
    "        return result"
   ]
  },
  {
   "cell_type": "code",
   "execution_count": 36,
   "id": "1b4a270f-fbad-46b6-80d0-01be75f8a67d",
   "metadata": {},
   "outputs": [
    {
     "data": {
      "text/plain": [
       "0.93"
      ]
     },
     "execution_count": 36,
     "metadata": {},
     "output_type": "execute_result"
    }
   ],
   "source": [
    "accu = np.mean( np.squeeze(y_testC)==model_predC)\n",
    "accu"
   ]
  },
  {
   "cell_type": "code",
   "execution_count": 37,
   "id": "5e0ea22a-f9c7-4760-b161-ca1db1aefd03",
   "metadata": {},
   "outputs": [
    {
     "data": {
      "text/html": [
       "<div>\n",
       "<style scoped>\n",
       "    .dataframe tbody tr th:only-of-type {\n",
       "        vertical-align: middle;\n",
       "    }\n",
       "\n",
       "    .dataframe tbody tr th {\n",
       "        vertical-align: top;\n",
       "    }\n",
       "\n",
       "    .dataframe thead th {\n",
       "        text-align: right;\n",
       "    }\n",
       "</style>\n",
       "<table border=\"1\" class=\"dataframe\">\n",
       "  <thead>\n",
       "    <tr style=\"text-align: right;\">\n",
       "      <th></th>\n",
       "      <th>Accuracy</th>\n",
       "      <th>Precision (or PPV)</th>\n",
       "      <th>Recall (senitivity or TPR)</th>\n",
       "      <th>f1 score</th>\n",
       "      <th>AUC_ROC</th>\n",
       "      <th>Specificty (or TNR)</th>\n",
       "      <th>NPV</th>\n",
       "      <th>True Positive</th>\n",
       "      <th>True Negative</th>\n",
       "      <th>False Positive</th>\n",
       "      <th>False Negative</th>\n",
       "    </tr>\n",
       "  </thead>\n",
       "  <tbody>\n",
       "    <tr>\n",
       "      <th>0</th>\n",
       "      <td>0.93</td>\n",
       "      <td>0.91</td>\n",
       "      <td>0.8</td>\n",
       "      <td>0.85</td>\n",
       "      <td>0.89</td>\n",
       "      <td>0.91</td>\n",
       "      <td>0.8</td>\n",
       "      <td>73</td>\n",
       "      <td>20</td>\n",
       "      <td>2</td>\n",
       "      <td>5</td>\n",
       "    </tr>\n",
       "  </tbody>\n",
       "</table>\n",
       "</div>"
      ],
      "text/plain": [
       "   Accuracy  Precision (or PPV)  Recall (senitivity or TPR)  f1 score  \\\n",
       "0      0.93                0.91                         0.8      0.85   \n",
       "\n",
       "   AUC_ROC  Specificty (or TNR)  NPV  True Positive  True Negative  \\\n",
       "0     0.89                 0.91  0.8             73             20   \n",
       "\n",
       "   False Positive  False Negative  \n",
       "0               2               5  "
      ]
     },
     "execution_count": 37,
     "metadata": {},
     "output_type": "execute_result"
    }
   ],
   "source": [
    "binary_classification_performance(y_testC, model_predC)"
   ]
  },
  {
   "cell_type": "code",
   "execution_count": null,
   "id": "5fb5dd8a-8c82-42cc-a081-dcc291048bbb",
   "metadata": {},
   "outputs": [],
   "source": []
  }
 ],
 "metadata": {
  "kernelspec": {
   "display_name": "Python 3 (ipykernel)",
   "language": "python",
   "name": "python3"
  },
  "language_info": {
   "codemirror_mode": {
    "name": "ipython",
    "version": 3
   },
   "file_extension": ".py",
   "mimetype": "text/x-python",
   "name": "python",
   "nbconvert_exporter": "python",
   "pygments_lexer": "ipython3",
   "version": "3.9.12"
  }
 },
 "nbformat": 4,
 "nbformat_minor": 5
}
