{
 "cells": [
  {
   "cell_type": "code",
   "execution_count": 1,
   "metadata": {
    "_cell_guid": "b1076dfc-b9ad-4769-8c92-a6c4dae69d19",
    "_uuid": "8f2839f25d086af736a60e9eeb907d3b93b6e0e5",
    "execution": {
     "iopub.execute_input": "2022-08-13T14:02:40.068962Z",
     "iopub.status.busy": "2022-08-13T14:02:40.068107Z",
     "iopub.status.idle": "2022-08-13T14:02:40.102388Z",
     "shell.execute_reply": "2022-08-13T14:02:40.101047Z"
    },
    "papermill": {
     "duration": 0.046643,
     "end_time": "2022-08-13T14:02:40.105696",
     "exception": false,
     "start_time": "2022-08-13T14:02:40.059053",
     "status": "completed"
    },
    "tags": []
   },
   "outputs": [],
   "source": [
    "import numpy as np # numbers and algebra in python\n",
    "import pandas as pd # tables and processing tabular data\n"
   ]
  },
  {
   "cell_type": "code",
   "execution_count": 2,
   "metadata": {
    "execution": {
     "iopub.execute_input": "2022-08-13T14:02:40.118870Z",
     "iopub.status.busy": "2022-08-13T14:02:40.118115Z",
     "iopub.status.idle": "2022-08-13T14:02:46.812753Z",
     "shell.execute_reply": "2022-08-13T14:02:46.811430Z"
    },
    "papermill": {
     "duration": 6.704445,
     "end_time": "2022-08-13T14:02:46.815675",
     "exception": false,
     "start_time": "2022-08-13T14:02:40.111230",
     "status": "completed"
    },
    "tags": []
   },
   "outputs": [],
   "source": [
    "import tensorflow as tf\n",
    "import seaborn as sns\n",
    "import matplotlib.pyplot as plt\n",
    "from sklearn.preprocessing import StandardScaler, MinMaxScaler\n",
    "from sklearn.metrics import mean_squared_error\n",
    "\n",
    "from sklearn.model_selection import GridSearchCV\n",
    "from scikeras.wrappers import KerasRegressor\n"
   ]
  },
  {
   "cell_type": "code",
   "execution_count": 3,
   "metadata": {
    "execution": {
     "iopub.execute_input": "2022-08-13T14:02:46.828632Z",
     "iopub.status.busy": "2022-08-13T14:02:46.827755Z",
     "iopub.status.idle": "2022-08-13T14:02:46.833482Z",
     "shell.execute_reply": "2022-08-13T14:02:46.832390Z"
    },
    "papermill": {
     "duration": 0.015182,
     "end_time": "2022-08-13T14:02:46.836157",
     "exception": false,
     "start_time": "2022-08-13T14:02:46.820975",
     "status": "completed"
    },
    "tags": []
   },
   "outputs": [],
   "source": [
    "index_names = ['unit_number', 'time_cycles']\n",
    "setting_names = ['setting_1', 'setting_2', 'setting_3']\n",
    "sensor_names = ['s_{}'.format(i+1) for i in range(0,21)]\n",
    "col_names = index_names + setting_names + sensor_names"
   ]
  },
  {
   "cell_type": "code",
   "execution_count": 4,
   "metadata": {},
   "outputs": [],
   "source": [
    "dirPath = './archive/CMaps/'\n",
    "\n",
    "train = pd.read_csv(dirPath + 'train_FD001.txt',sep='\\s+',names=col_names)\n",
    "test = pd.read_csv(dirPath + 'test_FD001.txt',sep='\\s+',names=col_names)\n",
    "y_test = pd.read_csv(dirPath + 'RUL_FD001.txt',sep='\\s+',header=None)"
   ]
  },
  {
   "cell_type": "code",
   "execution_count": 5,
   "metadata": {
    "execution": {
     "iopub.execute_input": "2022-08-13T14:02:47.103514Z",
     "iopub.status.busy": "2022-08-13T14:02:47.102196Z",
     "iopub.status.idle": "2022-08-13T14:02:47.147439Z",
     "shell.execute_reply": "2022-08-13T14:02:47.146103Z"
    },
    "papermill": {
     "duration": 0.055336,
     "end_time": "2022-08-13T14:02:47.150193",
     "exception": false,
     "start_time": "2022-08-13T14:02:47.094857",
     "status": "completed"
    },
    "tags": []
   },
   "outputs": [
    {
     "data": {
      "text/html": [
       "<div>\n",
       "<style scoped>\n",
       "    .dataframe tbody tr th:only-of-type {\n",
       "        vertical-align: middle;\n",
       "    }\n",
       "\n",
       "    .dataframe tbody tr th {\n",
       "        vertical-align: top;\n",
       "    }\n",
       "\n",
       "    .dataframe thead th {\n",
       "        text-align: right;\n",
       "    }\n",
       "</style>\n",
       "<table border=\"1\" class=\"dataframe\">\n",
       "  <thead>\n",
       "    <tr style=\"text-align: right;\">\n",
       "      <th></th>\n",
       "      <th>time_cycles</th>\n",
       "    </tr>\n",
       "  </thead>\n",
       "  <tbody>\n",
       "    <tr>\n",
       "      <th>count</th>\n",
       "      <td>100.000000</td>\n",
       "    </tr>\n",
       "    <tr>\n",
       "      <th>mean</th>\n",
       "      <td>206.310000</td>\n",
       "    </tr>\n",
       "    <tr>\n",
       "      <th>std</th>\n",
       "      <td>46.342749</td>\n",
       "    </tr>\n",
       "    <tr>\n",
       "      <th>min</th>\n",
       "      <td>128.000000</td>\n",
       "    </tr>\n",
       "    <tr>\n",
       "      <th>25%</th>\n",
       "      <td>177.000000</td>\n",
       "    </tr>\n",
       "    <tr>\n",
       "      <th>50%</th>\n",
       "      <td>199.000000</td>\n",
       "    </tr>\n",
       "    <tr>\n",
       "      <th>75%</th>\n",
       "      <td>229.250000</td>\n",
       "    </tr>\n",
       "    <tr>\n",
       "      <th>max</th>\n",
       "      <td>362.000000</td>\n",
       "    </tr>\n",
       "  </tbody>\n",
       "</table>\n",
       "</div>"
      ],
      "text/plain": [
       "       time_cycles\n",
       "count   100.000000\n",
       "mean    206.310000\n",
       "std      46.342749\n",
       "min     128.000000\n",
       "25%     177.000000\n",
       "50%     199.000000\n",
       "75%     229.250000\n",
       "max     362.000000"
      ]
     },
     "execution_count": 5,
     "metadata": {},
     "output_type": "execute_result"
    }
   ],
   "source": [
    "train[index_names].groupby('unit_number').max().describe()"
   ]
  },
  {
   "cell_type": "code",
   "execution_count": 6,
   "metadata": {
    "execution": {
     "iopub.execute_input": "2022-08-13T14:02:47.162958Z",
     "iopub.status.busy": "2022-08-13T14:02:47.162543Z",
     "iopub.status.idle": "2022-08-13T14:02:47.340295Z",
     "shell.execute_reply": "2022-08-13T14:02:47.339151Z"
    },
    "papermill": {
     "duration": 0.186824,
     "end_time": "2022-08-13T14:02:47.342634",
     "exception": false,
     "start_time": "2022-08-13T14:02:47.155810",
     "status": "completed"
    },
    "tags": []
   },
   "outputs": [],
   "source": [
    "def gate_the_RUL(train,cap=150):\n",
    "    # Rectifier\n",
    "    train['RUL'] = np.minimum(train['RUL'],cap)\n",
    "    return train\n",
    "\n",
    "def add_remaining_useful_life(df):\n",
    "    # Get the total number of cycles for each unit\n",
    "    grouped_by_unit = df.groupby(by=\"unit_number\")\n",
    "    max_cycle = grouped_by_unit[\"time_cycles\"].max()\n",
    "    \n",
    "    # Merge the max cycle back into the original frame\n",
    "    result_frame = df.merge(max_cycle.to_frame(name='max_cycle'), left_on='unit_number', right_index=True)\n",
    "    \n",
    "    # Calculate remaining useful life for each row\n",
    "    remaining_useful_life = result_frame[\"max_cycle\"] - result_frame[\"time_cycles\"]\n",
    "    result_frame[\"RUL\"] = remaining_useful_life\n",
    "    \n",
    "    # drop max_cycle as it's no longer needed\n",
    "    result_frame = result_frame.drop(\"max_cycle\", axis=1)\n",
    "    return result_frame"
   ]
  },
  {
   "cell_type": "code",
   "execution_count": 7,
   "metadata": {},
   "outputs": [
    {
     "data": {
      "image/png": "[encoded data removed]",
      "text/plain": [
       "<Figure size 432x288 with 25 Axes>"
      ]
     },
     "metadata": {
      "needs_background": "light"
     },
     "output_type": "display_data"
    }
   ],
   "source": [
    "# Here are a small selection of useful looking signals, along with our taregt (RUL)\n",
    "good_sensors = ['s_2', 's_3', 's_4', 's_7', 's_8']\n",
    "pd.plotting.scatter_matrix(train.loc[:,good_sensors], alpha=0.2)\n",
    "plt.show()"
   ]
  },
  {
   "cell_type": "markdown",
   "metadata": {},
   "source": [
    "As we discussed last week, we can gate the RUL during training if we \"don't care about it above a threshold\".\n",
    "Consider histograms later in this script to understand why"
   ]
  },
  {
   "cell_type": "code",
   "execution_count": 8,
   "metadata": {
    "execution": {
     "iopub.execute_input": "2022-08-13T14:02:47.356424Z",
     "iopub.status.busy": "2022-08-13T14:02:47.355385Z",
     "iopub.status.idle": "2022-08-13T14:02:47.395621Z",
     "shell.execute_reply": "2022-08-13T14:02:47.394409Z"
    },
    "papermill": {
     "duration": 0.050402,
     "end_time": "2022-08-13T14:02:47.398596",
     "exception": false,
     "start_time": "2022-08-13T14:02:47.348194",
     "status": "completed"
    },
    "tags": []
   },
   "outputs": [
    {
     "data": {
      "text/html": [
       "<div>\n",
       "<style scoped>\n",
       "    .dataframe tbody tr th:only-of-type {\n",
       "        vertical-align: middle;\n",
       "    }\n",
       "\n",
       "    .dataframe tbody tr th {\n",
       "        vertical-align: top;\n",
       "    }\n",
       "\n",
       "    .dataframe thead th {\n",
       "        text-align: right;\n",
       "    }\n",
       "</style>\n",
       "<table border=\"1\" class=\"dataframe\">\n",
       "  <thead>\n",
       "    <tr style=\"text-align: right;\">\n",
       "      <th></th>\n",
       "      <th>unit_number</th>\n",
       "      <th>time_cycles</th>\n",
       "      <th>RUL</th>\n",
       "    </tr>\n",
       "  </thead>\n",
       "  <tbody>\n",
       "    <tr>\n",
       "      <th>0</th>\n",
       "      <td>1</td>\n",
       "      <td>1</td>\n",
       "      <td>150</td>\n",
       "    </tr>\n",
       "    <tr>\n",
       "      <th>1</th>\n",
       "      <td>1</td>\n",
       "      <td>2</td>\n",
       "      <td>150</td>\n",
       "    </tr>\n",
       "    <tr>\n",
       "      <th>2</th>\n",
       "      <td>1</td>\n",
       "      <td>3</td>\n",
       "      <td>150</td>\n",
       "    </tr>\n",
       "    <tr>\n",
       "      <th>3</th>\n",
       "      <td>1</td>\n",
       "      <td>4</td>\n",
       "      <td>150</td>\n",
       "    </tr>\n",
       "    <tr>\n",
       "      <th>4</th>\n",
       "      <td>1</td>\n",
       "      <td>5</td>\n",
       "      <td>150</td>\n",
       "    </tr>\n",
       "    <tr>\n",
       "      <th>...</th>\n",
       "      <td>...</td>\n",
       "      <td>...</td>\n",
       "      <td>...</td>\n",
       "    </tr>\n",
       "    <tr>\n",
       "      <th>20626</th>\n",
       "      <td>100</td>\n",
       "      <td>196</td>\n",
       "      <td>4</td>\n",
       "    </tr>\n",
       "    <tr>\n",
       "      <th>20627</th>\n",
       "      <td>100</td>\n",
       "      <td>197</td>\n",
       "      <td>3</td>\n",
       "    </tr>\n",
       "    <tr>\n",
       "      <th>20628</th>\n",
       "      <td>100</td>\n",
       "      <td>198</td>\n",
       "      <td>2</td>\n",
       "    </tr>\n",
       "    <tr>\n",
       "      <th>20629</th>\n",
       "      <td>100</td>\n",
       "      <td>199</td>\n",
       "      <td>1</td>\n",
       "    </tr>\n",
       "    <tr>\n",
       "      <th>20630</th>\n",
       "      <td>100</td>\n",
       "      <td>200</td>\n",
       "      <td>0</td>\n",
       "    </tr>\n",
       "  </tbody>\n",
       "</table>\n",
       "<p>20631 rows × 3 columns</p>\n",
       "</div>"
      ],
      "text/plain": [
       "       unit_number  time_cycles  RUL\n",
       "0                1            1  150\n",
       "1                1            2  150\n",
       "2                1            3  150\n",
       "3                1            4  150\n",
       "4                1            5  150\n",
       "...            ...          ...  ...\n",
       "20626          100          196    4\n",
       "20627          100          197    3\n",
       "20628          100          198    2\n",
       "20629          100          199    1\n",
       "20630          100          200    0\n",
       "\n",
       "[20631 rows x 3 columns]"
      ]
     },
     "execution_count": 8,
     "metadata": {},
     "output_type": "execute_result"
    }
   ],
   "source": [
    "train = add_remaining_useful_life(train)\n",
    "train = gate_the_RUL(train,cap=150)\n",
    "\n",
    "train[index_names+['RUL']] # last thing in cell prints out"
   ]
  },
  {
   "cell_type": "code",
   "execution_count": 9,
   "metadata": {},
   "outputs": [
    {
     "data": {
      "image/png": "[encoded data removed]",
      "text/plain": [
       "<Figure size 432x288 with 49 Axes>"
      ]
     },
     "metadata": {
      "needs_background": "light"
     },
     "output_type": "display_data"
    }
   ],
   "source": [
    "# these seem not worth keeping\n",
    "import warnings\n",
    "warnings.filterwarnings(\"ignore\")\n",
    "# drop_sensors = ['s_1','s_5','s_16','s_18','s_19'] # as per last week..\n",
    "drop_sensors = ['s_1','s_5','s_6','s_10','s_16','s_18','s_19'] # new bad signals noted. \n",
    "\n",
    "pd.plotting.scatter_matrix(train.loc[:,drop_sensors])\n",
    "plt.show()"
   ]
  },
  {
   "cell_type": "code",
   "execution_count": 10,
   "metadata": {
    "execution": {
     "iopub.execute_input": "2022-08-13T14:02:47.412780Z",
     "iopub.status.busy": "2022-08-13T14:02:47.411515Z",
     "iopub.status.idle": "2022-08-13T14:02:47.418027Z",
     "shell.execute_reply": "2022-08-13T14:02:47.417182Z"
    },
    "papermill": {
     "duration": 0.015903,
     "end_time": "2022-08-13T14:02:47.420379",
     "exception": false,
     "start_time": "2022-08-13T14:02:47.404476",
     "status": "completed"
    },
    "tags": []
   },
   "outputs": [],
   "source": [
    "# this time let's keep the cycles (normalised) showing current engine life\n",
    "drop_labels = setting_names+drop_sensors # ['unit_number'] was index_names\n",
    " # last time we dropped ['unit_number'] here"
   ]
  },
  {
   "cell_type": "code",
   "execution_count": 11,
   "metadata": {
    "execution": {
     "iopub.execute_input": "2022-08-13T14:02:47.433626Z",
     "iopub.status.busy": "2022-08-13T14:02:47.432821Z",
     "iopub.status.idle": "2022-08-13T14:02:47.440056Z",
     "shell.execute_reply": "2022-08-13T14:02:47.439238Z"
    },
    "papermill": {
     "duration": 0.016502,
     "end_time": "2022-08-13T14:02:47.442394",
     "exception": false,
     "start_time": "2022-08-13T14:02:47.425892",
     "status": "completed"
    },
    "tags": []
   },
   "outputs": [],
   "source": [
    "X_train = train.drop(drop_labels, axis=1)\n",
    "y_train = X_train.pop('RUL')"
   ]
  },
  {
   "cell_type": "code",
   "execution_count": 12,
   "metadata": {
    "execution": {
     "iopub.execute_input": "2022-08-13T14:02:47.455972Z",
     "iopub.status.busy": "2022-08-13T14:02:47.455183Z",
     "iopub.status.idle": "2022-08-13T14:02:47.467817Z",
     "shell.execute_reply": "2022-08-13T14:02:47.466964Z"
    },
    "papermill": {
     "duration": 0.022391,
     "end_time": "2022-08-13T14:02:47.470350",
     "exception": false,
     "start_time": "2022-08-13T14:02:47.447959",
     "status": "completed"
    },
    "tags": []
   },
   "outputs": [],
   "source": [
    "X_test = test.groupby('unit_number').last().reset_index().drop(drop_labels, axis=1)"
   ]
  },
  {
   "cell_type": "code",
   "execution_count": 13,
   "metadata": {
    "execution": {
     "iopub.execute_input": "2022-08-13T14:02:47.483652Z",
     "iopub.status.busy": "2022-08-13T14:02:47.482853Z",
     "iopub.status.idle": "2022-08-13T14:02:47.514236Z",
     "shell.execute_reply": "2022-08-13T14:02:47.513169Z"
    },
    "papermill": {
     "duration": 0.040707,
     "end_time": "2022-08-13T14:02:47.516620",
     "exception": false,
     "start_time": "2022-08-13T14:02:47.475913",
     "status": "completed"
    },
    "tags": []
   },
   "outputs": [
    {
     "data": {
      "text/html": [
       "<div>\n",
       "<style scoped>\n",
       "    .dataframe tbody tr th:only-of-type {\n",
       "        vertical-align: middle;\n",
       "    }\n",
       "\n",
       "    .dataframe tbody tr th {\n",
       "        vertical-align: top;\n",
       "    }\n",
       "\n",
       "    .dataframe thead th {\n",
       "        text-align: right;\n",
       "    }\n",
       "</style>\n",
       "<table border=\"1\" class=\"dataframe\">\n",
       "  <thead>\n",
       "    <tr style=\"text-align: right;\">\n",
       "      <th></th>\n",
       "      <th>unit_number</th>\n",
       "      <th>time_cycles</th>\n",
       "      <th>s_2</th>\n",
       "      <th>s_3</th>\n",
       "      <th>s_4</th>\n",
       "      <th>s_7</th>\n",
       "      <th>s_8</th>\n",
       "      <th>s_9</th>\n",
       "      <th>s_11</th>\n",
       "      <th>s_12</th>\n",
       "      <th>s_13</th>\n",
       "      <th>s_14</th>\n",
       "      <th>s_15</th>\n",
       "      <th>s_17</th>\n",
       "      <th>s_20</th>\n",
       "      <th>s_21</th>\n",
       "    </tr>\n",
       "  </thead>\n",
       "  <tbody>\n",
       "    <tr>\n",
       "      <th>0</th>\n",
       "      <td>1</td>\n",
       "      <td>31</td>\n",
       "      <td>642.58</td>\n",
       "      <td>1581.22</td>\n",
       "      <td>1398.91</td>\n",
       "      <td>554.42</td>\n",
       "      <td>2388.08</td>\n",
       "      <td>9056.40</td>\n",
       "      <td>47.23</td>\n",
       "      <td>521.79</td>\n",
       "      <td>2388.06</td>\n",
       "      <td>8130.11</td>\n",
       "      <td>8.4024</td>\n",
       "      <td>393</td>\n",
       "      <td>38.81</td>\n",
       "      <td>23.3552</td>\n",
       "    </tr>\n",
       "    <tr>\n",
       "      <th>1</th>\n",
       "      <td>2</td>\n",
       "      <td>49</td>\n",
       "      <td>642.55</td>\n",
       "      <td>1586.59</td>\n",
       "      <td>1410.83</td>\n",
       "      <td>553.52</td>\n",
       "      <td>2388.10</td>\n",
       "      <td>9044.77</td>\n",
       "      <td>47.67</td>\n",
       "      <td>521.74</td>\n",
       "      <td>2388.09</td>\n",
       "      <td>8126.90</td>\n",
       "      <td>8.4505</td>\n",
       "      <td>391</td>\n",
       "      <td>38.81</td>\n",
       "      <td>23.2618</td>\n",
       "    </tr>\n",
       "    <tr>\n",
       "      <th>2</th>\n",
       "      <td>3</td>\n",
       "      <td>126</td>\n",
       "      <td>642.88</td>\n",
       "      <td>1589.75</td>\n",
       "      <td>1418.89</td>\n",
       "      <td>552.59</td>\n",
       "      <td>2388.16</td>\n",
       "      <td>9049.26</td>\n",
       "      <td>47.88</td>\n",
       "      <td>520.83</td>\n",
       "      <td>2388.14</td>\n",
       "      <td>8131.46</td>\n",
       "      <td>8.4119</td>\n",
       "      <td>395</td>\n",
       "      <td>38.93</td>\n",
       "      <td>23.2740</td>\n",
       "    </tr>\n",
       "    <tr>\n",
       "      <th>3</th>\n",
       "      <td>4</td>\n",
       "      <td>106</td>\n",
       "      <td>642.78</td>\n",
       "      <td>1594.53</td>\n",
       "      <td>1406.88</td>\n",
       "      <td>552.64</td>\n",
       "      <td>2388.13</td>\n",
       "      <td>9051.30</td>\n",
       "      <td>47.65</td>\n",
       "      <td>521.88</td>\n",
       "      <td>2388.11</td>\n",
       "      <td>8133.64</td>\n",
       "      <td>8.4634</td>\n",
       "      <td>395</td>\n",
       "      <td>38.58</td>\n",
       "      <td>23.2581</td>\n",
       "    </tr>\n",
       "    <tr>\n",
       "      <th>4</th>\n",
       "      <td>5</td>\n",
       "      <td>98</td>\n",
       "      <td>642.27</td>\n",
       "      <td>1589.94</td>\n",
       "      <td>1419.36</td>\n",
       "      <td>553.29</td>\n",
       "      <td>2388.10</td>\n",
       "      <td>9053.99</td>\n",
       "      <td>47.46</td>\n",
       "      <td>521.00</td>\n",
       "      <td>2388.15</td>\n",
       "      <td>8125.74</td>\n",
       "      <td>8.4362</td>\n",
       "      <td>394</td>\n",
       "      <td>38.75</td>\n",
       "      <td>23.4117</td>\n",
       "    </tr>\n",
       "    <tr>\n",
       "      <th>...</th>\n",
       "      <td>...</td>\n",
       "      <td>...</td>\n",
       "      <td>...</td>\n",
       "      <td>...</td>\n",
       "      <td>...</td>\n",
       "      <td>...</td>\n",
       "      <td>...</td>\n",
       "      <td>...</td>\n",
       "      <td>...</td>\n",
       "      <td>...</td>\n",
       "      <td>...</td>\n",
       "      <td>...</td>\n",
       "      <td>...</td>\n",
       "      <td>...</td>\n",
       "      <td>...</td>\n",
       "      <td>...</td>\n",
       "    </tr>\n",
       "    <tr>\n",
       "      <th>95</th>\n",
       "      <td>96</td>\n",
       "      <td>97</td>\n",
       "      <td>642.30</td>\n",
       "      <td>1590.88</td>\n",
       "      <td>1397.94</td>\n",
       "      <td>553.99</td>\n",
       "      <td>2388.03</td>\n",
       "      <td>9062.41</td>\n",
       "      <td>47.14</td>\n",
       "      <td>522.30</td>\n",
       "      <td>2388.01</td>\n",
       "      <td>8148.24</td>\n",
       "      <td>8.4110</td>\n",
       "      <td>391</td>\n",
       "      <td>38.96</td>\n",
       "      <td>23.4606</td>\n",
       "    </tr>\n",
       "    <tr>\n",
       "      <th>96</th>\n",
       "      <td>97</td>\n",
       "      <td>134</td>\n",
       "      <td>642.59</td>\n",
       "      <td>1582.96</td>\n",
       "      <td>1410.92</td>\n",
       "      <td>554.05</td>\n",
       "      <td>2388.06</td>\n",
       "      <td>9076.36</td>\n",
       "      <td>47.38</td>\n",
       "      <td>521.58</td>\n",
       "      <td>2388.06</td>\n",
       "      <td>8155.48</td>\n",
       "      <td>8.4500</td>\n",
       "      <td>395</td>\n",
       "      <td>38.61</td>\n",
       "      <td>23.2953</td>\n",
       "    </tr>\n",
       "    <tr>\n",
       "      <th>97</th>\n",
       "      <td>98</td>\n",
       "      <td>121</td>\n",
       "      <td>642.68</td>\n",
       "      <td>1599.51</td>\n",
       "      <td>1415.47</td>\n",
       "      <td>553.44</td>\n",
       "      <td>2388.13</td>\n",
       "      <td>9062.34</td>\n",
       "      <td>47.66</td>\n",
       "      <td>521.53</td>\n",
       "      <td>2388.09</td>\n",
       "      <td>8146.39</td>\n",
       "      <td>8.4235</td>\n",
       "      <td>394</td>\n",
       "      <td>38.76</td>\n",
       "      <td>23.3608</td>\n",
       "    </tr>\n",
       "    <tr>\n",
       "      <th>98</th>\n",
       "      <td>99</td>\n",
       "      <td>97</td>\n",
       "      <td>642.00</td>\n",
       "      <td>1585.03</td>\n",
       "      <td>1397.98</td>\n",
       "      <td>554.75</td>\n",
       "      <td>2388.01</td>\n",
       "      <td>9067.16</td>\n",
       "      <td>47.26</td>\n",
       "      <td>521.82</td>\n",
       "      <td>2388.02</td>\n",
       "      <td>8150.38</td>\n",
       "      <td>8.4003</td>\n",
       "      <td>391</td>\n",
       "      <td>38.95</td>\n",
       "      <td>23.3595</td>\n",
       "    </tr>\n",
       "    <tr>\n",
       "      <th>99</th>\n",
       "      <td>100</td>\n",
       "      <td>198</td>\n",
       "      <td>642.95</td>\n",
       "      <td>1601.62</td>\n",
       "      <td>1424.99</td>\n",
       "      <td>552.48</td>\n",
       "      <td>2388.06</td>\n",
       "      <td>9155.03</td>\n",
       "      <td>47.80</td>\n",
       "      <td>521.07</td>\n",
       "      <td>2388.05</td>\n",
       "      <td>8214.64</td>\n",
       "      <td>8.4903</td>\n",
       "      <td>396</td>\n",
       "      <td>38.70</td>\n",
       "      <td>23.1855</td>\n",
       "    </tr>\n",
       "  </tbody>\n",
       "</table>\n",
       "<p>100 rows × 16 columns</p>\n",
       "</div>"
      ],
      "text/plain": [
       "    unit_number  time_cycles     s_2      s_3      s_4     s_7      s_8  \\\n",
       "0             1           31  642.58  1581.22  1398.91  554.42  2388.08   \n",
       "1             2           49  642.55  1586.59  1410.83  553.52  2388.10   \n",
       "2             3          126  642.88  1589.75  1418.89  552.59  2388.16   \n",
       "3             4          106  642.78  1594.53  1406.88  552.64  2388.13   \n",
       "4             5           98  642.27  1589.94  1419.36  553.29  2388.10   \n",
       "..          ...          ...     ...      ...      ...     ...      ...   \n",
       "95           96           97  642.30  1590.88  1397.94  553.99  2388.03   \n",
       "96           97          134  642.59  1582.96  1410.92  554.05  2388.06   \n",
       "97           98          121  642.68  1599.51  1415.47  553.44  2388.13   \n",
       "98           99           97  642.00  1585.03  1397.98  554.75  2388.01   \n",
       "99          100          198  642.95  1601.62  1424.99  552.48  2388.06   \n",
       "\n",
       "        s_9   s_11    s_12     s_13     s_14    s_15  s_17   s_20     s_21  \n",
       "0   9056.40  47.23  521.79  2388.06  8130.11  8.4024   393  38.81  23.3552  \n",
       "1   9044.77  47.67  521.74  2388.09  8126.90  8.4505   391  38.81  23.2618  \n",
       "2   9049.26  47.88  520.83  2388.14  8131.46  8.4119   395  38.93  23.2740  \n",
       "3   9051.30  47.65  521.88  2388.11  8133.64  8.4634   395  38.58  23.2581  \n",
       "4   9053.99  47.46  521.00  2388.15  8125.74  8.4362   394  38.75  23.4117  \n",
       "..      ...    ...     ...      ...      ...     ...   ...    ...      ...  \n",
       "95  9062.41  47.14  522.30  2388.01  8148.24  8.4110   391  38.96  23.4606  \n",
       "96  9076.36  47.38  521.58  2388.06  8155.48  8.4500   395  38.61  23.2953  \n",
       "97  9062.34  47.66  521.53  2388.09  8146.39  8.4235   394  38.76  23.3608  \n",
       "98  9067.16  47.26  521.82  2388.02  8150.38  8.4003   391  38.95  23.3595  \n",
       "99  9155.03  47.80  521.07  2388.05  8214.64  8.4903   396  38.70  23.1855  \n",
       "\n",
       "[100 rows x 16 columns]"
      ]
     },
     "execution_count": 13,
     "metadata": {},
     "output_type": "execute_result"
    }
   ],
   "source": [
    "X_test"
   ]
  },
  {
   "cell_type": "code",
   "execution_count": 14,
   "metadata": {},
   "outputs": [
    {
     "data": {
      "text/plain": [
       "\"\\nX_train = X_train.groupby('unit_number').rolling(2,min_periods=1).sum()\\nX_test = X_test.groupby('unit_number').rolling(2,min_periods=1).sum()\\ndrop_labels = ['unit_number']\\nX_train = X_train.drop(drop_labels, axis=1)\\nX_test = X_test.drop(drop_labels, axis=1)\\n\""
      ]
     },
     "execution_count": 14,
     "metadata": {},
     "output_type": "execute_result"
    }
   ],
   "source": [
    "\"\"\"\n",
    "X_train = X_train.groupby('unit_number').rolling(2,min_periods=1).sum()\n",
    "X_test = X_test.groupby('unit_number').rolling(2,min_periods=1).sum()\n",
    "drop_labels = ['unit_number']\n",
    "X_train = X_train.drop(drop_labels, axis=1)\n",
    "X_test = X_test.drop(drop_labels, axis=1)\n",
    "\"\"\""
   ]
  },
  {
   "cell_type": "code",
   "execution_count": 15,
   "metadata": {},
   "outputs": [],
   "source": [
    "# zero-centered normalise (standardise or zscore)\n",
    "\n",
    "X_train = (X_train - np.mean(X_train)) / np.std(X_train)\n",
    "X_test = (X_test - np.mean(X_test)) / np.std(X_test)\n",
    "\n",
    "img_rows, img_cols = 1, 16\n",
    "input_shape = (img_rows, img_cols, 1)"
   ]
  },
  {
   "cell_type": "code",
   "execution_count": 16,
   "metadata": {},
   "outputs": [
    {
     "name": "stdout",
     "output_type": "stream",
     "text": [
      "16503\n",
      "4127\n",
      "(16503,)\n",
      "(4127,)\n"
     ]
    }
   ],
   "source": [
    "n = len(X_train)\n",
    "r = np.random.permutation(n) # randperm\n",
    "# shuffle\n",
    "X_train = X_train.iloc[r,:] # pandas df - tables: MATLAB style indexes\n",
    "y_train = y_train.iloc[r] # capital letter for matrix (array), lower case column\n",
    "\n",
    "# pandas .iloc .loc\n",
    "\n",
    "splt = int(np.floor(n * 0.8))\n",
    "X_val = X_train.iloc[splt:,:]\n",
    "X_train_splt = X_train.iloc[1:splt,:] # to distinguish full X_train without holdout validation\n",
    "print(len(X_train_splt))\n",
    "print(len(X_val))\n",
    "\n",
    "y_val = y_train.iloc[splt:]\n",
    "y_train_splt = y_train.iloc[1:splt]\n",
    "print(np.shape(y_train_splt))\n",
    "print(np.shape(y_val))"
   ]
  },
  {
   "cell_type": "code",
   "execution_count": 17,
   "metadata": {},
   "outputs": [],
   "source": [
    "X_train = X_train.values.reshape(X_train.shape[0], img_rows, img_cols, 1)\n",
    "X_test = X_test.values.reshape(X_test.shape[0], img_rows, img_cols, 1)\n",
    "X_val = X_val.values.reshape(X_val.shape[0], img_rows, img_cols, 1)\n",
    "\n",
    "X_train = X_train.astype('float32')\n",
    "X_test = X_test.astype('float32')\n",
    "X_val = X_val.astype('float32')"
   ]
  },
  {
   "cell_type": "code",
   "execution_count": 18,
   "metadata": {
    "execution": {
     "iopub.execute_input": "2022-08-13T14:02:47.530279Z",
     "iopub.status.busy": "2022-08-13T14:02:47.529890Z",
     "iopub.status.idle": "2022-08-13T14:02:48.801447Z",
     "shell.execute_reply": "2022-08-13T14:02:48.800410Z"
    },
    "papermill": {
     "duration": 1.281005,
     "end_time": "2022-08-13T14:02:48.803776",
     "exception": false,
     "start_time": "2022-08-13T14:02:47.522771",
     "status": "completed"
    },
    "tags": []
   },
   "outputs": [],
   "source": [
    "model = tf.keras.models.Sequential()"
   ]
  },
  {
   "cell_type": "code",
   "execution_count": 19,
   "metadata": {},
   "outputs": [
    {
     "data": {
      "text/plain": [
       "(20631, 1, 16, 1)"
      ]
     },
     "execution_count": 19,
     "metadata": {},
     "output_type": "execute_result"
    }
   ],
   "source": [
    "X_train.shape"
   ]
  },
  {
   "cell_type": "code",
   "execution_count": 20,
   "metadata": {
    "execution": {
     "iopub.execute_input": "2022-08-13T14:02:48.818822Z",
     "iopub.status.busy": "2022-08-13T14:02:48.817258Z",
     "iopub.status.idle": "2022-08-13T14:02:48.832974Z",
     "shell.execute_reply": "2022-08-13T14:02:48.832049Z"
    },
    "papermill": {
     "duration": 0.02585,
     "end_time": "2022-08-13T14:02:48.835536",
     "exception": false,
     "start_time": "2022-08-13T14:02:48.809686",
     "status": "completed"
    },
    "tags": []
   },
   "outputs": [],
   "source": [
    "model.add(tf.keras.layers.Conv2D(32, kernel_size=(1, 5),                 \n",
    "                 input_shape=input_shape))\n",
    "model.add(tf.keras.layers.BatchNormalization()) # bnorm\n",
    "model.add(tf.keras.layers.Activation(\"relu\"))\n",
    "model.add(\n",
    "        tf.keras.layers.Conv2D(\n",
    "            filters=64, kernel_size=(1,3), strides=(1),name=\"c2\",\n",
    "        ),)\n",
    "model.add(tf.keras.layers.BatchNormalization()) # bnorm\n",
    "model.add(tf.keras.layers.Activation(\"relu\"))\n",
    "model.add(\n",
    "        tf.keras.layers.Conv2D(\n",
    "            filters=128, kernel_size=(1,3), strides=(1),name=\"c3\",\n",
    "        ),)\n",
    "\n",
    "model.add(tf.keras.layers.BatchNormalization()) # bnorm\n",
    "model.add(tf.keras.layers.Activation(\"relu\"))\n",
    "model.add(tf.keras.layers.Dropout(0.2))\n",
    "model.add(\n",
    "        tf.keras.layers.Conv2D(\n",
    "            filters=256, kernel_size=(1,3), strides=(1),name=\"c4\",\n",
    "        ),)\n",
    "model.add(tf.keras.layers.BatchNormalization()) # bnorm\n",
    "model.add(tf.keras.layers.Activation(\"relu\"))\n",
    "\n",
    "model.add(tf.keras.layers.Flatten())\n",
    "\n",
    "model.add(tf.keras.layers.Dropout(0.2))\n",
    "model.add(tf.keras.layers.Dense(units=1))"
   ]
  },
  {
   "cell_type": "markdown",
   "metadata": {},
   "source": [
    "In the next section we define a custom metric, we manually split and shuffle data"
   ]
  },
  {
   "cell_type": "code",
   "execution_count": 21,
   "metadata": {
    "execution": {
     "iopub.execute_input": "2022-08-13T14:02:48.850200Z",
     "iopub.status.busy": "2022-08-13T14:02:48.849404Z",
     "iopub.status.idle": "2022-08-13T14:02:48.875199Z",
     "shell.execute_reply": "2022-08-13T14:02:48.873812Z"
    },
    "papermill": {
     "duration": 0.036318,
     "end_time": "2022-08-13T14:02:48.878033",
     "exception": false,
     "start_time": "2022-08-13T14:02:48.841715",
     "status": "completed"
    },
    "tags": []
   },
   "outputs": [],
   "source": [
    "import keras.backend as K # this will let us easily view rmse during training\n",
    "def root_mean_squared_error(y_true, y_pred):\n",
    "    # root_mean_squared_error as metric in compile\n",
    "        return K.sqrt(K.mean(K.square(y_pred - y_true), axis=-1)) \n",
    "\n"
   ]
  },
  {
   "cell_type": "code",
   "execution_count": 22,
   "metadata": {
    "execution": {
     "iopub.execute_input": "2022-08-13T14:02:48.850200Z",
     "iopub.status.busy": "2022-08-13T14:02:48.849404Z",
     "iopub.status.idle": "2022-08-13T14:02:48.875199Z",
     "shell.execute_reply": "2022-08-13T14:02:48.873812Z"
    },
    "papermill": {
     "duration": 0.036318,
     "end_time": "2022-08-13T14:02:48.878033",
     "exception": false,
     "start_time": "2022-08-13T14:02:48.841715",
     "status": "completed"
    },
    "tags": []
   },
   "outputs": [],
   "source": [
    "model.compile(optimizer = 'adam', loss = 'mean_squared_error', metrics=['mean_squared_error', 'mae'])\n",
    "# note using root_mean_squared_error here can cause issue copying model later without config set, using grid search.\n",
    "# what if we used mae for loss.."
   ]
  },
  {
   "cell_type": "code",
   "execution_count": 23,
   "metadata": {
    "execution": {
     "iopub.execute_input": "2022-08-13T14:02:48.892542Z",
     "iopub.status.busy": "2022-08-13T14:02:48.891768Z",
     "iopub.status.idle": "2022-08-13T14:03:06.070994Z",
     "shell.execute_reply": "2022-08-13T14:03:06.069796Z"
    },
    "papermill": {
     "duration": 17.189147,
     "end_time": "2022-08-13T14:03:06.073349",
     "exception": false,
     "start_time": "2022-08-13T14:02:48.884202",
     "status": "completed"
    },
    "tags": []
   },
   "outputs": [
    {
     "name": "stdout",
     "output_type": "stream",
     "text": [
      "Epoch 1/30\n",
      "129/129 [==============================] - 2s 13ms/step - loss: 3238.1914 - mean_squared_error: 3238.1914 - mae: 44.0310 - val_loss: 3136.1760 - val_mean_squared_error: 3136.1760 - val_mae: 46.3825\n",
      "Epoch 2/30\n",
      "129/129 [==============================] - 1s 10ms/step - loss: 508.4380 - mean_squared_error: 508.4380 - mae: 17.1606 - val_loss: 1864.0032 - val_mean_squared_error: 1864.0032 - val_mae: 35.8966\n",
      "Epoch 3/30\n",
      "129/129 [==============================] - 1s 10ms/step - loss: 449.6783 - mean_squared_error: 449.6783 - mae: 16.0366 - val_loss: 860.6233 - val_mean_squared_error: 860.6233 - val_mae: 23.6287\n",
      "Epoch 4/30\n",
      "129/129 [==============================] - 1s 10ms/step - loss: 428.2132 - mean_squared_error: 428.2132 - mae: 15.5752 - val_loss: 585.5208 - val_mean_squared_error: 585.5208 - val_mae: 19.2892\n",
      "Epoch 5/30\n",
      "129/129 [==============================] - 1s 10ms/step - loss: 413.8732 - mean_squared_error: 413.8732 - mae: 15.2291 - val_loss: 434.7792 - val_mean_squared_error: 434.7792 - val_mae: 15.7681\n",
      "Epoch 6/30\n",
      "129/129 [==============================] - 1s 10ms/step - loss: 401.9293 - mean_squared_error: 401.9293 - mae: 14.9490 - val_loss: 419.3420 - val_mean_squared_error: 419.3420 - val_mae: 15.3662\n",
      "Epoch 7/30\n",
      "129/129 [==============================] - 1s 10ms/step - loss: 395.0512 - mean_squared_error: 395.0512 - mae: 14.7705 - val_loss: 391.5754 - val_mean_squared_error: 391.5754 - val_mae: 14.1945\n",
      "Epoch 8/30\n",
      "129/129 [==============================] - 1s 10ms/step - loss: 385.3717 - mean_squared_error: 385.3717 - mae: 14.6131 - val_loss: 395.5347 - val_mean_squared_error: 395.5347 - val_mae: 14.6926\n",
      "Epoch 9/30\n",
      "129/129 [==============================] - 1s 10ms/step - loss: 375.8236 - mean_squared_error: 375.8236 - mae: 14.3627 - val_loss: 407.7157 - val_mean_squared_error: 407.7157 - val_mae: 15.3169\n",
      "Epoch 10/30\n",
      "129/129 [==============================] - 1s 10ms/step - loss: 372.7613 - mean_squared_error: 372.7613 - mae: 14.3030 - val_loss: 381.0014 - val_mean_squared_error: 381.0014 - val_mae: 13.8940\n",
      "Epoch 11/30\n",
      "129/129 [==============================] - 1s 10ms/step - loss: 367.3264 - mean_squared_error: 367.3264 - mae: 14.1640 - val_loss: 401.0705 - val_mean_squared_error: 401.0705 - val_mae: 14.9528\n",
      "Epoch 12/30\n",
      "129/129 [==============================] - 1s 10ms/step - loss: 361.0839 - mean_squared_error: 361.0839 - mae: 14.0600 - val_loss: 372.5628 - val_mean_squared_error: 372.5628 - val_mae: 13.6770\n",
      "Epoch 13/30\n",
      "129/129 [==============================] - 1s 10ms/step - loss: 358.4742 - mean_squared_error: 358.4742 - mae: 13.9737 - val_loss: 369.8637 - val_mean_squared_error: 369.8637 - val_mae: 13.5837\n",
      "Epoch 14/30\n",
      "129/129 [==============================] - 1s 10ms/step - loss: 355.1960 - mean_squared_error: 355.1960 - mae: 13.9268 - val_loss: 384.3472 - val_mean_squared_error: 384.3472 - val_mae: 14.0588\n",
      "Epoch 15/30\n",
      "129/129 [==============================] - 1s 10ms/step - loss: 351.2714 - mean_squared_error: 351.2714 - mae: 13.8168 - val_loss: 361.7122 - val_mean_squared_error: 361.7122 - val_mae: 13.3508\n",
      "Epoch 16/30\n",
      "129/129 [==============================] - 1s 10ms/step - loss: 346.1201 - mean_squared_error: 346.1201 - mae: 13.7155 - val_loss: 367.9133 - val_mean_squared_error: 367.9133 - val_mae: 13.4405\n",
      "Epoch 17/30\n",
      "129/129 [==============================] - 1s 10ms/step - loss: 343.4712 - mean_squared_error: 343.4712 - mae: 13.6364 - val_loss: 365.3822 - val_mean_squared_error: 365.3822 - val_mae: 13.5588\n",
      "Epoch 18/30\n",
      "129/129 [==============================] - 1s 10ms/step - loss: 338.4135 - mean_squared_error: 338.4135 - mae: 13.5730 - val_loss: 358.4606 - val_mean_squared_error: 358.4606 - val_mae: 13.4719\n",
      "Epoch 19/30\n",
      "129/129 [==============================] - 1s 10ms/step - loss: 338.4029 - mean_squared_error: 338.4029 - mae: 13.5222 - val_loss: 364.7532 - val_mean_squared_error: 364.7532 - val_mae: 13.5835\n",
      "Epoch 20/30\n",
      "129/129 [==============================] - 1s 10ms/step - loss: 337.7411 - mean_squared_error: 337.7411 - mae: 13.4966 - val_loss: 365.1856 - val_mean_squared_error: 365.1856 - val_mae: 13.8279\n",
      "Epoch 21/30\n",
      "129/129 [==============================] - 1s 10ms/step - loss: 326.0950 - mean_squared_error: 326.0950 - mae: 13.2339 - val_loss: 362.3263 - val_mean_squared_error: 362.3263 - val_mae: 13.4596\n",
      "Epoch 22/30\n",
      "129/129 [==============================] - 1s 10ms/step - loss: 325.4621 - mean_squared_error: 325.4621 - mae: 13.2277 - val_loss: 361.3487 - val_mean_squared_error: 361.3487 - val_mae: 13.3612\n",
      "Epoch 23/30\n",
      "129/129 [==============================] - 1s 10ms/step - loss: 320.3096 - mean_squared_error: 320.3096 - mae: 13.0957 - val_loss: 355.5192 - val_mean_squared_error: 355.5192 - val_mae: 13.3673\n",
      "Epoch 24/30\n",
      "129/129 [==============================] - 1s 10ms/step - loss: 318.1346 - mean_squared_error: 318.1346 - mae: 13.0714 - val_loss: 361.3384 - val_mean_squared_error: 361.3384 - val_mae: 13.4976\n",
      "Epoch 25/30\n",
      "129/129 [==============================] - 1s 10ms/step - loss: 317.0463 - mean_squared_error: 317.0463 - mae: 13.0751 - val_loss: 358.2549 - val_mean_squared_error: 358.2549 - val_mae: 13.4561\n",
      "Epoch 26/30\n",
      "129/129 [==============================] - 1s 10ms/step - loss: 314.6541 - mean_squared_error: 314.6541 - mae: 13.0142 - val_loss: 374.2776 - val_mean_squared_error: 374.2776 - val_mae: 13.9830\n",
      "Epoch 27/30\n",
      "129/129 [==============================] - 1s 10ms/step - loss: 313.0106 - mean_squared_error: 313.0106 - mae: 12.9527 - val_loss: 368.2287 - val_mean_squared_error: 368.2287 - val_mae: 14.0128\n",
      "Epoch 28/30\n",
      "129/129 [==============================] - 1s 10ms/step - loss: 311.1261 - mean_squared_error: 311.1261 - mae: 12.9157 - val_loss: 370.3387 - val_mean_squared_error: 370.3387 - val_mae: 14.1927\n"
     ]
    }
   ],
   "source": [
    "# note we could have said validation_split,0.2. We can set shuffle here too... shuffle=True,\n",
    "history = model.fit(X_train, y_train ,batch_size = 128, epochs = 30,verbose=1,\n",
    "                   callbacks = [tf.keras.callbacks.EarlyStopping(monitor='val_loss', min_delta=0, patience=5,\n",
    "                                                     verbose=0, mode='min')],\n",
    "                  validation_split=0.2)\n"
   ]
  },
  {
   "cell_type": "code",
   "execution_count": 24,
   "metadata": {},
   "outputs": [
    {
     "data": {
      "image/png": "[encoded data removed]",
      "text/plain": [
       "<Figure size 720x720 with 1 Axes>"
      ]
     },
     "metadata": {
      "needs_background": "light"
     },
     "output_type": "display_data"
    },
    {
     "data": {
      "image/png": "[encoded data removed]",
      "text/plain": [
       "<Figure size 720x720 with 1 Axes>"
      ]
     },
     "metadata": {
      "needs_background": "light"
     },
     "output_type": "display_data"
    },
    {
     "data": {
      "image/png": "[encoded data removed]",
      "text/plain": [
       "<Figure size 720x720 with 1 Axes>"
      ]
     },
     "metadata": {
      "needs_background": "light"
     },
     "output_type": "display_data"
    }
   ],
   "source": [
    "# summarize history for MAE\n",
    "fig_acc = plt.figure(figsize=(10, 10))\n",
    "plt.plot(history.history['mae'])\n",
    "plt.plot(history.history['val_mae'])\n",
    "plt.title('model MAE')\n",
    "plt.ylabel('MAE')\n",
    "plt.xlabel('epoch')\n",
    "plt.legend(['train', 'validation'], loc='upper left')\n",
    "plt.show()\n",
    "fig_acc.savefig(\"model_mae.png\")\n",
    "\n",
    "# summarize history for RMSE\n",
    "fig_acc = plt.figure(figsize=(10, 10))\n",
    "plt.plot(history.history['mean_squared_error'])\n",
    "plt.plot(history.history['val_mean_squared_error'])\n",
    "plt.title('model MSE')\n",
    "plt.ylabel('MSE')\n",
    "plt.xlabel('epoch')\n",
    "plt.legend(['train', 'validation'], loc='upper left')\n",
    "plt.show()\n",
    "fig_acc.savefig(\"model_rmse.png\")\n",
    "\n",
    "# summarize history for Loss\n",
    "fig_acc = plt.figure(figsize=(10, 10))\n",
    "plt.plot(history.history['loss'])\n",
    "plt.plot(history.history['val_loss'])\n",
    "plt.title('model loss')\n",
    "plt.ylabel('loss')\n",
    "plt.xlabel('epoch')\n",
    "plt.legend(['train', 'validation'], loc='upper left') \n",
    "plt.show()\n",
    "fig_acc.savefig(\"model_regression_loss.png\")"
   ]
  },
  {
   "cell_type": "code",
   "execution_count": 25,
   "metadata": {
    "execution": {
     "iopub.execute_input": "2022-08-13T14:03:06.090606Z",
     "iopub.status.busy": "2022-08-13T14:03:06.090199Z",
     "iopub.status.idle": "2022-08-13T14:03:06.255504Z",
     "shell.execute_reply": "2022-08-13T14:03:06.254138Z"
    },
    "papermill": {
     "duration": 0.176764,
     "end_time": "2022-08-13T14:03:06.258314",
     "exception": false,
     "start_time": "2022-08-13T14:03:06.081550",
     "status": "completed"
    },
    "tags": []
   },
   "outputs": [
    {
     "name": "stdout",
     "output_type": "stream",
     "text": [
      "4/4 [==============================] - 0s 2ms/step\n"
     ]
    }
   ],
   "source": [
    "model_pred = model.predict(X_test)"
   ]
  },
  {
   "cell_type": "code",
   "execution_count": 26,
   "metadata": {
    "execution": {
     "iopub.execute_input": "2022-08-13T14:03:06.276044Z",
     "iopub.status.busy": "2022-08-13T14:03:06.274795Z",
     "iopub.status.idle": "2022-08-13T14:03:06.279654Z",
     "shell.execute_reply": "2022-08-13T14:03:06.278826Z"
    },
    "papermill": {
     "duration": 0.015938,
     "end_time": "2022-08-13T14:03:06.281908",
     "exception": false,
     "start_time": "2022-08-13T14:03:06.265970",
     "status": "completed"
    },
    "tags": []
   },
   "outputs": [],
   "source": [
    "from sklearn.metrics import r2_score"
   ]
  },
  {
   "cell_type": "code",
   "execution_count": 27,
   "metadata": {
    "execution": {
     "iopub.execute_input": "2022-08-13T14:03:06.299333Z",
     "iopub.status.busy": "2022-08-13T14:03:06.298593Z",
     "iopub.status.idle": "2022-08-13T14:03:06.306839Z",
     "shell.execute_reply": "2022-08-13T14:03:06.305686Z"
    },
    "papermill": {
     "duration": 0.019767,
     "end_time": "2022-08-13T14:03:06.309286",
     "exception": false,
     "start_time": "2022-08-13T14:03:06.289519",
     "status": "completed"
    },
    "tags": []
   },
   "outputs": [
    {
     "data": {
      "text/plain": [
       "0.6500636236741095"
      ]
     },
     "execution_count": 27,
     "metadata": {},
     "output_type": "execute_result"
    }
   ],
   "source": [
    "r2_score(y_test,model_pred)"
   ]
  },
  {
   "cell_type": "code",
   "execution_count": 28,
   "metadata": {
    "papermill": {
     "duration": 0.007172,
     "end_time": "2022-08-13T14:03:06.324052",
     "exception": false,
     "start_time": "2022-08-13T14:03:06.316880",
     "status": "completed"
    },
    "tags": []
   },
   "outputs": [
    {
     "name": "stdout",
     "output_type": "stream",
     "text": [
      "RMSE:  24.582402043155582\n"
     ]
    }
   ],
   "source": [
    "from sklearn.metrics import mean_squared_error\n",
    "RMSE = np.sqrt(mean_squared_error(y_test,model_pred))\n",
    "print(\"RMSE: \", RMSE)"
   ]
  },
  {
   "cell_type": "code",
   "execution_count": null,
   "metadata": {},
   "outputs": [],
   "source": [
    "plt.scatter(y_test,model_pred)\n",
    "plt.xlabel(\"Ground truth RUL\")\n",
    "plt.ylabel(\"Predicted RUL\")\n",
    "plt.show()\n",
    "\n",
    "plt.hist(y_test, color = \"lightgreen\", ec=\"black\")\n",
    "plt.xlabel(\"Ground truth RUL, test set\")\n",
    "plt.show()\n",
    "\n",
    "plt.hist(y_train, color = \"lightblue\", ec=\"black\")\n",
    "plt.xlabel(\"Ground truth RUL, training\")\n",
    "plt.show()"
   ]
  },
  {
   "cell_type": "code",
   "execution_count": null,
   "metadata": {},
   "outputs": [],
   "source": [
    "model.summary()"
   ]
  },
  {
   "cell_type": "code",
   "execution_count": null,
   "metadata": {},
   "outputs": [],
   "source": [
    "# define the grid search parameters\n",
    "batch_size = [16, 32, 64]\n",
    "epochs = [10, 15, 20]\n",
    "learn_rate = [0.0001, 0.001, 0.01]\n",
    "momentum = [0.1, 0.2, 0.4, 0.6, 0.8, 0.9]\n",
    "# param_grid = dict(optimizer__learning_rate=learn_rate, optimizer__momentum=momentum, batch_size=batch_size, epochs=epochs)\n",
    "# param_grid = dict(optimizer__learning_rate=learn_rate, optimizer__momentum=momentum)\n",
    "param_grid = dict(batch_size=batch_size, epochs=epochs)"
   ]
  },
  {
   "cell_type": "code",
   "execution_count": null,
   "metadata": {
    "scrolled": false
   },
   "outputs": [],
   "source": [
    "model2 = KerasRegressor(build_fn=model, epochs=100, batch_size=128, verbose=0)\n",
    "grid = GridSearchCV(estimator=model2, param_grid=param_grid, n_jobs=-1, cv=3, scoring='neg_mean_squared_error')\n",
    "\n",
    "grid_result = grid.fit(X_train, y_train)\n",
    "# summarize results\n",
    "print(\"Best: %f using %s\" % (grid_result.best_score_, grid_result.best_params_))\n",
    "means = grid_result.cv_results_['mean_test_score']\n",
    "stds = grid_result.cv_results_['std_test_score']\n",
    "params = grid_result.cv_results_['params']\n",
    "for mean, stdev, param in zip(means, stds, params):\n",
    "    print(\"%f (%f) with: %r\" % (mean, stdev, param))"
   ]
  },
  {
   "cell_type": "code",
   "execution_count": null,
   "metadata": {},
   "outputs": [],
   "source": [
    "plt.plot(means)\n",
    "plt.title(\"Mean square error\")\n",
    "plt.show()\n",
    "\n",
    "plt.plot(np.sqrt(np.abs(means)))\n",
    "plt.title(\"Root Mean square error\")\n",
    "plt.show()"
   ]
  },
  {
   "cell_type": "code",
   "execution_count": null,
   "metadata": {},
   "outputs": [],
   "source": [
    "model_gs = grid.best_estimator_\n",
    "model_pred = model_gs.predict(X_test)"
   ]
  },
  {
   "cell_type": "code",
   "execution_count": null,
   "metadata": {},
   "outputs": [],
   "source": [
    "r2_score(y_test,model_pred)"
   ]
  },
  {
   "cell_type": "code",
   "execution_count": null,
   "metadata": {},
   "outputs": [],
   "source": [
    "RMSE = np.sqrt(mean_squared_error(y_test,model_pred))\n",
    "print(\"RMSE: \", RMSE)"
   ]
  },
  {
   "cell_type": "markdown",
   "metadata": {},
   "source": [
    "This next section may be easier to view in a new window, or see image noted in powerpoint.\n",
    "It shows why we removed certain signals"
   ]
  },
  {
   "cell_type": "code",
   "execution_count": null,
   "metadata": {},
   "outputs": [],
   "source": [
    "pd.plotting.scatter_matrix(train,figsize=[20,20])\n",
    "plt.show()"
   ]
  },
  {
   "cell_type": "code",
   "execution_count": null,
   "metadata": {},
   "outputs": [],
   "source": []
  }
 ],
 "metadata": {
  "kernelspec": {
   "display_name": "Python 3",
   "language": "python",
   "name": "python3"
  },
  "language_info": {
   "codemirror_mode": {
    "name": "ipython",
    "version": 3
   },
   "file_extension": ".py",
   "mimetype": "text/x-python",
   "name": "python",
   "nbconvert_exporter": "python",
   "pygments_lexer": "ipython3",
   "version": "3.8.5"
  },
  "papermill": {
   "default_parameters": {},
   "duration": 38.252424,
   "end_time": "2022-08-13T14:03:09.011663",
   "environment_variables": {},
   "exception": null,
   "input_path": "__notebook__.ipynb",
   "output_path": "__notebook__.ipynb",
   "parameters": {},
   "start_time": "2022-08-13T14:02:30.759239",
   "version": "2.3.4"
  }
 },
 "nbformat": 4,
 "nbformat_minor": 5
}
