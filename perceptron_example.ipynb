{
 "cells": [
  {
   "cell_type": "markdown",
   "metadata": {},
   "source": [
    "for jas example see: https://www.w3schools.com/ai/ai_perceptrons.asp"
   ]
  },
  {
   "cell_type": "code",
   "execution_count": 1,
   "metadata": {},
   "outputs": [],
   "source": [
    "import numpy as np\n",
    "bias = 1.5\n",
    "x = np.array([1, 0, 1, 0, 1])\n",
    "weights = np.array([0.7, 0.6, 0.5, 0.3, 0.4])"
   ]
  },
  {
   "cell_type": "code",
   "execution_count": 2,
   "metadata": {},
   "outputs": [],
   "source": [
    "def neuron_calc(inputs,weights,bias):\n",
    "    y = np.sum(inputs * weights + bias)\n",
    "    return y"
   ]
  },
  {
   "cell_type": "code",
   "execution_count": 3,
   "metadata": {},
   "outputs": [
    {
     "data": {
      "text/plain": [
       "9.1"
      ]
     },
     "execution_count": 3,
     "metadata": {},
     "output_type": "execute_result"
    }
   ],
   "source": [
    "neuron_calc(x,weights,bias)"
   ]
  },
  {
   "cell_type": "code",
   "execution_count": 4,
   "metadata": {},
   "outputs": [],
   "source": [
    "# let's firstly visualise how ReLu looks:\n",
    "x_range = np.linspace(-1,1,100)\n",
    "def relu(x):\n",
    "    return np.maximum(0.0,x)\n",
    "y = relu(x_range)"
   ]
  },
  {
   "cell_type": "code",
   "execution_count": 5,
   "metadata": {},
   "outputs": [
    {
     "data": {
      "image/png": "[encoded data removed]",
      "text/plain": [
       "<Figure size 432x288 with 1 Axes>"
      ]
     },
     "metadata": {
      "needs_background": "light"
     },
     "output_type": "display_data"
    }
   ],
   "source": [
    "import matplotlib.pyplot as plt\n",
    "\n",
    "plt.plot(x_range,y)\n",
    "plt.title(\" What does ReLu look like?\")\n",
    "plt.show()"
   ]
  },
  {
   "cell_type": "code",
   "execution_count": 6,
   "metadata": {},
   "outputs": [
    {
     "data": {
      "text/plain": [
       "9.1"
      ]
     },
     "execution_count": 6,
     "metadata": {},
     "output_type": "execute_result"
    }
   ],
   "source": [
    "# let's apply to the data from neuron\n",
    "def neuron_with_relu(inputs,weights,bias):\n",
    "    y = np.sum(inputs * weights + bias)\n",
    "\n",
    "    return relu(y)\n",
    "\n",
    "neuron_calc(x,weights,bias)\n",
    "neuron_with_relu(x,weights,bias)"
   ]
  }
 ],
 "metadata": {
  "kernelspec": {
   "display_name": "Python 3",
   "language": "python",
   "name": "python3"
  },
  "language_info": {
   "codemirror_mode": {
    "name": "ipython",
    "version": 3
   },
   "file_extension": ".py",
   "mimetype": "text/x-python",
   "name": "python",
   "nbconvert_exporter": "python",
   "pygments_lexer": "ipython3",
   "version": "3.8.5"
  }
 },
 "nbformat": 4,
 "nbformat_minor": 4
}
