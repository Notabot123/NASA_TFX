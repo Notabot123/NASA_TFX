{
 "cells": [
  {
   "cell_type": "code",
   "execution_count": 1,
   "metadata": {
    "_cell_guid": "b1076dfc-b9ad-4769-8c92-a6c4dae69d19",
    "_uuid": "8f2839f25d086af736a60e9eeb907d3b93b6e0e5",
    "execution": {
     "iopub.execute_input": "2022-08-13T14:02:40.068962Z",
     "iopub.status.busy": "2022-08-13T14:02:40.068107Z",
     "iopub.status.idle": "2022-08-13T14:02:40.102388Z",
     "shell.execute_reply": "2022-08-13T14:02:40.101047Z"
    },
    "papermill": {
     "duration": 0.046643,
     "end_time": "2022-08-13T14:02:40.105696",
     "exception": false,
     "start_time": "2022-08-13T14:02:40.059053",
     "status": "completed"
    },
    "tags": []
   },
   "outputs": [],
   "source": [
    "import numpy as np # numbers and algebra in python\n",
    "import pandas as pd # tables and processing tabular data\n",
    "\n",
    "import os\n",
    "for dirname, _, filenames in os.walk('/kaggle/input'):\n",
    "    for filename in filenames:\n",
    "        print(os.path.join(dirname, filename))\n",
    "\n",
    "# You can write up to 20GB to the current directory (/kaggle/working/) that gets preserved as output when you create a version using \"Save & Run All\" \n",
    "# You can also write temporary files to /kaggle/temp/, but they won't be saved outside of the current session"
   ]
  },
  {
   "cell_type": "code",
   "execution_count": 2,
   "metadata": {
    "execution": {
     "iopub.execute_input": "2022-08-13T14:02:40.118870Z",
     "iopub.status.busy": "2022-08-13T14:02:40.118115Z",
     "iopub.status.idle": "2022-08-13T14:02:46.812753Z",
     "shell.execute_reply": "2022-08-13T14:02:46.811430Z"
    },
    "papermill": {
     "duration": 6.704445,
     "end_time": "2022-08-13T14:02:46.815675",
     "exception": false,
     "start_time": "2022-08-13T14:02:40.111230",
     "status": "completed"
    },
    "tags": []
   },
   "outputs": [],
   "source": [
    "import tensorflow as tf\n",
    "import seaborn as sns\n",
    "import matplotlib.pyplot as plt\n",
    "from sklearn.preprocessing import StandardScaler, MinMaxScaler\n",
    "from sklearn.metrics import mean_squared_error"
   ]
  },
  {
   "cell_type": "code",
   "execution_count": 3,
   "metadata": {
    "execution": {
     "iopub.execute_input": "2022-08-13T14:02:46.828632Z",
     "iopub.status.busy": "2022-08-13T14:02:46.827755Z",
     "iopub.status.idle": "2022-08-13T14:02:46.833482Z",
     "shell.execute_reply": "2022-08-13T14:02:46.832390Z"
    },
    "papermill": {
     "duration": 0.015182,
     "end_time": "2022-08-13T14:02:46.836157",
     "exception": false,
     "start_time": "2022-08-13T14:02:46.820975",
     "status": "completed"
    },
    "tags": []
   },
   "outputs": [],
   "source": [
    "index_names = ['unit_nr', 'time_cycles']\n",
    "setting_names = ['setting_1', 'setting_2', 'setting_3']\n",
    "sensor_names = ['s_{}'.format(i+1) for i in range(0,21)]\n",
    "col_names = index_names + setting_names + sensor_names"
   ]
  },
  {
   "cell_type": "code",
   "execution_count": 4,
   "metadata": {},
   "outputs": [],
   "source": [
    "dirPath = './archive/CMaps/'\n",
    "columns=[\"id\",\"cycle\",\"op1\",\"op2\",\"op3\",\"sensor1\",\"sensor2\",\"sensor3\",\"sensor4\",\"sensor5\",\"sensor6\",\"sensor7\",\"sensor8\",\n",
    "         \"sensor9\",\"sensor10\",\"sensor11\",\"sensor12\",\"sensor13\",\"sensor14\",\"sensor15\",\"sensor16\",\"sensor17\",\"sensor18\",\"sensor19\"\n",
    "         ,\"sensor20\",\"sensor21\"]\n",
    "train = pd.read_csv(dirPath + 'train_FD001.txt',sep='\\s+',names=col_names)\n",
    "test = pd.read_csv(dirPath + 'test_FD001.txt',sep='\\s+',names=col_names)\n",
    "y_test = pd.read_csv(dirPath + 'RUL_FD001.txt',sep='\\s+',header=None)"
   ]
  },
  {
   "cell_type": "code",
   "execution_count": 5,
   "metadata": {
    "execution": {
     "iopub.execute_input": "2022-08-13T14:02:47.103514Z",
     "iopub.status.busy": "2022-08-13T14:02:47.102196Z",
     "iopub.status.idle": "2022-08-13T14:02:47.147439Z",
     "shell.execute_reply": "2022-08-13T14:02:47.146103Z"
    },
    "papermill": {
     "duration": 0.055336,
     "end_time": "2022-08-13T14:02:47.150193",
     "exception": false,
     "start_time": "2022-08-13T14:02:47.094857",
     "status": "completed"
    },
    "tags": []
   },
   "outputs": [
    {
     "data": {
      "text/html": [
       "<div>\n",
       "<style scoped>\n",
       "    .dataframe tbody tr th:only-of-type {\n",
       "        vertical-align: middle;\n",
       "    }\n",
       "\n",
       "    .dataframe tbody tr th {\n",
       "        vertical-align: top;\n",
       "    }\n",
       "\n",
       "    .dataframe thead th {\n",
       "        text-align: right;\n",
       "    }\n",
       "</style>\n",
       "<table border=\"1\" class=\"dataframe\">\n",
       "  <thead>\n",
       "    <tr style=\"text-align: right;\">\n",
       "      <th></th>\n",
       "      <th>time_cycles</th>\n",
       "    </tr>\n",
       "  </thead>\n",
       "  <tbody>\n",
       "    <tr>\n",
       "      <th>count</th>\n",
       "      <td>100.000000</td>\n",
       "    </tr>\n",
       "    <tr>\n",
       "      <th>mean</th>\n",
       "      <td>206.310000</td>\n",
       "    </tr>\n",
       "    <tr>\n",
       "      <th>std</th>\n",
       "      <td>46.342749</td>\n",
       "    </tr>\n",
       "    <tr>\n",
       "      <th>min</th>\n",
       "      <td>128.000000</td>\n",
       "    </tr>\n",
       "    <tr>\n",
       "      <th>25%</th>\n",
       "      <td>177.000000</td>\n",
       "    </tr>\n",
       "    <tr>\n",
       "      <th>50%</th>\n",
       "      <td>199.000000</td>\n",
       "    </tr>\n",
       "    <tr>\n",
       "      <th>75%</th>\n",
       "      <td>229.250000</td>\n",
       "    </tr>\n",
       "    <tr>\n",
       "      <th>max</th>\n",
       "      <td>362.000000</td>\n",
       "    </tr>\n",
       "  </tbody>\n",
       "</table>\n",
       "</div>"
      ],
      "text/plain": [
       "       time_cycles\n",
       "count   100.000000\n",
       "mean    206.310000\n",
       "std      46.342749\n",
       "min     128.000000\n",
       "25%     177.000000\n",
       "50%     199.000000\n",
       "75%     229.250000\n",
       "max     362.000000"
      ]
     },
     "execution_count": 5,
     "metadata": {},
     "output_type": "execute_result"
    }
   ],
   "source": [
    "train[index_names].groupby('unit_nr').max().describe()"
   ]
  },
  {
   "cell_type": "code",
   "execution_count": 6,
   "metadata": {
    "execution": {
     "iopub.execute_input": "2022-08-13T14:02:47.162958Z",
     "iopub.status.busy": "2022-08-13T14:02:47.162543Z",
     "iopub.status.idle": "2022-08-13T14:02:47.340295Z",
     "shell.execute_reply": "2022-08-13T14:02:47.339151Z"
    },
    "papermill": {
     "duration": 0.186824,
     "end_time": "2022-08-13T14:02:47.342634",
     "exception": false,
     "start_time": "2022-08-13T14:02:47.155810",
     "status": "completed"
    },
    "tags": []
   },
   "outputs": [],
   "source": [
    "def add_remaining_useful_life(df):\n",
    "    # Get the total number of cycles for each unit\n",
    "    grouped_by_unit = df.groupby(by=\"unit_nr\")\n",
    "    max_cycle = grouped_by_unit[\"time_cycles\"].max()\n",
    "    \n",
    "    # Merge the max cycle back into the original frame\n",
    "    result_frame = df.merge(max_cycle.to_frame(name='max_cycle'), left_on='unit_nr', right_index=True)\n",
    "    \n",
    "    # Calculate remaining useful life for each row\n",
    "    remaining_useful_life = result_frame[\"max_cycle\"] - result_frame[\"time_cycles\"]\n",
    "    result_frame[\"RUL\"] = remaining_useful_life\n",
    "    \n",
    "    # drop max_cycle as it's no longer needed\n",
    "    result_frame = result_frame.drop(\"max_cycle\", axis=1)\n",
    "    return result_frame"
   ]
  },
  {
   "cell_type": "code",
   "execution_count": 7,
   "metadata": {},
   "outputs": [
    {
     "data": {
      "image/png": "[encoded data removed]",
      "text/plain": [
       "<Figure size 432x288 with 25 Axes>"
      ]
     },
     "metadata": {
      "needs_background": "light"
     },
     "output_type": "display_data"
    }
   ],
   "source": [
    "# the source tutorial drops some signals. Here are a few it keeps\n",
    "good_sensors = ['s_2', 's_3', 's_4', 's_7', 's_8']\n",
    "pd.plotting.scatter_matrix(train.loc[:,good_sensors], alpha=0.2)\n",
    "plt.show()"
   ]
  },
  {
   "cell_type": "code",
   "execution_count": 8,
   "metadata": {
    "execution": {
     "iopub.execute_input": "2022-08-13T14:02:47.356424Z",
     "iopub.status.busy": "2022-08-13T14:02:47.355385Z",
     "iopub.status.idle": "2022-08-13T14:02:47.395621Z",
     "shell.execute_reply": "2022-08-13T14:02:47.394409Z"
    },
    "papermill": {
     "duration": 0.050402,
     "end_time": "2022-08-13T14:02:47.398596",
     "exception": false,
     "start_time": "2022-08-13T14:02:47.348194",
     "status": "completed"
    },
    "tags": []
   },
   "outputs": [
    {
     "data": {
      "text/html": [
       "<div>\n",
       "<style scoped>\n",
       "    .dataframe tbody tr th:only-of-type {\n",
       "        vertical-align: middle;\n",
       "    }\n",
       "\n",
       "    .dataframe tbody tr th {\n",
       "        vertical-align: top;\n",
       "    }\n",
       "\n",
       "    .dataframe thead th {\n",
       "        text-align: right;\n",
       "    }\n",
       "</style>\n",
       "<table border=\"1\" class=\"dataframe\">\n",
       "  <thead>\n",
       "    <tr style=\"text-align: right;\">\n",
       "      <th></th>\n",
       "      <th>unit_nr</th>\n",
       "      <th>time_cycles</th>\n",
       "      <th>RUL</th>\n",
       "    </tr>\n",
       "  </thead>\n",
       "  <tbody>\n",
       "    <tr>\n",
       "      <th>0</th>\n",
       "      <td>1</td>\n",
       "      <td>1</td>\n",
       "      <td>191</td>\n",
       "    </tr>\n",
       "    <tr>\n",
       "      <th>1</th>\n",
       "      <td>1</td>\n",
       "      <td>2</td>\n",
       "      <td>190</td>\n",
       "    </tr>\n",
       "    <tr>\n",
       "      <th>2</th>\n",
       "      <td>1</td>\n",
       "      <td>3</td>\n",
       "      <td>189</td>\n",
       "    </tr>\n",
       "    <tr>\n",
       "      <th>3</th>\n",
       "      <td>1</td>\n",
       "      <td>4</td>\n",
       "      <td>188</td>\n",
       "    </tr>\n",
       "    <tr>\n",
       "      <th>4</th>\n",
       "      <td>1</td>\n",
       "      <td>5</td>\n",
       "      <td>187</td>\n",
       "    </tr>\n",
       "    <tr>\n",
       "      <th>...</th>\n",
       "      <td>...</td>\n",
       "      <td>...</td>\n",
       "      <td>...</td>\n",
       "    </tr>\n",
       "    <tr>\n",
       "      <th>20626</th>\n",
       "      <td>100</td>\n",
       "      <td>196</td>\n",
       "      <td>4</td>\n",
       "    </tr>\n",
       "    <tr>\n",
       "      <th>20627</th>\n",
       "      <td>100</td>\n",
       "      <td>197</td>\n",
       "      <td>3</td>\n",
       "    </tr>\n",
       "    <tr>\n",
       "      <th>20628</th>\n",
       "      <td>100</td>\n",
       "      <td>198</td>\n",
       "      <td>2</td>\n",
       "    </tr>\n",
       "    <tr>\n",
       "      <th>20629</th>\n",
       "      <td>100</td>\n",
       "      <td>199</td>\n",
       "      <td>1</td>\n",
       "    </tr>\n",
       "    <tr>\n",
       "      <th>20630</th>\n",
       "      <td>100</td>\n",
       "      <td>200</td>\n",
       "      <td>0</td>\n",
       "    </tr>\n",
       "  </tbody>\n",
       "</table>\n",
       "<p>20631 rows × 3 columns</p>\n",
       "</div>"
      ],
      "text/plain": [
       "       unit_nr  time_cycles  RUL\n",
       "0            1            1  191\n",
       "1            1            2  190\n",
       "2            1            3  189\n",
       "3            1            4  188\n",
       "4            1            5  187\n",
       "...        ...          ...  ...\n",
       "20626      100          196    4\n",
       "20627      100          197    3\n",
       "20628      100          198    2\n",
       "20629      100          199    1\n",
       "20630      100          200    0\n",
       "\n",
       "[20631 rows x 3 columns]"
      ]
     },
     "execution_count": 8,
     "metadata": {},
     "output_type": "execute_result"
    }
   ],
   "source": [
    "train = add_remaining_useful_life(train)\n",
    "train[index_names+['RUL']]"
   ]
  },
  {
   "cell_type": "code",
   "execution_count": 9,
   "metadata": {},
   "outputs": [
    {
     "data": {
      "image/png": "[encoded data removed]",
      "text/plain": [
       "<Figure size 432x288 with 25 Axes>"
      ]
     },
     "metadata": {
      "needs_background": "light"
     },
     "output_type": "display_data"
    }
   ],
   "source": [
    "# these seem not worth keeping\n",
    "import warnings\n",
    "warnings.filterwarnings(\"ignore\")\n",
    "drop_sensors = ['s_1','s_5','s_16','s_18','s_19']\n",
    "pd.plotting.scatter_matrix(train.loc[:,drop_sensors])\n",
    "plt.show()"
   ]
  },
  {
   "cell_type": "code",
   "execution_count": 10,
   "metadata": {
    "execution": {
     "iopub.execute_input": "2022-08-13T14:02:47.412780Z",
     "iopub.status.busy": "2022-08-13T14:02:47.411515Z",
     "iopub.status.idle": "2022-08-13T14:02:47.418027Z",
     "shell.execute_reply": "2022-08-13T14:02:47.417182Z"
    },
    "papermill": {
     "duration": 0.015903,
     "end_time": "2022-08-13T14:02:47.420379",
     "exception": false,
     "start_time": "2022-08-13T14:02:47.404476",
     "status": "completed"
    },
    "tags": []
   },
   "outputs": [],
   "source": [
    "drop_labels = index_names+setting_names+drop_sensors\n",
    "remaining_sensors = ['s_2', 's_3', 's_4', 's_6', 's_7', 's_8', 's_9', 's_10',\n",
    "       's_11', 's_12', 's_13', 's_14', 's_15', 's_17', 's_20', 's_21']"
   ]
  },
  {
   "cell_type": "code",
   "execution_count": 11,
   "metadata": {
    "execution": {
     "iopub.execute_input": "2022-08-13T14:02:47.433626Z",
     "iopub.status.busy": "2022-08-13T14:02:47.432821Z",
     "iopub.status.idle": "2022-08-13T14:02:47.440056Z",
     "shell.execute_reply": "2022-08-13T14:02:47.439238Z"
    },
    "papermill": {
     "duration": 0.016502,
     "end_time": "2022-08-13T14:02:47.442394",
     "exception": false,
     "start_time": "2022-08-13T14:02:47.425892",
     "status": "completed"
    },
    "tags": []
   },
   "outputs": [],
   "source": [
    "X_train = train.drop(drop_labels, axis=1)\n",
    "y_train = X_train.pop('RUL')"
   ]
  },
  {
   "cell_type": "code",
   "execution_count": 12,
   "metadata": {
    "execution": {
     "iopub.execute_input": "2022-08-13T14:02:47.455972Z",
     "iopub.status.busy": "2022-08-13T14:02:47.455183Z",
     "iopub.status.idle": "2022-08-13T14:02:47.467817Z",
     "shell.execute_reply": "2022-08-13T14:02:47.466964Z"
    },
    "papermill": {
     "duration": 0.022391,
     "end_time": "2022-08-13T14:02:47.470350",
     "exception": false,
     "start_time": "2022-08-13T14:02:47.447959",
     "status": "completed"
    },
    "tags": []
   },
   "outputs": [],
   "source": [
    "X_test = test.groupby('unit_nr').last().reset_index().drop(drop_labels, axis=1)"
   ]
  },
  {
   "cell_type": "code",
   "execution_count": 13,
   "metadata": {
    "execution": {
     "iopub.execute_input": "2022-08-13T14:02:47.483652Z",
     "iopub.status.busy": "2022-08-13T14:02:47.482853Z",
     "iopub.status.idle": "2022-08-13T14:02:47.514236Z",
     "shell.execute_reply": "2022-08-13T14:02:47.513169Z"
    },
    "papermill": {
     "duration": 0.040707,
     "end_time": "2022-08-13T14:02:47.516620",
     "exception": false,
     "start_time": "2022-08-13T14:02:47.475913",
     "status": "completed"
    },
    "tags": []
   },
   "outputs": [
    {
     "data": {
      "text/html": [
       "<div>\n",
       "<style scoped>\n",
       "    .dataframe tbody tr th:only-of-type {\n",
       "        vertical-align: middle;\n",
       "    }\n",
       "\n",
       "    .dataframe tbody tr th {\n",
       "        vertical-align: top;\n",
       "    }\n",
       "\n",
       "    .dataframe thead th {\n",
       "        text-align: right;\n",
       "    }\n",
       "</style>\n",
       "<table border=\"1\" class=\"dataframe\">\n",
       "  <thead>\n",
       "    <tr style=\"text-align: right;\">\n",
       "      <th></th>\n",
       "      <th>s_2</th>\n",
       "      <th>s_3</th>\n",
       "      <th>s_4</th>\n",
       "      <th>s_6</th>\n",
       "      <th>s_7</th>\n",
       "      <th>s_8</th>\n",
       "      <th>s_9</th>\n",
       "      <th>s_10</th>\n",
       "      <th>s_11</th>\n",
       "      <th>s_12</th>\n",
       "      <th>s_13</th>\n",
       "      <th>s_14</th>\n",
       "      <th>s_15</th>\n",
       "      <th>s_17</th>\n",
       "      <th>s_20</th>\n",
       "      <th>s_21</th>\n",
       "    </tr>\n",
       "  </thead>\n",
       "  <tbody>\n",
       "    <tr>\n",
       "      <th>0</th>\n",
       "      <td>642.58</td>\n",
       "      <td>1581.22</td>\n",
       "      <td>1398.91</td>\n",
       "      <td>21.61</td>\n",
       "      <td>554.42</td>\n",
       "      <td>2388.08</td>\n",
       "      <td>9056.40</td>\n",
       "      <td>1.3</td>\n",
       "      <td>47.23</td>\n",
       "      <td>521.79</td>\n",
       "      <td>2388.06</td>\n",
       "      <td>8130.11</td>\n",
       "      <td>8.4024</td>\n",
       "      <td>393</td>\n",
       "      <td>38.81</td>\n",
       "      <td>23.3552</td>\n",
       "    </tr>\n",
       "    <tr>\n",
       "      <th>1</th>\n",
       "      <td>642.55</td>\n",
       "      <td>1586.59</td>\n",
       "      <td>1410.83</td>\n",
       "      <td>21.61</td>\n",
       "      <td>553.52</td>\n",
       "      <td>2388.10</td>\n",
       "      <td>9044.77</td>\n",
       "      <td>1.3</td>\n",
       "      <td>47.67</td>\n",
       "      <td>521.74</td>\n",
       "      <td>2388.09</td>\n",
       "      <td>8126.90</td>\n",
       "      <td>8.4505</td>\n",
       "      <td>391</td>\n",
       "      <td>38.81</td>\n",
       "      <td>23.2618</td>\n",
       "    </tr>\n",
       "    <tr>\n",
       "      <th>2</th>\n",
       "      <td>642.88</td>\n",
       "      <td>1589.75</td>\n",
       "      <td>1418.89</td>\n",
       "      <td>21.61</td>\n",
       "      <td>552.59</td>\n",
       "      <td>2388.16</td>\n",
       "      <td>9049.26</td>\n",
       "      <td>1.3</td>\n",
       "      <td>47.88</td>\n",
       "      <td>520.83</td>\n",
       "      <td>2388.14</td>\n",
       "      <td>8131.46</td>\n",
       "      <td>8.4119</td>\n",
       "      <td>395</td>\n",
       "      <td>38.93</td>\n",
       "      <td>23.2740</td>\n",
       "    </tr>\n",
       "    <tr>\n",
       "      <th>3</th>\n",
       "      <td>642.78</td>\n",
       "      <td>1594.53</td>\n",
       "      <td>1406.88</td>\n",
       "      <td>21.61</td>\n",
       "      <td>552.64</td>\n",
       "      <td>2388.13</td>\n",
       "      <td>9051.30</td>\n",
       "      <td>1.3</td>\n",
       "      <td>47.65</td>\n",
       "      <td>521.88</td>\n",
       "      <td>2388.11</td>\n",
       "      <td>8133.64</td>\n",
       "      <td>8.4634</td>\n",
       "      <td>395</td>\n",
       "      <td>38.58</td>\n",
       "      <td>23.2581</td>\n",
       "    </tr>\n",
       "    <tr>\n",
       "      <th>4</th>\n",
       "      <td>642.27</td>\n",
       "      <td>1589.94</td>\n",
       "      <td>1419.36</td>\n",
       "      <td>21.61</td>\n",
       "      <td>553.29</td>\n",
       "      <td>2388.10</td>\n",
       "      <td>9053.99</td>\n",
       "      <td>1.3</td>\n",
       "      <td>47.46</td>\n",
       "      <td>521.00</td>\n",
       "      <td>2388.15</td>\n",
       "      <td>8125.74</td>\n",
       "      <td>8.4362</td>\n",
       "      <td>394</td>\n",
       "      <td>38.75</td>\n",
       "      <td>23.4117</td>\n",
       "    </tr>\n",
       "    <tr>\n",
       "      <th>...</th>\n",
       "      <td>...</td>\n",
       "      <td>...</td>\n",
       "      <td>...</td>\n",
       "      <td>...</td>\n",
       "      <td>...</td>\n",
       "      <td>...</td>\n",
       "      <td>...</td>\n",
       "      <td>...</td>\n",
       "      <td>...</td>\n",
       "      <td>...</td>\n",
       "      <td>...</td>\n",
       "      <td>...</td>\n",
       "      <td>...</td>\n",
       "      <td>...</td>\n",
       "      <td>...</td>\n",
       "      <td>...</td>\n",
       "    </tr>\n",
       "    <tr>\n",
       "      <th>95</th>\n",
       "      <td>642.30</td>\n",
       "      <td>1590.88</td>\n",
       "      <td>1397.94</td>\n",
       "      <td>21.61</td>\n",
       "      <td>553.99</td>\n",
       "      <td>2388.03</td>\n",
       "      <td>9062.41</td>\n",
       "      <td>1.3</td>\n",
       "      <td>47.14</td>\n",
       "      <td>522.30</td>\n",
       "      <td>2388.01</td>\n",
       "      <td>8148.24</td>\n",
       "      <td>8.4110</td>\n",
       "      <td>391</td>\n",
       "      <td>38.96</td>\n",
       "      <td>23.4606</td>\n",
       "    </tr>\n",
       "    <tr>\n",
       "      <th>96</th>\n",
       "      <td>642.59</td>\n",
       "      <td>1582.96</td>\n",
       "      <td>1410.92</td>\n",
       "      <td>21.61</td>\n",
       "      <td>554.05</td>\n",
       "      <td>2388.06</td>\n",
       "      <td>9076.36</td>\n",
       "      <td>1.3</td>\n",
       "      <td>47.38</td>\n",
       "      <td>521.58</td>\n",
       "      <td>2388.06</td>\n",
       "      <td>8155.48</td>\n",
       "      <td>8.4500</td>\n",
       "      <td>395</td>\n",
       "      <td>38.61</td>\n",
       "      <td>23.2953</td>\n",
       "    </tr>\n",
       "    <tr>\n",
       "      <th>97</th>\n",
       "      <td>642.68</td>\n",
       "      <td>1599.51</td>\n",
       "      <td>1415.47</td>\n",
       "      <td>21.61</td>\n",
       "      <td>553.44</td>\n",
       "      <td>2388.13</td>\n",
       "      <td>9062.34</td>\n",
       "      <td>1.3</td>\n",
       "      <td>47.66</td>\n",
       "      <td>521.53</td>\n",
       "      <td>2388.09</td>\n",
       "      <td>8146.39</td>\n",
       "      <td>8.4235</td>\n",
       "      <td>394</td>\n",
       "      <td>38.76</td>\n",
       "      <td>23.3608</td>\n",
       "    </tr>\n",
       "    <tr>\n",
       "      <th>98</th>\n",
       "      <td>642.00</td>\n",
       "      <td>1585.03</td>\n",
       "      <td>1397.98</td>\n",
       "      <td>21.61</td>\n",
       "      <td>554.75</td>\n",
       "      <td>2388.01</td>\n",
       "      <td>9067.16</td>\n",
       "      <td>1.3</td>\n",
       "      <td>47.26</td>\n",
       "      <td>521.82</td>\n",
       "      <td>2388.02</td>\n",
       "      <td>8150.38</td>\n",
       "      <td>8.4003</td>\n",
       "      <td>391</td>\n",
       "      <td>38.95</td>\n",
       "      <td>23.3595</td>\n",
       "    </tr>\n",
       "    <tr>\n",
       "      <th>99</th>\n",
       "      <td>642.95</td>\n",
       "      <td>1601.62</td>\n",
       "      <td>1424.99</td>\n",
       "      <td>21.61</td>\n",
       "      <td>552.48</td>\n",
       "      <td>2388.06</td>\n",
       "      <td>9155.03</td>\n",
       "      <td>1.3</td>\n",
       "      <td>47.80</td>\n",
       "      <td>521.07</td>\n",
       "      <td>2388.05</td>\n",
       "      <td>8214.64</td>\n",
       "      <td>8.4903</td>\n",
       "      <td>396</td>\n",
       "      <td>38.70</td>\n",
       "      <td>23.1855</td>\n",
       "    </tr>\n",
       "  </tbody>\n",
       "</table>\n",
       "<p>100 rows × 16 columns</p>\n",
       "</div>"
      ],
      "text/plain": [
       "       s_2      s_3      s_4    s_6     s_7      s_8      s_9  s_10   s_11  \\\n",
       "0   642.58  1581.22  1398.91  21.61  554.42  2388.08  9056.40   1.3  47.23   \n",
       "1   642.55  1586.59  1410.83  21.61  553.52  2388.10  9044.77   1.3  47.67   \n",
       "2   642.88  1589.75  1418.89  21.61  552.59  2388.16  9049.26   1.3  47.88   \n",
       "3   642.78  1594.53  1406.88  21.61  552.64  2388.13  9051.30   1.3  47.65   \n",
       "4   642.27  1589.94  1419.36  21.61  553.29  2388.10  9053.99   1.3  47.46   \n",
       "..     ...      ...      ...    ...     ...      ...      ...   ...    ...   \n",
       "95  642.30  1590.88  1397.94  21.61  553.99  2388.03  9062.41   1.3  47.14   \n",
       "96  642.59  1582.96  1410.92  21.61  554.05  2388.06  9076.36   1.3  47.38   \n",
       "97  642.68  1599.51  1415.47  21.61  553.44  2388.13  9062.34   1.3  47.66   \n",
       "98  642.00  1585.03  1397.98  21.61  554.75  2388.01  9067.16   1.3  47.26   \n",
       "99  642.95  1601.62  1424.99  21.61  552.48  2388.06  9155.03   1.3  47.80   \n",
       "\n",
       "      s_12     s_13     s_14    s_15  s_17   s_20     s_21  \n",
       "0   521.79  2388.06  8130.11  8.4024   393  38.81  23.3552  \n",
       "1   521.74  2388.09  8126.90  8.4505   391  38.81  23.2618  \n",
       "2   520.83  2388.14  8131.46  8.4119   395  38.93  23.2740  \n",
       "3   521.88  2388.11  8133.64  8.4634   395  38.58  23.2581  \n",
       "4   521.00  2388.15  8125.74  8.4362   394  38.75  23.4117  \n",
       "..     ...      ...      ...     ...   ...    ...      ...  \n",
       "95  522.30  2388.01  8148.24  8.4110   391  38.96  23.4606  \n",
       "96  521.58  2388.06  8155.48  8.4500   395  38.61  23.2953  \n",
       "97  521.53  2388.09  8146.39  8.4235   394  38.76  23.3608  \n",
       "98  521.82  2388.02  8150.38  8.4003   391  38.95  23.3595  \n",
       "99  521.07  2388.05  8214.64  8.4903   396  38.70  23.1855  \n",
       "\n",
       "[100 rows x 16 columns]"
      ]
     },
     "execution_count": 13,
     "metadata": {},
     "output_type": "execute_result"
    }
   ],
   "source": [
    "X_test"
   ]
  },
  {
   "cell_type": "code",
   "execution_count": 14,
   "metadata": {
    "execution": {
     "iopub.execute_input": "2022-08-13T14:02:47.530279Z",
     "iopub.status.busy": "2022-08-13T14:02:47.529890Z",
     "iopub.status.idle": "2022-08-13T14:02:48.801447Z",
     "shell.execute_reply": "2022-08-13T14:02:48.800410Z"
    },
    "papermill": {
     "duration": 1.281005,
     "end_time": "2022-08-13T14:02:48.803776",
     "exception": false,
     "start_time": "2022-08-13T14:02:47.522771",
     "status": "completed"
    },
    "tags": []
   },
   "outputs": [],
   "source": [
    "model = tf.keras.models.Sequential()"
   ]
  },
  {
   "cell_type": "code",
   "execution_count": 15,
   "metadata": {
    "execution": {
     "iopub.execute_input": "2022-08-13T14:02:48.818822Z",
     "iopub.status.busy": "2022-08-13T14:02:48.817258Z",
     "iopub.status.idle": "2022-08-13T14:02:48.832974Z",
     "shell.execute_reply": "2022-08-13T14:02:48.832049Z"
    },
    "papermill": {
     "duration": 0.02585,
     "end_time": "2022-08-13T14:02:48.835536",
     "exception": false,
     "start_time": "2022-08-13T14:02:48.809686",
     "status": "completed"
    },
    "tags": []
   },
   "outputs": [],
   "source": [
    "model.add(tf.keras.layers.Dense(units=500, activation='relu'))\n",
    "# ann2.add(tf.keras.layers.Dense(units=250, activation='relu'))\n",
    "model.add(tf.keras.layers.Dense(units=100, activation='relu'))\n",
    "model.add(tf.keras.layers.Dense(units=50, activation='relu'))\n",
    "model.add(tf.keras.layers.Dense(units=1))"
   ]
  },
  {
   "cell_type": "code",
   "execution_count": 16,
   "metadata": {
    "execution": {
     "iopub.execute_input": "2022-08-13T14:02:48.850200Z",
     "iopub.status.busy": "2022-08-13T14:02:48.849404Z",
     "iopub.status.idle": "2022-08-13T14:02:48.875199Z",
     "shell.execute_reply": "2022-08-13T14:02:48.873812Z"
    },
    "papermill": {
     "duration": 0.036318,
     "end_time": "2022-08-13T14:02:48.878033",
     "exception": false,
     "start_time": "2022-08-13T14:02:48.841715",
     "status": "completed"
    },
    "tags": []
   },
   "outputs": [],
   "source": [
    "model.compile(optimizer = 'adam', loss = 'mean_squared_error')"
   ]
  },
  {
   "cell_type": "code",
   "execution_count": 17,
   "metadata": {
    "execution": {
     "iopub.execute_input": "2022-08-13T14:02:48.892542Z",
     "iopub.status.busy": "2022-08-13T14:02:48.891768Z",
     "iopub.status.idle": "2022-08-13T14:03:06.070994Z",
     "shell.execute_reply": "2022-08-13T14:03:06.069796Z"
    },
    "papermill": {
     "duration": 17.189147,
     "end_time": "2022-08-13T14:03:06.073349",
     "exception": false,
     "start_time": "2022-08-13T14:02:48.884202",
     "status": "completed"
    },
    "tags": []
   },
   "outputs": [
    {
     "name": "stdout",
     "output_type": "stream",
     "text": [
      "Epoch 1/10\n",
      "WARNING:tensorflow:Layer dense is casting an input tensor from dtype float64 to the layer's dtype of float32, which is new behavior in TensorFlow 2.  The layer has dtype float32 because its dtype defaults to floatx.\n",
      "\n",
      "If you intended to run this layer in float32, you can safely ignore this warning. If in doubt, this warning is likely only an issue if you are porting a TensorFlow 1.X model to TensorFlow 2.\n",
      "\n",
      "To change all layers to have dtype float64 by default, call `tf.keras.backend.set_floatx('float64')`. To change just this layer, pass dtype='float64' to the layer constructor. If you are the author of this layer, you can disable autocasting by passing autocast=False to the base Layer constructor.\n",
      "\n",
      "645/645 - 0s - loss: 7146.4424\n",
      "Epoch 2/10\n",
      "645/645 - 0s - loss: 5314.6113\n",
      "Epoch 3/10\n",
      "645/645 - 0s - loss: 5176.8242\n",
      "Epoch 4/10\n",
      "645/645 - 0s - loss: 5043.4946\n",
      "Epoch 5/10\n",
      "645/645 - 0s - loss: 4978.4897\n",
      "Epoch 6/10\n",
      "645/645 - 0s - loss: 4836.4697\n",
      "Epoch 7/10\n",
      "645/645 - 0s - loss: 4823.7129\n",
      "Epoch 8/10\n",
      "645/645 - 0s - loss: 4842.6035\n",
      "Epoch 9/10\n",
      "645/645 - 0s - loss: 4844.0166\n",
      "Epoch 10/10\n",
      "645/645 - 0s - loss: 4847.7842\n"
     ]
    },
    {
     "data": {
      "text/plain": [
       "<tensorflow.python.keras.callbacks.History at 0x200180569a0>"
      ]
     },
     "execution_count": 17,
     "metadata": {},
     "output_type": "execute_result"
    }
   ],
   "source": [
    "model.fit(X_train, y_train ,batch_size = 32, epochs = 10,verbose=2)"
   ]
  },
  {
   "cell_type": "code",
   "execution_count": 18,
   "metadata": {
    "execution": {
     "iopub.execute_input": "2022-08-13T14:03:06.090606Z",
     "iopub.status.busy": "2022-08-13T14:03:06.090199Z",
     "iopub.status.idle": "2022-08-13T14:03:06.255504Z",
     "shell.execute_reply": "2022-08-13T14:03:06.254138Z"
    },
    "papermill": {
     "duration": 0.176764,
     "end_time": "2022-08-13T14:03:06.258314",
     "exception": false,
     "start_time": "2022-08-13T14:03:06.081550",
     "status": "completed"
    },
    "tags": []
   },
   "outputs": [],
   "source": [
    "model_pred = model.predict(X_test)"
   ]
  },
  {
   "cell_type": "code",
   "execution_count": 19,
   "metadata": {
    "execution": {
     "iopub.execute_input": "2022-08-13T14:03:06.276044Z",
     "iopub.status.busy": "2022-08-13T14:03:06.274795Z",
     "iopub.status.idle": "2022-08-13T14:03:06.279654Z",
     "shell.execute_reply": "2022-08-13T14:03:06.278826Z"
    },
    "papermill": {
     "duration": 0.015938,
     "end_time": "2022-08-13T14:03:06.281908",
     "exception": false,
     "start_time": "2022-08-13T14:03:06.265970",
     "status": "completed"
    },
    "tags": []
   },
   "outputs": [],
   "source": [
    "from sklearn.metrics import r2_score"
   ]
  },
  {
   "cell_type": "code",
   "execution_count": 20,
   "metadata": {
    "execution": {
     "iopub.execute_input": "2022-08-13T14:03:06.299333Z",
     "iopub.status.busy": "2022-08-13T14:03:06.298593Z",
     "iopub.status.idle": "2022-08-13T14:03:06.306839Z",
     "shell.execute_reply": "2022-08-13T14:03:06.305686Z"
    },
    "papermill": {
     "duration": 0.019767,
     "end_time": "2022-08-13T14:03:06.309286",
     "exception": false,
     "start_time": "2022-08-13T14:03:06.289519",
     "status": "completed"
    },
    "tags": []
   },
   "outputs": [
    {
     "data": {
      "text/plain": [
       "-0.3353723546752505"
      ]
     },
     "execution_count": 20,
     "metadata": {},
     "output_type": "execute_result"
    }
   ],
   "source": [
    "r2_score(y_test,model_pred)"
   ]
  },
  {
   "cell_type": "code",
   "execution_count": 21,
   "metadata": {
    "papermill": {
     "duration": 0.007172,
     "end_time": "2022-08-13T14:03:06.324052",
     "exception": false,
     "start_time": "2022-08-13T14:03:06.316880",
     "status": "completed"
    },
    "tags": []
   },
   "outputs": [
    {
     "name": "stdout",
     "output_type": "stream",
     "text": [
      "RMSE:  48.02097379238688\n"
     ]
    }
   ],
   "source": [
    "from sklearn.metrics import mean_squared_error\n",
    "RMSE = np.sqrt(mean_squared_error(y_test,model_pred))\n",
    "print(\"RMSE: \", RMSE)"
   ]
  },
  {
   "cell_type": "code",
   "execution_count": 22,
   "metadata": {},
   "outputs": [
    {
     "name": "stdout",
     "output_type": "stream",
     "text": [
      "Model: \"sequential\"\n",
      "_________________________________________________________________\n",
      "Layer (type)                 Output Shape              Param #   \n",
      "=================================================================\n",
      "dense (Dense)                (None, 500)               8500      \n",
      "_________________________________________________________________\n",
      "dense_1 (Dense)              (None, 100)               50100     \n",
      "_________________________________________________________________\n",
      "dense_2 (Dense)              (None, 50)                5050      \n",
      "_________________________________________________________________\n",
      "dense_3 (Dense)              (None, 1)                 51        \n",
      "=================================================================\n",
      "Total params: 63,701\n",
      "Trainable params: 63,701\n",
      "Non-trainable params: 0\n",
      "_________________________________________________________________\n"
     ]
    }
   ],
   "source": [
    "model.summary()"
   ]
  },
  {
   "cell_type": "code",
   "execution_count": null,
   "metadata": {},
   "outputs": [],
   "source": []
  }
 ],
 "metadata": {
  "kernelspec": {
   "display_name": "Python 3",
   "language": "python",
   "name": "python3"
  },
  "language_info": {
   "codemirror_mode": {
    "name": "ipython",
    "version": 3
   },
   "file_extension": ".py",
   "mimetype": "text/x-python",
   "name": "python",
   "nbconvert_exporter": "python",
   "pygments_lexer": "ipython3",
   "version": "3.8.5"
  },
  "papermill": {
   "default_parameters": {},
   "duration": 38.252424,
   "end_time": "2022-08-13T14:03:09.011663",
   "environment_variables": {},
   "exception": null,
   "input_path": "__notebook__.ipynb",
   "output_path": "__notebook__.ipynb",
   "parameters": {},
   "start_time": "2022-08-13T14:02:30.759239",
   "version": "2.3.4"
  }
 },
 "nbformat": 4,
 "nbformat_minor": 5
}
